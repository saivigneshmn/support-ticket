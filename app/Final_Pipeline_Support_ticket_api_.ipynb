{
  "nbformat": 4,
  "nbformat_minor": 0,
  "metadata": {
    "colab": {
      "provenance": [],
      "gpuType": "T4",
      "authorship_tag": "ABX9TyN+3BZ9D3EBKpnZ5W9hzJ7k",
      "include_colab_link": true
    },
    "kernelspec": {
      "name": "python3",
      "display_name": "Python 3"
    },
    "language_info": {
      "name": "python"
    },
    "accelerator": "GPU"
  },
  "cells": [
    {
      "cell_type": "markdown",
      "metadata": {
        "id": "view-in-github",
        "colab_type": "text"
      },
      "source": [
        "<a href=\"https://colab.research.google.com/github/saivigneshmn/support-ticket/blob/main/app/Final_Pipeline_Support_ticket_api_.ipynb\" target=\"_parent\"><img src=\"https://colab.research.google.com/assets/colab-badge.svg\" alt=\"Open In Colab\"/></a>"
      ]
    },
    {
      "cell_type": "code",
      "source": [
        "import pandas as pd\n",
        "import numpy as np\n",
        "from sklearn.model_selection import train_test_split\n",
        "from sklearn.feature_extraction.text import TfidfVectorizer\n",
        "from sklearn.naive_bayes import MultinomialNB\n",
        "from sklearn.metrics import classification_report, accuracy_score\n",
        "import nltk\n",
        "from nltk.corpus import stopwords\n",
        "import re\n",
        "nltk.download('stopwords')"
      ],
      "metadata": {
        "colab": {
          "base_uri": "https://localhost:8080/"
        },
        "collapsed": true,
        "id": "NVhvG1VIQ_JK",
        "outputId": "e4666089-70aa-43af-af3f-df804e421821"
      },
      "execution_count": null,
      "outputs": [
        {
          "output_type": "stream",
          "name": "stderr",
          "text": [
            "[nltk_data] Downloading package stopwords to /root/nltk_data...\n",
            "[nltk_data]   Package stopwords is already up-to-date!\n"
          ]
        },
        {
          "output_type": "execute_result",
          "data": {
            "text/plain": [
              "True"
            ]
          },
          "metadata": {},
          "execution_count": 30
        }
      ]
    },
    {
      "cell_type": "code",
      "execution_count": null,
      "metadata": {
        "colab": {
          "base_uri": "https://localhost:8080/",
          "height": 469
        },
        "id": "X9S48SDvQHSn",
        "outputId": "f58c73dd-e22a-4b91-9390-4aeae0042351"
      },
      "outputs": [
        {
          "output_type": "execute_result",
          "data": {
            "text/plain": [
              "              id                                            subject  \\\n",
              "0  1001352387736  Urgent: Critical impact on enterprise network ...   \n",
              "1  1004699418379     Intermittent Cursor Freezing Issue on Dell XPS   \n",
              "2  1006966905046  Dringend: Unterstützung für die Datenwiederher...   \n",
              "3  1009231330404           Anfrage zu den MacBook Air M1 Funktionen   \n",
              "4  1024440081041  Solicitação de Assistência com Erro de Instala...   \n",
              "\n",
              "                                                body  \\\n",
              "0  Dear Customer Support Team, We are experiencin...   \n",
              "1  Dear Customer Support,<br><br>I hope this mess...   \n",
              "2  Hallo, wir haben severe Datenverluste in MySQL...   \n",
              "3  Sehr geehrtes Kundenserviceteam,\\n\\nich hoffe,...   \n",
              "4  Caro Suporte ao Cliente,\\n\\nEstou enfrentando ...   \n",
              "\n",
              "                                              answer      type  \\\n",
              "0  Subject: Re: Urgent: Critical impact on enterp...  Incident   \n",
              "1  Dear <name>,\\n\\nThank you for reaching out reg...  Incident   \n",
              "2  Hallo, vielen Dank, dass Sie uns kontaktiert h...  Incident   \n",
              "3  Sehr geehrter <name>,\\n\\nvielen Dank für Ihre ...   Request   \n",
              "4  Caro <name>,\\n\\nObrigado por entrar em contato...   Problem   \n",
              "\n",
              "                 queue priority language      business_type  \\\n",
              "0    Technical Support     high       en        IT Services   \n",
              "1      Product Support      low       en  Tech Online Store   \n",
              "2    Technical Support     high       de        IT Services   \n",
              "3  Sales and Pre-Sales      low       de  Tech Online Store   \n",
              "4    Technical Support   medium       pt        IT Services   \n",
              "\n",
              "               tag_1            tag_2              tag_3               tag_4  \\\n",
              "0     Service Outage    Network Issue       Urgent Issue   Technical Support   \n",
              "1  Technical Support  Product Support   Hardware Failure  Problem Resolution   \n",
              "2        Data Breach   Backup Restore  Technical Support        Urgent Issue   \n",
              "3   Customer Service  Product Support      Sales Inquiry  Technical Guidance   \n",
              "4  Technical Support     Software Bug       Urgent Issue  Problem Resolution   \n",
              "\n",
              "                tag_5               tag_6                  tag_7  \\\n",
              "0  Problem Resolution    Critical Failure           System Crash   \n",
              "1        Urgent Issue    Service Recovery  Documentation Request   \n",
              "2        Software Bug  Problem Resolution                    NaN   \n",
              "3      Warranty Claim     General Inquiry                    NaN   \n",
              "4     Product Support                 NaN                    NaN   \n",
              "\n",
              "                tag_8  tag_9  \n",
              "0  Service Disruption    NaN  \n",
              "1                 NaN    NaN  \n",
              "2                 NaN    NaN  \n",
              "3                 NaN    NaN  \n",
              "4                 NaN    NaN  "
            ],
            "text/html": [
              "\n",
              "  <div id=\"df-49e63107-7225-4480-9c96-7b50204c1781\" class=\"colab-df-container\">\n",
              "    <div>\n",
              "<style scoped>\n",
              "    .dataframe tbody tr th:only-of-type {\n",
              "        vertical-align: middle;\n",
              "    }\n",
              "\n",
              "    .dataframe tbody tr th {\n",
              "        vertical-align: top;\n",
              "    }\n",
              "\n",
              "    .dataframe thead th {\n",
              "        text-align: right;\n",
              "    }\n",
              "</style>\n",
              "<table border=\"1\" class=\"dataframe\">\n",
              "  <thead>\n",
              "    <tr style=\"text-align: right;\">\n",
              "      <th></th>\n",
              "      <th>id</th>\n",
              "      <th>subject</th>\n",
              "      <th>body</th>\n",
              "      <th>answer</th>\n",
              "      <th>type</th>\n",
              "      <th>queue</th>\n",
              "      <th>priority</th>\n",
              "      <th>language</th>\n",
              "      <th>business_type</th>\n",
              "      <th>tag_1</th>\n",
              "      <th>tag_2</th>\n",
              "      <th>tag_3</th>\n",
              "      <th>tag_4</th>\n",
              "      <th>tag_5</th>\n",
              "      <th>tag_6</th>\n",
              "      <th>tag_7</th>\n",
              "      <th>tag_8</th>\n",
              "      <th>tag_9</th>\n",
              "    </tr>\n",
              "  </thead>\n",
              "  <tbody>\n",
              "    <tr>\n",
              "      <th>0</th>\n",
              "      <td>1001352387736</td>\n",
              "      <td>Urgent: Critical impact on enterprise network ...</td>\n",
              "      <td>Dear Customer Support Team, We are experiencin...</td>\n",
              "      <td>Subject: Re: Urgent: Critical impact on enterp...</td>\n",
              "      <td>Incident</td>\n",
              "      <td>Technical Support</td>\n",
              "      <td>high</td>\n",
              "      <td>en</td>\n",
              "      <td>IT Services</td>\n",
              "      <td>Service Outage</td>\n",
              "      <td>Network Issue</td>\n",
              "      <td>Urgent Issue</td>\n",
              "      <td>Technical Support</td>\n",
              "      <td>Problem Resolution</td>\n",
              "      <td>Critical Failure</td>\n",
              "      <td>System Crash</td>\n",
              "      <td>Service Disruption</td>\n",
              "      <td>NaN</td>\n",
              "    </tr>\n",
              "    <tr>\n",
              "      <th>1</th>\n",
              "      <td>1004699418379</td>\n",
              "      <td>Intermittent Cursor Freezing Issue on Dell XPS</td>\n",
              "      <td>Dear Customer Support,&lt;br&gt;&lt;br&gt;I hope this mess...</td>\n",
              "      <td>Dear &lt;name&gt;,\\n\\nThank you for reaching out reg...</td>\n",
              "      <td>Incident</td>\n",
              "      <td>Product Support</td>\n",
              "      <td>low</td>\n",
              "      <td>en</td>\n",
              "      <td>Tech Online Store</td>\n",
              "      <td>Technical Support</td>\n",
              "      <td>Product Support</td>\n",
              "      <td>Hardware Failure</td>\n",
              "      <td>Problem Resolution</td>\n",
              "      <td>Urgent Issue</td>\n",
              "      <td>Service Recovery</td>\n",
              "      <td>Documentation Request</td>\n",
              "      <td>NaN</td>\n",
              "      <td>NaN</td>\n",
              "    </tr>\n",
              "    <tr>\n",
              "      <th>2</th>\n",
              "      <td>1006966905046</td>\n",
              "      <td>Dringend: Unterstützung für die Datenwiederher...</td>\n",
              "      <td>Hallo, wir haben severe Datenverluste in MySQL...</td>\n",
              "      <td>Hallo, vielen Dank, dass Sie uns kontaktiert h...</td>\n",
              "      <td>Incident</td>\n",
              "      <td>Technical Support</td>\n",
              "      <td>high</td>\n",
              "      <td>de</td>\n",
              "      <td>IT Services</td>\n",
              "      <td>Data Breach</td>\n",
              "      <td>Backup Restore</td>\n",
              "      <td>Technical Support</td>\n",
              "      <td>Urgent Issue</td>\n",
              "      <td>Software Bug</td>\n",
              "      <td>Problem Resolution</td>\n",
              "      <td>NaN</td>\n",
              "      <td>NaN</td>\n",
              "      <td>NaN</td>\n",
              "    </tr>\n",
              "    <tr>\n",
              "      <th>3</th>\n",
              "      <td>1009231330404</td>\n",
              "      <td>Anfrage zu den MacBook Air M1 Funktionen</td>\n",
              "      <td>Sehr geehrtes Kundenserviceteam,\\n\\nich hoffe,...</td>\n",
              "      <td>Sehr geehrter &lt;name&gt;,\\n\\nvielen Dank für Ihre ...</td>\n",
              "      <td>Request</td>\n",
              "      <td>Sales and Pre-Sales</td>\n",
              "      <td>low</td>\n",
              "      <td>de</td>\n",
              "      <td>Tech Online Store</td>\n",
              "      <td>Customer Service</td>\n",
              "      <td>Product Support</td>\n",
              "      <td>Sales Inquiry</td>\n",
              "      <td>Technical Guidance</td>\n",
              "      <td>Warranty Claim</td>\n",
              "      <td>General Inquiry</td>\n",
              "      <td>NaN</td>\n",
              "      <td>NaN</td>\n",
              "      <td>NaN</td>\n",
              "    </tr>\n",
              "    <tr>\n",
              "      <th>4</th>\n",
              "      <td>1024440081041</td>\n",
              "      <td>Solicitação de Assistência com Erro de Instala...</td>\n",
              "      <td>Caro Suporte ao Cliente,\\n\\nEstou enfrentando ...</td>\n",
              "      <td>Caro &lt;name&gt;,\\n\\nObrigado por entrar em contato...</td>\n",
              "      <td>Problem</td>\n",
              "      <td>Technical Support</td>\n",
              "      <td>medium</td>\n",
              "      <td>pt</td>\n",
              "      <td>IT Services</td>\n",
              "      <td>Technical Support</td>\n",
              "      <td>Software Bug</td>\n",
              "      <td>Urgent Issue</td>\n",
              "      <td>Problem Resolution</td>\n",
              "      <td>Product Support</td>\n",
              "      <td>NaN</td>\n",
              "      <td>NaN</td>\n",
              "      <td>NaN</td>\n",
              "      <td>NaN</td>\n",
              "    </tr>\n",
              "  </tbody>\n",
              "</table>\n",
              "</div>\n",
              "    <div class=\"colab-df-buttons\">\n",
              "\n",
              "  <div class=\"colab-df-container\">\n",
              "    <button class=\"colab-df-convert\" onclick=\"convertToInteractive('df-49e63107-7225-4480-9c96-7b50204c1781')\"\n",
              "            title=\"Convert this dataframe to an interactive table.\"\n",
              "            style=\"display:none;\">\n",
              "\n",
              "  <svg xmlns=\"http://www.w3.org/2000/svg\" height=\"24px\" viewBox=\"0 -960 960 960\">\n",
              "    <path d=\"M120-120v-720h720v720H120Zm60-500h600v-160H180v160Zm220 220h160v-160H400v160Zm0 220h160v-160H400v160ZM180-400h160v-160H180v160Zm440 0h160v-160H620v160ZM180-180h160v-160H180v160Zm440 0h160v-160H620v160Z\"/>\n",
              "  </svg>\n",
              "    </button>\n",
              "\n",
              "  <style>\n",
              "    .colab-df-container {\n",
              "      display:flex;\n",
              "      gap: 12px;\n",
              "    }\n",
              "\n",
              "    .colab-df-convert {\n",
              "      background-color: #E8F0FE;\n",
              "      border: none;\n",
              "      border-radius: 50%;\n",
              "      cursor: pointer;\n",
              "      display: none;\n",
              "      fill: #1967D2;\n",
              "      height: 32px;\n",
              "      padding: 0 0 0 0;\n",
              "      width: 32px;\n",
              "    }\n",
              "\n",
              "    .colab-df-convert:hover {\n",
              "      background-color: #E2EBFA;\n",
              "      box-shadow: 0px 1px 2px rgba(60, 64, 67, 0.3), 0px 1px 3px 1px rgba(60, 64, 67, 0.15);\n",
              "      fill: #174EA6;\n",
              "    }\n",
              "\n",
              "    .colab-df-buttons div {\n",
              "      margin-bottom: 4px;\n",
              "    }\n",
              "\n",
              "    [theme=dark] .colab-df-convert {\n",
              "      background-color: #3B4455;\n",
              "      fill: #D2E3FC;\n",
              "    }\n",
              "\n",
              "    [theme=dark] .colab-df-convert:hover {\n",
              "      background-color: #434B5C;\n",
              "      box-shadow: 0px 1px 3px 1px rgba(0, 0, 0, 0.15);\n",
              "      filter: drop-shadow(0px 1px 2px rgba(0, 0, 0, 0.3));\n",
              "      fill: #FFFFFF;\n",
              "    }\n",
              "  </style>\n",
              "\n",
              "    <script>\n",
              "      const buttonEl =\n",
              "        document.querySelector('#df-49e63107-7225-4480-9c96-7b50204c1781 button.colab-df-convert');\n",
              "      buttonEl.style.display =\n",
              "        google.colab.kernel.accessAllowed ? 'block' : 'none';\n",
              "\n",
              "      async function convertToInteractive(key) {\n",
              "        const element = document.querySelector('#df-49e63107-7225-4480-9c96-7b50204c1781');\n",
              "        const dataTable =\n",
              "          await google.colab.kernel.invokeFunction('convertToInteractive',\n",
              "                                                    [key], {});\n",
              "        if (!dataTable) return;\n",
              "\n",
              "        const docLinkHtml = 'Like what you see? Visit the ' +\n",
              "          '<a target=\"_blank\" href=https://colab.research.google.com/notebooks/data_table.ipynb>data table notebook</a>'\n",
              "          + ' to learn more about interactive tables.';\n",
              "        element.innerHTML = '';\n",
              "        dataTable['output_type'] = 'display_data';\n",
              "        await google.colab.output.renderOutput(dataTable, element);\n",
              "        const docLink = document.createElement('div');\n",
              "        docLink.innerHTML = docLinkHtml;\n",
              "        element.appendChild(docLink);\n",
              "      }\n",
              "    </script>\n",
              "  </div>\n",
              "\n",
              "\n",
              "<div id=\"df-5e37c7a2-8ba5-461c-a95a-d447d5514b97\">\n",
              "  <button class=\"colab-df-quickchart\" onclick=\"quickchart('df-5e37c7a2-8ba5-461c-a95a-d447d5514b97')\"\n",
              "            title=\"Suggest charts\"\n",
              "            style=\"display:none;\">\n",
              "\n",
              "<svg xmlns=\"http://www.w3.org/2000/svg\" height=\"24px\"viewBox=\"0 0 24 24\"\n",
              "     width=\"24px\">\n",
              "    <g>\n",
              "        <path d=\"M19 3H5c-1.1 0-2 .9-2 2v14c0 1.1.9 2 2 2h14c1.1 0 2-.9 2-2V5c0-1.1-.9-2-2-2zM9 17H7v-7h2v7zm4 0h-2V7h2v10zm4 0h-2v-4h2v4z\"/>\n",
              "    </g>\n",
              "</svg>\n",
              "  </button>\n",
              "\n",
              "<style>\n",
              "  .colab-df-quickchart {\n",
              "      --bg-color: #E8F0FE;\n",
              "      --fill-color: #1967D2;\n",
              "      --hover-bg-color: #E2EBFA;\n",
              "      --hover-fill-color: #174EA6;\n",
              "      --disabled-fill-color: #AAA;\n",
              "      --disabled-bg-color: #DDD;\n",
              "  }\n",
              "\n",
              "  [theme=dark] .colab-df-quickchart {\n",
              "      --bg-color: #3B4455;\n",
              "      --fill-color: #D2E3FC;\n",
              "      --hover-bg-color: #434B5C;\n",
              "      --hover-fill-color: #FFFFFF;\n",
              "      --disabled-bg-color: #3B4455;\n",
              "      --disabled-fill-color: #666;\n",
              "  }\n",
              "\n",
              "  .colab-df-quickchart {\n",
              "    background-color: var(--bg-color);\n",
              "    border: none;\n",
              "    border-radius: 50%;\n",
              "    cursor: pointer;\n",
              "    display: none;\n",
              "    fill: var(--fill-color);\n",
              "    height: 32px;\n",
              "    padding: 0;\n",
              "    width: 32px;\n",
              "  }\n",
              "\n",
              "  .colab-df-quickchart:hover {\n",
              "    background-color: var(--hover-bg-color);\n",
              "    box-shadow: 0 1px 2px rgba(60, 64, 67, 0.3), 0 1px 3px 1px rgba(60, 64, 67, 0.15);\n",
              "    fill: var(--button-hover-fill-color);\n",
              "  }\n",
              "\n",
              "  .colab-df-quickchart-complete:disabled,\n",
              "  .colab-df-quickchart-complete:disabled:hover {\n",
              "    background-color: var(--disabled-bg-color);\n",
              "    fill: var(--disabled-fill-color);\n",
              "    box-shadow: none;\n",
              "  }\n",
              "\n",
              "  .colab-df-spinner {\n",
              "    border: 2px solid var(--fill-color);\n",
              "    border-color: transparent;\n",
              "    border-bottom-color: var(--fill-color);\n",
              "    animation:\n",
              "      spin 1s steps(1) infinite;\n",
              "  }\n",
              "\n",
              "  @keyframes spin {\n",
              "    0% {\n",
              "      border-color: transparent;\n",
              "      border-bottom-color: var(--fill-color);\n",
              "      border-left-color: var(--fill-color);\n",
              "    }\n",
              "    20% {\n",
              "      border-color: transparent;\n",
              "      border-left-color: var(--fill-color);\n",
              "      border-top-color: var(--fill-color);\n",
              "    }\n",
              "    30% {\n",
              "      border-color: transparent;\n",
              "      border-left-color: var(--fill-color);\n",
              "      border-top-color: var(--fill-color);\n",
              "      border-right-color: var(--fill-color);\n",
              "    }\n",
              "    40% {\n",
              "      border-color: transparent;\n",
              "      border-right-color: var(--fill-color);\n",
              "      border-top-color: var(--fill-color);\n",
              "    }\n",
              "    60% {\n",
              "      border-color: transparent;\n",
              "      border-right-color: var(--fill-color);\n",
              "    }\n",
              "    80% {\n",
              "      border-color: transparent;\n",
              "      border-right-color: var(--fill-color);\n",
              "      border-bottom-color: var(--fill-color);\n",
              "    }\n",
              "    90% {\n",
              "      border-color: transparent;\n",
              "      border-bottom-color: var(--fill-color);\n",
              "    }\n",
              "  }\n",
              "</style>\n",
              "\n",
              "  <script>\n",
              "    async function quickchart(key) {\n",
              "      const quickchartButtonEl =\n",
              "        document.querySelector('#' + key + ' button');\n",
              "      quickchartButtonEl.disabled = true;  // To prevent multiple clicks.\n",
              "      quickchartButtonEl.classList.add('colab-df-spinner');\n",
              "      try {\n",
              "        const charts = await google.colab.kernel.invokeFunction(\n",
              "            'suggestCharts', [key], {});\n",
              "      } catch (error) {\n",
              "        console.error('Error during call to suggestCharts:', error);\n",
              "      }\n",
              "      quickchartButtonEl.classList.remove('colab-df-spinner');\n",
              "      quickchartButtonEl.classList.add('colab-df-quickchart-complete');\n",
              "    }\n",
              "    (() => {\n",
              "      let quickchartButtonEl =\n",
              "        document.querySelector('#df-5e37c7a2-8ba5-461c-a95a-d447d5514b97 button');\n",
              "      quickchartButtonEl.style.display =\n",
              "        google.colab.kernel.accessAllowed ? 'block' : 'none';\n",
              "    })();\n",
              "  </script>\n",
              "</div>\n",
              "\n",
              "    </div>\n",
              "  </div>\n"
            ],
            "application/vnd.google.colaboratory.intrinsic+json": {
              "type": "dataframe",
              "variable_name": "df",
              "summary": "{\n  \"name\": \"df\",\n  \"rows\": 1566,\n  \"fields\": [\n    {\n      \"column\": \"id\",\n      \"properties\": {\n        \"dtype\": \"number\",\n        \"std\": 2627746046377,\n        \"min\": 1001352387736,\n        \"max\": 9998324647529,\n        \"num_unique_values\": 1566,\n        \"samples\": [\n          3044473073723,\n          2014395366041,\n          9686601956525\n        ],\n        \"semantic_type\": \"\",\n        \"description\": \"\"\n      }\n    },\n    {\n      \"column\": \"subject\",\n      \"properties\": {\n        \"dtype\": \"string\",\n        \"num_unique_values\": 1565,\n        \"samples\": [\n          \"Request for Server Consultation\",\n          \"Intermittent Network Issues\",\n          \"Problema con el enrutador Cisco ISR4331\"\n        ],\n        \"semantic_type\": \"\",\n        \"description\": \"\"\n      }\n    },\n    {\n      \"column\": \"body\",\n      \"properties\": {\n        \"dtype\": \"string\",\n        \"num_unique_values\": 1565,\n        \"samples\": [\n          \"Dear Customer Support,\\n\\nI am writing to request a consultation regarding server administration. Specifically, I need assistance with understanding software updates and maintenance schedules related to your IT Consulting Service. Your expertise in this area is greatly appreciated.\\n\\nThank you,\\n<name>\",\n          \"Dear Customer Support Team,\\n\\nI hope this message finds you well. I am writing to bring to your attention a critical issue we are experiencing at our enterprise. We've been encountering intermittent network connectivity problems with our Cisco Router ISR4331. These disruptions have been ongoing and are significantly impacting our productivity and overall performance. The nature of the issue seems to suggest that the router periodically fails to maintain a stable connection, which in turn limits our capacity to effectively execute important tasks that depend on consistent network access.\\n\\nOur network plays a crucial role in day-to-day operations, and any downtime translates directly into loss of time and resources. Given the pivotal function of the Cisco Router ISR4331 in our network architecture, resolving this problem is of paramount importance to us. We kindly request your immediate assistance to diagnose and rectify these connectivity issues. If needed, please feel free to reach out to our technical lead, <name>, at <tel_num>.\\n\\nWe appreciate your prompt attention to this matter and look forward to a quick resolution. Thank you for your support.\\n\\nKind regards,\\n\\n<name>\\n<company-name>\\n<acc_num>\",\n          \"Estimado Servicio de Atenci\\u00f3n al Cliente, nuestro enrutador Cisco ISR4331 no est\\u00e1 funcionando, lo que afecta gravemente la conectividad a internet durante las horas pico de trabajo. Se requiere asistencia inmediata para resolver este problema. Gracias, <name>.\"\n        ],\n        \"semantic_type\": \"\",\n        \"description\": \"\"\n      }\n    },\n    {\n      \"column\": \"answer\",\n      \"properties\": {\n        \"dtype\": \"string\",\n        \"num_unique_values\": 1566,\n        \"samples\": [\n          \"Caro <name>,\\n\\nObrigado por entrar em contato sobre o problema da tela sens\\u00edvel ao toque com seu Microsoft Surface Pro 7. Para resolver isso, por favor, tente os seguintes passos: \\n\\n1. Reinicie seu dispositivo para atualizar o sistema.\\n2. Verifique se h\\u00e1 atualiza\\u00e7\\u00f5es do Windows dispon\\u00edveis e instale-as.\\n3. Calibre a tela sens\\u00edvel ao toque em Configura\\u00e7\\u00f5es > Dispositivos > Caneta e Windows Ink.\\n4. Execute a ferramenta de solu\\u00e7\\u00e3o de problemas de hardware para problemas de tela sens\\u00edvel ao toque.\\n\\nSe o problema persistir, por favor, nos avise para que possamos ajud\\u00e1-lo ainda mais. Agradecemos sua paci\\u00eancia e compreens\\u00e3o.\\n\\nAtenciosamente,\\nSuporte ao Cliente\",\n          \"Dear <name>,\\n\\nThank you for bringing the issues with your ticket system to our attention. We understand the urgency and impact it has on your operations. Our technical support team will prioritize your request and work to address the problems of crashes, ticket duplication, and data misalignment as soon as possible.\\n\\nPlease send us any specific logs or additional details to assist in diagnosing the issue effectively. We will keep you updated with our progress and try to resolve the errors swiftly to minimize disruption to your services.\\n\\nYou can expect a follow-up from us shortly. Should you need immediate assistance or have further queries, feel free to reach out.\\n\\nThank you for your patience and cooperation.\\n\\nBest regards,\\nIT Services Customer Support Team\",\n          \"Sujet : Re : Demande d'\\u00e9change Canon PIXMA MG3620\\n\\nCher <name>,\\n\\nMerci de nous avoir contact\\u00e9s concernant les probl\\u00e8mes avec votre imprimante Canon PIXMA MG3620. Nous nous excusons pour les d\\u00e9sagr\\u00e9ments que cela a caus\\u00e9s. Pour proc\\u00e9der \\u00e0 l'\\u00e9change, veuillez vous assurer que l'imprimante est dans son emballage d'origine avec tous les accessoires inclus. Notre \\u00e9quipe initiera l'\\u00e9change une fois l'imprimante retourn\\u00e9e et inspect\\u00e9e. Vous pouvez utiliser l'\\u00e9tiquette de retour fournie dans l'emballage pour renvoyer l'imprimante.\\n\\nSi vous avez d'autres questions ou besoin d'une assistance suppl\\u00e9mentaire, n'h\\u00e9sitez pas \\u00e0 nous contacter en utilisant les informations de support client sur notre site web. Nous visons \\u00e0 r\\u00e9soudre ce probl\\u00e8me rapidement pour vous.\\n\\nMerci pour votre patience et votre compr\\u00e9hension.\\n\\nCordialement,\\nLe support client du magasin en ligne Tech\"\n        ],\n        \"semantic_type\": \"\",\n        \"description\": \"\"\n      }\n    },\n    {\n      \"column\": \"type\",\n      \"properties\": {\n        \"dtype\": \"category\",\n        \"num_unique_values\": 4,\n        \"samples\": [\n          \"Request\",\n          \"Change\",\n          \"Incident\"\n        ],\n        \"semantic_type\": \"\",\n        \"description\": \"\"\n      }\n    },\n    {\n      \"column\": \"queue\",\n      \"properties\": {\n        \"dtype\": \"category\",\n        \"num_unique_values\": 10,\n        \"samples\": [\n          \"Human Resources\",\n          \"Product Support\",\n          \"Billing and Payments\"\n        ],\n        \"semantic_type\": \"\",\n        \"description\": \"\"\n      }\n    },\n    {\n      \"column\": \"priority\",\n      \"properties\": {\n        \"dtype\": \"category\",\n        \"num_unique_values\": 3,\n        \"samples\": [\n          \"high\",\n          \"low\",\n          \"medium\"\n        ],\n        \"semantic_type\": \"\",\n        \"description\": \"\"\n      }\n    },\n    {\n      \"column\": \"language\",\n      \"properties\": {\n        \"dtype\": \"category\",\n        \"num_unique_values\": 5,\n        \"samples\": [\n          \"de\",\n          \"fr\",\n          \"pt\"\n        ],\n        \"semantic_type\": \"\",\n        \"description\": \"\"\n      }\n    },\n    {\n      \"column\": \"business_type\",\n      \"properties\": {\n        \"dtype\": \"category\",\n        \"num_unique_values\": 5,\n        \"samples\": [\n          \"Tech Online Store\",\n          \"IT Consulting Service\",\n          \"IT Consulting Firm\"\n        ],\n        \"semantic_type\": \"\",\n        \"description\": \"\"\n      }\n    },\n    {\n      \"column\": \"tag_1\",\n      \"properties\": {\n        \"dtype\": \"category\",\n        \"num_unique_values\": 25,\n        \"samples\": [\n          \"IT Support\",\n          \"Sales Inquiry\",\n          \"Service Outage\"\n        ],\n        \"semantic_type\": \"\",\n        \"description\": \"\"\n      }\n    },\n    {\n      \"column\": \"tag_2\",\n      \"properties\": {\n        \"dtype\": \"category\",\n        \"num_unique_values\": 38,\n        \"samples\": [\n          \"Billing Issue\",\n          \"Email Support\",\n          \"Product Replacement\"\n        ],\n        \"semantic_type\": \"\",\n        \"description\": \"\"\n      }\n    },\n    {\n      \"column\": \"tag_3\",\n      \"properties\": {\n        \"dtype\": \"category\",\n        \"num_unique_values\": 54,\n        \"samples\": [\n          \"Incident Report\",\n          \"Database Issue\",\n          \"Customer Feedback\"\n        ],\n        \"semantic_type\": \"\",\n        \"description\": \"\"\n      }\n    },\n    {\n      \"column\": \"tag_4\",\n      \"properties\": {\n        \"dtype\": \"category\",\n        \"num_unique_values\": 63,\n        \"samples\": [\n          \"Consulting Services\",\n          \"Email Issue\",\n          \"Technical Support\"\n        ],\n        \"semantic_type\": \"\",\n        \"description\": \"\"\n      }\n    },\n    {\n      \"column\": \"tag_5\",\n      \"properties\": {\n        \"dtype\": \"category\",\n        \"num_unique_values\": 62,\n        \"samples\": [\n          \"Microsoft Excel\",\n          \"Overheating Issue\",\n          \"Problem Resolution\"\n        ],\n        \"semantic_type\": \"\",\n        \"description\": \"\"\n      }\n    },\n    {\n      \"column\": \"tag_6\",\n      \"properties\": {\n        \"dtype\": \"category\",\n        \"num_unique_values\": 56,\n        \"samples\": [\n          \"Critical Failure\",\n          \"Technical Guidance\",\n          \"Cloud Services\"\n        ],\n        \"semantic_type\": \"\",\n        \"description\": \"\"\n      }\n    },\n    {\n      \"column\": \"tag_7\",\n      \"properties\": {\n        \"dtype\": \"category\",\n        \"num_unique_values\": 42,\n        \"samples\": [\n          \"Routine Request\",\n          \"Customer Service\",\n          \"Service Notification\"\n        ],\n        \"semantic_type\": \"\",\n        \"description\": \"\"\n      }\n    },\n    {\n      \"column\": \"tag_8\",\n      \"properties\": {\n        \"dtype\": \"category\",\n        \"num_unique_values\": 31,\n        \"samples\": [\n          \"System Crash\",\n          \"Incident Report\",\n          \"Optimization Request\"\n        ],\n        \"semantic_type\": \"\",\n        \"description\": \"\"\n      }\n    },\n    {\n      \"column\": \"tag_9\",\n      \"properties\": {\n        \"dtype\": \"number\",\n        \"std\": null,\n        \"min\": null,\n        \"max\": null,\n        \"num_unique_values\": 0,\n        \"samples\": [],\n        \"semantic_type\": \"\",\n        \"description\": \"\"\n      }\n    }\n  ]\n}"
            }
          },
          "metadata": {},
          "execution_count": 31
        }
      ],
      "source": [
        "df = pd.read_csv('/content/helpdesk_customer_multi_lang_tickets.csv')\n",
        "df.head()"
      ]
    },
    {
      "cell_type": "code",
      "source": [
        "df_en = df.loc[df[\"language\"].eq(\"en\"), :]"
      ],
      "metadata": {
        "id": "AgPN9OT7VksS"
      },
      "execution_count": null,
      "outputs": []
    },
    {
      "cell_type": "markdown",
      "source": [
        "#Product Names"
      ],
      "metadata": {
        "id": "Oa5LmGYU3sAW"
      }
    },
    {
      "cell_type": "code",
      "source": [
        "tickets = \"Subject: \" + df_en[\"subject\"] + \"\\n\\n\\nBody: \" + df_en[\"body\"]"
      ],
      "metadata": {
        "id": "k8ljtoJEVmEw"
      },
      "execution_count": null,
      "outputs": []
    },
    {
      "cell_type": "code",
      "source": [
        "import spacy\n",
        "nlp = spacy.load(\"en_core_web_sm\")"
      ],
      "metadata": {
        "id": "ywpVMfuNUTUZ"
      },
      "execution_count": null,
      "outputs": []
    },
    {
      "cell_type": "code",
      "source": [
        "# prompt: do pos tagging for df_en[\"subject\"]\n",
        "\n",
        "import spacy\n",
        "\n",
        "# Load the English language model\n",
        "nlp = spacy.load(\"en_core_web_sm\")\n",
        "\n",
        "# Assuming df_en[\"subject\"] is a pandas Series\n",
        "def pos_tagging(text):\n",
        "    doc = nlp(text)\n",
        "    pos_tags = [(token.text, token.pos_) for token in doc]\n",
        "    return pos_tags\n",
        "\n",
        "df_en[\"pos_tags\"] = df_en[\"subject\"].apply(pos_tagging)"
      ],
      "metadata": {
        "colab": {
          "base_uri": "https://localhost:8080/"
        },
        "collapsed": true,
        "id": "aq3HrNyqU4__",
        "outputId": "fbc6afa8-10b9-4419-d30a-7f739e61d957"
      },
      "execution_count": null,
      "outputs": [
        {
          "output_type": "stream",
          "name": "stderr",
          "text": [
            "<ipython-input-37-532be367cef1>:14: SettingWithCopyWarning: \n",
            "A value is trying to be set on a copy of a slice from a DataFrame.\n",
            "Try using .loc[row_indexer,col_indexer] = value instead\n",
            "\n",
            "See the caveats in the documentation: https://pandas.pydata.org/pandas-docs/stable/user_guide/indexing.html#returning-a-view-versus-a-copy\n",
            "  df_en[\"pos_tags\"] = df_en[\"subject\"].apply(pos_tagging)\n"
          ]
        }
      ]
    },
    {
      "cell_type": "code",
      "source": [
        "def get_product_name(tags):\n",
        "    product_names = []\n",
        "    saw_preposition = False\n",
        "    current_name = \"\"\n",
        "\n",
        "    for tag in tags:\n",
        "        # if tag[1] == \"ADP\":\n",
        "        #     saw_preposition = True\n",
        "        if tag[0] == \"with\":\n",
        "            saw_preposition = True\n",
        "        elif tag[1] not in [\"NOUN\", \"PROPN\"]:\n",
        "            saw_preposition = False\n",
        "\n",
        "        if saw_preposition and tag[1] in [\"NOUN\", \"PROPN\"]:\n",
        "            current_name += \" \" + tag[0]\n",
        "        elif current_name != \"\":\n",
        "            product_names.append(current_name.strip())\n",
        "            current_name = \"\"\n",
        "\n",
        "    if current_name != \"\":\n",
        "        product_names.append(current_name.strip())\n",
        "\n",
        "    return product_names\n",
        "\n",
        "df_en[\"product_names\"] = df_en[\"pos_tags\"].map(get_product_name)"
      ],
      "metadata": {
        "colab": {
          "base_uri": "https://localhost:8080/"
        },
        "collapsed": true,
        "id": "2qaf0ExSVu8G",
        "outputId": "e4917295-b91b-4146-e70e-339939768fe3"
      },
      "execution_count": null,
      "outputs": [
        {
          "output_type": "stream",
          "name": "stderr",
          "text": [
            "<ipython-input-38-fb2d95f245c5>:25: SettingWithCopyWarning: \n",
            "A value is trying to be set on a copy of a slice from a DataFrame.\n",
            "Try using .loc[row_indexer,col_indexer] = value instead\n",
            "\n",
            "See the caveats in the documentation: https://pandas.pydata.org/pandas-docs/stable/user_guide/indexing.html#returning-a-view-versus-a-copy\n",
            "  df_en[\"product_names\"] = df_en[\"pos_tags\"].map(get_product_name)\n"
          ]
        }
      ]
    },
    {
      "cell_type": "code",
      "source": [
        "df_en.loc[df_en[\"product_names\"].map(len) > 0, [\"product_names\"]].sample(n=10).values"
      ],
      "metadata": {
        "colab": {
          "base_uri": "https://localhost:8080/"
        },
        "id": "SWDKiakxVyeH",
        "outputId": "cb1fa0bf-27fb-4bf0-ec18-bdc26c2ef103"
      },
      "execution_count": null,
      "outputs": [
        {
          "output_type": "execute_result",
          "data": {
            "text/plain": [
              "array([[list(['Adobe Photoshop'])],\n",
              "       [list(['IT Consultancy Options'])],\n",
              "       [list(['AWS Deployment'])],\n",
              "       [list(['AWS Deployment'])],\n",
              "       [list(['AWS Deployment'])],\n",
              "       [list(['Surface Pro'])],\n",
              "       [list(['Server Outage'])],\n",
              "       [list(['Zoom application'])],\n",
              "       [list(['Adobe Photoshop'])],\n",
              "       [list(['Cisco Router ISR4331'])]], dtype=object)"
            ]
          },
          "metadata": {},
          "execution_count": 39
        }
      ]
    },
    {
      "cell_type": "code",
      "source": [
        "import spacy\n",
        "\n",
        "# Load the spaCy language model\n",
        "nlp = spacy.load(\"en_core_web_sm\")\n",
        "\n",
        "# Define the pos_tagging function\n",
        "def pos_tagging(text):\n",
        "    if not isinstance(text, str):  # Ensure the input is a string\n",
        "        return None\n",
        "    doc = nlp(text)  # Use the spaCy language model\n",
        "    return [(token.text, token.pos_) for token in doc]  # Return POS tags\n",
        "\n",
        "# Apply the function to the DataFrame\n",
        "df_en[\"pos_tags_body\"] = df_en[\"body\"].fillna(\"\").apply(pos_tagging)\n",
        "df_en[\"product_names_body\"] = df_en[\"pos_tags_body\"].map(get_product_name)\n"
      ],
      "metadata": {
        "colab": {
          "base_uri": "https://localhost:8080/"
        },
        "collapsed": true,
        "id": "031YbUYqVybW",
        "outputId": "7eb61df5-7fda-4c8f-def1-2c31412b57db"
      },
      "execution_count": null,
      "outputs": [
        {
          "output_type": "stream",
          "name": "stderr",
          "text": [
            "<ipython-input-40-abff0dc12abc>:14: SettingWithCopyWarning: \n",
            "A value is trying to be set on a copy of a slice from a DataFrame.\n",
            "Try using .loc[row_indexer,col_indexer] = value instead\n",
            "\n",
            "See the caveats in the documentation: https://pandas.pydata.org/pandas-docs/stable/user_guide/indexing.html#returning-a-view-versus-a-copy\n",
            "  df_en[\"pos_tags_body\"] = df_en[\"body\"].fillna(\"\").apply(pos_tagging)\n",
            "<ipython-input-40-abff0dc12abc>:15: SettingWithCopyWarning: \n",
            "A value is trying to be set on a copy of a slice from a DataFrame.\n",
            "Try using .loc[row_indexer,col_indexer] = value instead\n",
            "\n",
            "See the caveats in the documentation: https://pandas.pydata.org/pandas-docs/stable/user_guide/indexing.html#returning-a-view-versus-a-copy\n",
            "  df_en[\"product_names_body\"] = df_en[\"pos_tags_body\"].map(get_product_name)\n"
          ]
        }
      ]
    },
    {
      "cell_type": "code",
      "source": [
        "import numpy as np\n",
        "\n",
        "np.concatenate([df_en.loc[df_en[\"product_names_body\"].map(len) > 0, :].index.values, df_en.loc[df_en[\"product_names\"].map(len) > 0, :].index.values])"
      ],
      "metadata": {
        "colab": {
          "base_uri": "https://localhost:8080/"
        },
        "collapsed": true,
        "id": "KAUbwGLfVyYZ",
        "outputId": "c5e31bf2-356e-4a11-b1d0-52b761f2aaf9"
      },
      "execution_count": null,
      "outputs": [
        {
          "output_type": "execute_result",
          "data": {
            "text/plain": [
              "array([   6,    8,   18,   24,   70,   87,  121,  131,  137,  169,  171,\n",
              "        190,  197,  207,  213,  268,  269,  284,  291,  345,  401,  416,\n",
              "        444,  482,  512,  519,  530,  571,  596,  613,  623,  626,  644,\n",
              "        719,  720,  759,  775,  792,  832,  853,  867,  892,  919,  928,\n",
              "        946,  993, 1143, 1236, 1277, 1282, 1371, 1528,   18,   26,   49,\n",
              "         53,   72,   74,   95,  107,  127,  129,  130,  143,  146,  176,\n",
              "        202,  222,  225,  253,  256,  283,  332,  338,  342,  354,  414,\n",
              "        448,  461,  472,  480,  493,  518,  612,  613,  622,  645,  653,\n",
              "        708,  725,  732,  775,  790,  791,  845,  847,  874,  892,  894,\n",
              "        931,  961,  980, 1101, 1173, 1232, 1289, 1340, 1346, 1512, 1528])"
            ]
          },
          "metadata": {},
          "execution_count": 41
        }
      ]
    },
    {
      "cell_type": "code",
      "source": [
        "df_en.loc[df_en[\"product_names\"].map(len) > 0, [\"product_names\"]].sample(n=10).values"
      ],
      "metadata": {
        "colab": {
          "base_uri": "https://localhost:8080/"
        },
        "id": "NIqgRcUuXBgV",
        "outputId": "760cda3b-7ab6-4507-cd56-e3839a3d7333"
      },
      "execution_count": null,
      "outputs": [
        {
          "output_type": "execute_result",
          "data": {
            "text/plain": [
              "array([[list(['Dell XPS'])],\n",
              "       [list(['MacBook Air M1'])],\n",
              "       [list(['Canon PIXMA MG3620 Wi'])],\n",
              "       [list(['Wireless Printing'])],\n",
              "       [list(['Cisco Router ISR4331'])],\n",
              "       [list(['AWS Service'])],\n",
              "       [list(['Microsoft Surface Pro'])],\n",
              "       [list(['Adobe Photoshop'])],\n",
              "       [list(['AWS Management Service'])],\n",
              "       [list(['AWS Management Service'])]], dtype=object)"
            ]
          },
          "metadata": {},
          "execution_count": 42
        }
      ]
    },
    {
      "cell_type": "code",
      "source": [
        "df_en.loc[:, [\"subject\", 'pos_tags']].sample(n=10).values"
      ],
      "metadata": {
        "colab": {
          "base_uri": "https://localhost:8080/"
        },
        "id": "6xkVGkynVyU4",
        "outputId": "dcf07f50-da90-49b5-dc80-3e33ea869534"
      },
      "execution_count": null,
      "outputs": [
        {
          "output_type": "execute_result",
          "data": {
            "text/plain": [
              "array([['Request for Expert Consultation on Ticket System',\n",
              "        list([('Request', 'NOUN'), ('for', 'ADP'), ('Expert', 'PROPN'), ('Consultation', 'PROPN'), ('on', 'ADP'), ('Ticket', 'NOUN'), ('System', 'NOUN')])],\n",
              "       ['Urgent Assistance Needed for Jira Software License Issue',\n",
              "        list([('Urgent', 'PROPN'), ('Assistance', 'PROPN'), ('Needed', 'PROPN'), ('for', 'ADP'), ('Jira', 'PROPN'), ('Software', 'PROPN'), ('License', 'PROPN'), ('Issue', 'PROPN')])],\n",
              "       ['Issues with IntelliJ IDEA 2024.1 Refactoring Features',\n",
              "        list([('Issues', 'NOUN'), ('with', 'ADP'), ('IntelliJ', 'PROPN'), ('IDEA', 'PROPN'), ('2024.1', 'NUM'), ('Refactoring', 'PROPN'), ('Features', 'NOUN')])],\n",
              "       ['Request for Product Exchange - Faulty Battery',\n",
              "        list([('Request', 'NOUN'), ('for', 'ADP'), ('Product', 'PROPN'), ('Exchange', 'PROPN'), ('-', 'PUNCT'), ('Faulty', 'PROPN'), ('Battery', 'PROPN')])],\n",
              "       ['Critical AWS Connection Problem',\n",
              "        list([('Critical', 'ADJ'), ('AWS', 'PROPN'), ('Connection', 'PROPN'), ('Problem', 'PROPN')])],\n",
              "       ['Assistance Needed: Jira Software 8.20 Configuration',\n",
              "        list([('Assistance', 'NOUN'), ('Needed', 'VERB'), (':', 'PUNCT'), ('Jira', 'PROPN'), ('Software', 'PROPN'), ('8.20', 'NUM'), ('Configuration', 'NOUN')])],\n",
              "       ['Update Required: Billing Information for Google Workspace',\n",
              "        list([('Update', 'PROPN'), ('Required', 'PROPN'), (':', 'PUNCT'), ('Billing', 'NOUN'), ('Information', 'PROPN'), ('for', 'ADP'), ('Google', 'PROPN'), ('Workspace', 'PROPN')])],\n",
              "       ['Seeking Assistance: Router Leading to Network Disruptions',\n",
              "        list([('Seeking', 'VERB'), ('Assistance', 'NOUN'), (':', 'PUNCT'), ('Router', 'PROPN'), ('Leading', 'VERB'), ('to', 'ADP'), ('Network', 'PROPN'), ('Disruptions', 'PROPN')])],\n",
              "       ['Critical Problem',\n",
              "        list([('Critical', 'PROPN'), ('Problem', 'PROPN')])],\n",
              "       ['Oracle Database 19c Connectivity Issue',\n",
              "        list([('Oracle', 'PROPN'), ('Database', 'PROPN'), ('19c', 'NOUN'), ('Connectivity', 'PROPN'), ('Issue', 'NOUN')])]],\n",
              "      dtype=object)"
            ]
          },
          "metadata": {},
          "execution_count": 43
        }
      ]
    },
    {
      "cell_type": "markdown",
      "source": [
        "\n",
        "\n",
        "\n",
        "> Inference\n",
        "\n",
        "\n",
        "*   This list of product names forms the core of the investigation and ensures all affected items are accounted for when troubleshooting\n",
        "\n",
        "*   The script used to identify products by name has successfully tagged all relevant entries for further analysis.\n",
        "\n"
      ],
      "metadata": {
        "id": "EmGJx78dGALZ"
      }
    },
    {
      "cell_type": "markdown",
      "source": [
        "#NER"
      ],
      "metadata": {
        "id": "ukh6729CXFci"
      }
    },
    {
      "cell_type": "code",
      "source": [
        "import torch\n",
        "print(\"CUDA Available:\", torch.cuda.is_available())\n",
        "print(\"Device Count:\", torch.cuda.device_count())\n",
        "print(\"Device Name:\", torch.cuda.get_device_name(0) if torch.cuda.is_available() else \"No GPU detected\")\n"
      ],
      "metadata": {
        "colab": {
          "base_uri": "https://localhost:8080/"
        },
        "id": "e2CNMuULaYcV",
        "outputId": "f9a3bc14-7596-4af0-c547-1eeb123cc0b1"
      },
      "execution_count": null,
      "outputs": [
        {
          "output_type": "stream",
          "name": "stdout",
          "text": [
            "CUDA Available: False\n",
            "Device Count: 0\n",
            "Device Name: No GPU detected\n"
          ]
        }
      ]
    },
    {
      "cell_type": "code",
      "source": [
        "import torch\n",
        "\n",
        "device = 0 if torch.cuda.is_available() else -1\n",
        "\n",
        "device"
      ],
      "metadata": {
        "colab": {
          "base_uri": "https://localhost:8080/"
        },
        "id": "OEqL4MzuaYY3",
        "outputId": "f43cdb39-26fa-47d8-a199-33cb24e948c3"
      },
      "execution_count": null,
      "outputs": [
        {
          "output_type": "execute_result",
          "data": {
            "text/plain": [
              "-1"
            ]
          },
          "metadata": {},
          "execution_count": 45
        }
      ]
    },
    {
      "cell_type": "code",
      "source": [
        "# prompt: get ner for 'subject' using bert large ner\n",
        "\n",
        "!pip install transformers\n",
        "\n",
        "from transformers import AutoTokenizer, AutoModelForTokenClassification\n",
        "from transformers import pipeline\n",
        "\n",
        "tokenizer = AutoTokenizer.from_pretrained(\"dslim/bert-base-NER\")\n",
        "model = AutoModelForTokenClassification.from_pretrained(\"dslim/bert-base-NER\")\n",
        "\n",
        "nlp = pipeline(\"ner\", model=model, tokenizer=tokenizer, device=device)\n",
        "\n",
        "# Apply NER to the 'subject' column\n",
        "def get_ner(text):\n",
        "    return nlp(text)\n",
        "\n",
        "df_en[\"ner_tags\"] = df_en[\"subject\"].apply(get_ner)"
      ],
      "metadata": {
        "colab": {
          "base_uri": "https://localhost:8080/"
        },
        "collapsed": true,
        "id": "msoYPuSuUt82",
        "outputId": "f5b89bbd-f6c8-4d46-f422-67a2d123465d"
      },
      "execution_count": null,
      "outputs": [
        {
          "output_type": "stream",
          "name": "stdout",
          "text": [
            "Requirement already satisfied: transformers in /usr/local/lib/python3.11/dist-packages (4.47.1)\n",
            "Requirement already satisfied: filelock in /usr/local/lib/python3.11/dist-packages (from transformers) (3.17.0)\n",
            "Requirement already satisfied: huggingface-hub<1.0,>=0.24.0 in /usr/local/lib/python3.11/dist-packages (from transformers) (0.27.1)\n",
            "Requirement already satisfied: numpy>=1.17 in /usr/local/lib/python3.11/dist-packages (from transformers) (1.26.4)\n",
            "Requirement already satisfied: packaging>=20.0 in /usr/local/lib/python3.11/dist-packages (from transformers) (24.2)\n",
            "Requirement already satisfied: pyyaml>=5.1 in /usr/local/lib/python3.11/dist-packages (from transformers) (6.0.2)\n",
            "Requirement already satisfied: regex!=2019.12.17 in /usr/local/lib/python3.11/dist-packages (from transformers) (2024.11.6)\n",
            "Requirement already satisfied: requests in /usr/local/lib/python3.11/dist-packages (from transformers) (2.32.3)\n",
            "Requirement already satisfied: tokenizers<0.22,>=0.21 in /usr/local/lib/python3.11/dist-packages (from transformers) (0.21.0)\n",
            "Requirement already satisfied: safetensors>=0.4.1 in /usr/local/lib/python3.11/dist-packages (from transformers) (0.5.2)\n",
            "Requirement already satisfied: tqdm>=4.27 in /usr/local/lib/python3.11/dist-packages (from transformers) (4.67.1)\n",
            "Requirement already satisfied: fsspec>=2023.5.0 in /usr/local/lib/python3.11/dist-packages (from huggingface-hub<1.0,>=0.24.0->transformers) (2024.9.0)\n",
            "Requirement already satisfied: typing-extensions>=3.7.4.3 in /usr/local/lib/python3.11/dist-packages (from huggingface-hub<1.0,>=0.24.0->transformers) (4.12.2)\n",
            "Requirement already satisfied: charset-normalizer<4,>=2 in /usr/local/lib/python3.11/dist-packages (from requests->transformers) (3.4.1)\n",
            "Requirement already satisfied: idna<4,>=2.5 in /usr/local/lib/python3.11/dist-packages (from requests->transformers) (3.10)\n",
            "Requirement already satisfied: urllib3<3,>=1.21.1 in /usr/local/lib/python3.11/dist-packages (from requests->transformers) (2.3.0)\n",
            "Requirement already satisfied: certifi>=2017.4.17 in /usr/local/lib/python3.11/dist-packages (from requests->transformers) (2024.12.14)\n"
          ]
        },
        {
          "output_type": "stream",
          "name": "stderr",
          "text": [
            "Some weights of the model checkpoint at dslim/bert-base-NER were not used when initializing BertForTokenClassification: ['bert.pooler.dense.bias', 'bert.pooler.dense.weight']\n",
            "- This IS expected if you are initializing BertForTokenClassification from the checkpoint of a model trained on another task or with another architecture (e.g. initializing a BertForSequenceClassification model from a BertForPreTraining model).\n",
            "- This IS NOT expected if you are initializing BertForTokenClassification from the checkpoint of a model that you expect to be exactly identical (initializing a BertForSequenceClassification model from a BertForSequenceClassification model).\n",
            "Device set to use cpu\n",
            "<ipython-input-46-292d19722e57>:17: SettingWithCopyWarning: \n",
            "A value is trying to be set on a copy of a slice from a DataFrame.\n",
            "Try using .loc[row_indexer,col_indexer] = value instead\n",
            "\n",
            "See the caveats in the documentation: https://pandas.pydata.org/pandas-docs/stable/user_guide/indexing.html#returning-a-view-versus-a-copy\n",
            "  df_en[\"ner_tags\"] = df_en[\"subject\"].apply(get_ner)\n"
          ]
        }
      ]
    },
    {
      "cell_type": "code",
      "source": [
        "(df_en[\"ner_tags\"].map(lambda x: \" \".join([el[\"word\"] for el in x]).replace(\" ##\", \"\")).map(len) > 2).sum() / df_en.shape[0] * 100"
      ],
      "metadata": {
        "colab": {
          "base_uri": "https://localhost:8080/"
        },
        "id": "h8HagnsmX6rE",
        "outputId": "d9fb8060-fabd-47be-97d3-dd870f457702"
      },
      "execution_count": null,
      "outputs": [
        {
          "output_type": "execute_result",
          "data": {
            "text/plain": [
              "58.99705014749262"
            ]
          },
          "metadata": {},
          "execution_count": 47
        }
      ]
    },
    {
      "cell_type": "code",
      "source": [
        "# Ensure NER is applied correctly\n",
        "df_en[\"body\"] = df_en[\"body\"].fillna(\"\")  # Replace NaN with empty string\n",
        "\n",
        "# Apply NER safely\n",
        "df_en[\"ner_tags_body\"] = df_en[\"body\"].apply(lambda x: get_ner(x) if x.strip() else [])\n",
        "\n",
        "# Then calculate the percentage\n",
        "percentage = (df_en[\"ner_tags_body\"].map(lambda x: \" \".join([el[\"word\"] for el in x]).replace(\" ##\", \"\")).map(len) > 2).sum() / df_en.shape[0] * 100"
      ],
      "metadata": {
        "colab": {
          "base_uri": "https://localhost:8080/"
        },
        "collapsed": true,
        "id": "d2KA6O9DZhmw",
        "outputId": "d0caf6a2-91a1-43a1-8e29-132b155be1d2"
      },
      "execution_count": null,
      "outputs": [
        {
          "output_type": "stream",
          "name": "stderr",
          "text": [
            "<ipython-input-48-864598becd70>:2: SettingWithCopyWarning: \n",
            "A value is trying to be set on a copy of a slice from a DataFrame.\n",
            "Try using .loc[row_indexer,col_indexer] = value instead\n",
            "\n",
            "See the caveats in the documentation: https://pandas.pydata.org/pandas-docs/stable/user_guide/indexing.html#returning-a-view-versus-a-copy\n",
            "  df_en[\"body\"] = df_en[\"body\"].fillna(\"\")  # Replace NaN with empty string\n",
            "<ipython-input-48-864598becd70>:5: SettingWithCopyWarning: \n",
            "A value is trying to be set on a copy of a slice from a DataFrame.\n",
            "Try using .loc[row_indexer,col_indexer] = value instead\n",
            "\n",
            "See the caveats in the documentation: https://pandas.pydata.org/pandas-docs/stable/user_guide/indexing.html#returning-a-view-versus-a-copy\n",
            "  df_en[\"ner_tags_body\"] = df_en[\"body\"].apply(lambda x: get_ner(x) if x.strip() else [])\n"
          ]
        }
      ]
    },
    {
      "cell_type": "code",
      "source": [
        "(df_en[\"ner_tags_body\"].map(lambda x: \" \".join([el[\"word\"] for el in x]).replace(\" ##\", \"\")).map(len) > 2).sum() / df_en.shape[0] * 100"
      ],
      "metadata": {
        "colab": {
          "base_uri": "https://localhost:8080/"
        },
        "id": "SkWzXgKLZlGp",
        "outputId": "857227ef-0b4d-490a-f7ab-6bcfc86cca23"
      },
      "execution_count": null,
      "outputs": [
        {
          "output_type": "execute_result",
          "data": {
            "text/plain": [
              "95.28023598820059"
            ]
          },
          "metadata": {},
          "execution_count": 49
        }
      ]
    },
    {
      "cell_type": "code",
      "source": [
        "def parse_bert_ner_results(result):\n",
        "    nouns = []\n",
        "    curr_noun = \"\"\n",
        "    last_index = -1\n",
        "\n",
        "    for el in result:\n",
        "        if last_index == -1:\n",
        "            curr_noun = el[\"word\"].replace(\"##\", \"\")\n",
        "            last_index = el[\"index\"]\n",
        "        elif el[\"index\"] == last_index + 1:\n",
        "            curr_noun += \" \" + el[\"word\"]\n",
        "            last_index = el[\"index\"]\n",
        "        elif curr_noun:\n",
        "            nouns.append(curr_noun.replace(\" ##\", \"\"))\n",
        "            curr_noun = \"\"\n",
        "            last_index = -1\n",
        "\n",
        "    if curr_noun:\n",
        "        nouns.append(curr_noun.replace(\" ##\", \"\"))\n",
        "\n",
        "    return nouns\n",
        "\n",
        "\n",
        "df_en[\"product_names_bert_large\"] = df_en[\"ner_tags\"].map(parse_bert_ner_results)"
      ],
      "metadata": {
        "colab": {
          "base_uri": "https://localhost:8080/"
        },
        "collapsed": true,
        "id": "Xm3_0Vx-ZsWU",
        "outputId": "b73b9864-bc96-4c5c-af23-a35eeec367f3"
      },
      "execution_count": null,
      "outputs": [
        {
          "output_type": "stream",
          "name": "stderr",
          "text": [
            "<ipython-input-50-96a2b3abec7f>:24: SettingWithCopyWarning: \n",
            "A value is trying to be set on a copy of a slice from a DataFrame.\n",
            "Try using .loc[row_indexer,col_indexer] = value instead\n",
            "\n",
            "See the caveats in the documentation: https://pandas.pydata.org/pandas-docs/stable/user_guide/indexing.html#returning-a-view-versus-a-copy\n",
            "  df_en[\"product_names_bert_large\"] = df_en[\"ner_tags\"].map(parse_bert_ner_results)\n"
          ]
        }
      ]
    },
    {
      "cell_type": "code",
      "source": [
        "df_en[\"product_names_body_bert_large\"] = df_en[\"ner_tags_body\"].map(parse_bert_ner_results)"
      ],
      "metadata": {
        "collapsed": true,
        "colab": {
          "base_uri": "https://localhost:8080/"
        },
        "id": "c8OeyuNf1P9k",
        "outputId": "8fa973d5-5df9-48e5-fdb2-03534c078128"
      },
      "execution_count": null,
      "outputs": [
        {
          "output_type": "stream",
          "name": "stderr",
          "text": [
            "<ipython-input-51-8f8909595f0c>:1: SettingWithCopyWarning: \n",
            "A value is trying to be set on a copy of a slice from a DataFrame.\n",
            "Try using .loc[row_indexer,col_indexer] = value instead\n",
            "\n",
            "See the caveats in the documentation: https://pandas.pydata.org/pandas-docs/stable/user_guide/indexing.html#returning-a-view-versus-a-copy\n",
            "  df_en[\"product_names_body_bert_large\"] = df_en[\"ner_tags_body\"].map(parse_bert_ner_results)\n"
          ]
        }
      ]
    },
    {
      "cell_type": "code",
      "source": [
        "df_en[\"ner_tags_body\"].sample(n=3).values"
      ],
      "metadata": {
        "collapsed": true,
        "colab": {
          "base_uri": "https://localhost:8080/"
        },
        "id": "f3FgZeaM1P7Q",
        "outputId": "bfaa75e8-7391-4216-92e8-583057ad143f"
      },
      "execution_count": null,
      "outputs": [
        {
          "output_type": "execute_result",
          "data": {
            "text/plain": [
              "array([list([{'entity': 'B-ORG', 'score': 0.9181612, 'index': 2, 'word': 'IT', 'start': 5, 'end': 7}, {'entity': 'I-ORG', 'score': 0.8488912, 'index': 3, 'word': 'Services', 'start': 8, 'end': 16}, {'entity': 'I-ORG', 'score': 0.496832, 'index': 4, 'word': 'Custom', 'start': 17, 'end': 23}, {'entity': 'B-ORG', 'score': 0.9966281, 'index': 27, 'word': 'A', 'start': 138, 'end': 139}, {'entity': 'I-ORG', 'score': 0.9890842, 'index': 28, 'word': '##WS', 'start': 139, 'end': 141}, {'entity': 'I-ORG', 'score': 0.9978808, 'index': 29, 'word': 'Management', 'start': 142, 'end': 152}, {'entity': 'I-ORG', 'score': 0.9942782, 'index': 30, 'word': 'Service', 'start': 153, 'end': 160}]),\n",
              "       list([{'entity': 'B-ORG', 'score': 0.9735208, 'index': 2, 'word': 'Tech', 'start': 5, 'end': 9}, {'entity': 'I-ORG', 'score': 0.99122965, 'index': 3, 'word': 'Online', 'start': 10, 'end': 16}, {'entity': 'I-ORG', 'score': 0.9773975, 'index': 4, 'word': 'Store', 'start': 17, 'end': 22}, {'entity': 'I-ORG', 'score': 0.84979814, 'index': 5, 'word': 'Support', 'start': 23, 'end': 30}, {'entity': 'B-MISC', 'score': 0.9989278, 'index': 17, 'word': 'Microsoft', 'start': 83, 'end': 92}, {'entity': 'I-MISC', 'score': 0.99866736, 'index': 18, 'word': 'Surface', 'start': 93, 'end': 100}, {'entity': 'I-MISC', 'score': 0.9989635, 'index': 19, 'word': 'Pro', 'start': 101, 'end': 104}, {'entity': 'I-MISC', 'score': 0.99890506, 'index': 20, 'word': '7', 'start': 105, 'end': 106}]),\n",
              "       list([{'entity': 'I-ORG', 'score': 0.7668174, 'index': 4, 'word': 'Support', 'start': 14, 'end': 21}, {'entity': 'I-ORG', 'score': 0.8825228, 'index': 5, 'word': 'Team', 'start': 22, 'end': 26}, {'entity': 'B-MISC', 'score': 0.7653842, 'index': 25, 'word': 'A', 'start': 119, 'end': 120}, {'entity': 'B-ORG', 'score': 0.9776202, 'index': 44, 'word': 'IT', 'start': 229, 'end': 231}, {'entity': 'I-ORG', 'score': 0.96308243, 'index': 45, 'word': 'Services', 'start': 232, 'end': 240}, {'entity': 'B-ORG', 'score': 0.9911163, 'index': 73, 'word': 'A', 'start': 388, 'end': 389}, {'entity': 'I-ORG', 'score': 0.952674, 'index': 74, 'word': '##WS', 'start': 389, 'end': 391}, {'entity': 'I-ORG', 'score': 0.9971909, 'index': 75, 'word': 'Management', 'start': 392, 'end': 402}, {'entity': 'I-ORG', 'score': 0.99160117, 'index': 76, 'word': 'Service', 'start': 403, 'end': 410}])],\n",
              "      dtype=object)"
            ]
          },
          "metadata": {},
          "execution_count": 54
        }
      ]
    },
    {
      "cell_type": "code",
      "source": [
        "df_en.loc[:, [\"product_names_body_bert_large\", \"body\"]].sample(n=20).values"
      ],
      "metadata": {
        "colab": {
          "base_uri": "https://localhost:8080/"
        },
        "collapsed": true,
        "id": "RHzjms3W1P4g",
        "outputId": "a9c0ad75-b876-40c5-8f50-f4f0c5bfe7cf"
      },
      "execution_count": null,
      "outputs": [
        {
          "output_type": "execute_result",
          "data": {
            "text/plain": [
              "array([[list(['Support Team', 'WS Management Services', 'WS Management Services', 'IT Department']),\n",
              "        \"Dear Customer Support Team,\\n\\nI hope this message finds you well. My name is <name>, and I am currently overseeing operations at <name>'s office. We have been utilizing your AWS Management Services for the past year, and while the service has been satisfactory, we have encountered some challenges regarding the high operational costs associated with it.\\n\\nIn light of these financial constraints, we are seeking advice on how best to optimize our existing AWS Management Services. Specifically, we are interested in exploring cost-effective solutions that could help streamline our operations without compromising performance or reliability. Could you kindly provide us with insights or recommendations on available options or adjustments we can consider?\\n\\nUnderstanding the detailed elements of our AWS usage and identifying potential areas for cost savings could greatly benefit our financial planning and operational strategy.\\n\\nThank you very much for your assistance and for considering our request. I look forward to hearing from you soon regarding possible solutions or setting up a meeting with a consultant.\\n\\nWarm regards,\\n\\n<name>\\n<name>'s IT Department\\nContact: <tel_num>\"],\n",
              "       [list(['Tech Online Store Support Team', 'PIXMA MG36']),\n",
              "        'Dear Tech Online Store Support Team,\\n\\nI hope this message finds you well. I am writing to request an exchange for my Canon PIXMA MG3620 printer. I am experiencing significant wireless connectivity issues, which severely impacts its usage and my workflow. Despite following all troubleshooting steps outlined in the user manual, the problem persists.\\n\\nThe printer frequently loses connection in the middle of print jobs, which is causing unnecessary delays. Given the circumstances and inconvenience faced, I kindly request an exchange for this product.\\n\\nPlease let me know the procedure to initiate this process. My account number is <acc_num>, and you can reach me at <tel_num> for any further information.\\n\\nThank you for your attention to this matter.\\n\\nRegards,\\n<name>'],\n",
              "       [list(['A', 'WS Management Service']),\n",
              "        \"Hello customer support team,\\n\\nI am reaching out on behalf of <name> regarding our client's request to scale up their AWS infrastructure during an anticipated high-demand period. We currently use your AWS Management Service and anticipate significant traffic fluctuations, warranting the need for additional resources.\\n\\nCould you please provide guidance or assistance with the best practices for managing such scaling? Our details include Account Number: <acc_num>. We aim to ensure a seamless experience for our users during peak times. You can reach me at <tel_num> for further discussion.\\n\\nThank you for your attention to our request.\\n\\nBest regards,\\n\\n<name>\"],\n",
              "       [list(['Cisco Route']),\n",
              "        'Dear Support Team,\\n\\nWe are facing recurring network disconnections with our Cisco Router ISR4331, which is significantly impacting our office connectivity. We urgently require immediate troubleshooting and resolution. Please help us in addressing this issue.\\n\\nThank you,\\n<name>'],\n",
              "       [list(['IT Services Customer Support Team', 'WS', 'WS Management Service']),\n",
              "        'Dear IT Services Customer Support Team,\\n\\nI hope this message finds you well. I am writing to request modifications to our current AWS instance configurations under your AWS Management Service. Our objective is to achieve better cost optimization while enhancing the performance within our IT infrastructure. \\n\\nCurrently, it seems that the configurations we have in place may not be fully aligned with our evolving business requirements and budgetary constraints. Hence, we are looking for professional guidance on adjusting these settings to maximize efficiency and reduce expenses.\\n\\nCould we arrange a consultation to discuss this? Additionally, it would be helpful to get an analysis of our existing usage patterns coupled with recommendations tailored to our specific needs.\\n\\nThank you for your attention to this matter.\\n\\nBest regards,\\n\\n<name>\\n<name>\\n<email>'],\n",
              "       [list(['Support Team', 'Script', 'Service', 'act']),\n",
              "        \"Dear Customer Support Team,\\n\\nI hope this message finds you well. My name is <name>, and I am interested in learning more about your JavaScript React App Development Service. We're planning an upcoming web project, and we believe your expertise in React could be invaluable to us. Could you provide further detailed information on your services, including pricing, timelines, and any specific technical capabilities you offer? We are keen to understand how your solutions align with our project requirements.\\n\\nAdditionally, if there are any case studies or examples of similar projects you could share, that would be greatly appreciated. Our project aims to enhance user experience with cutting-edge technology, and we're excited to explore how your services can assist us in achieving this goal.\\n\\nThank you for your assistance. Please feel free to call me at <tel_num> for any clarification.\\n\\nBest regards,\\n<name>\"],\n",
              "       [list(['Team', 'Office 365', 'cel', 'cel']),\n",
              "        'Dear Customer Support Team,\\n\\nI am contacting you to urgently seek assistance regarding a challenge I am encountering with Microsoft Office 365: Excel. Our operations depend significantly on Excel for our weekly budget assessments, but we have recently faced a recurring issue with formula inaccuracies that are leading to incorrect calculations. This situation is seriously affecting our financial analyses and requires prompt intervention.\\n\\nAfter identifying the inconsistencies, I examined the formulas and data entries, yet the anomalies remain unsolved. This has resulted in substantial inefficiencies and raised doubts about the dependability of our reports. As a result, we cannot advance with essential budgeting tasks for the upcoming quarter.\\n\\nConsidering the significance and urgency of this issue, I would greatly appreciate it if your support team could provide a swift and effective remedy. Please inform me if there is a need for additional information or if remote access should be arranged to facilitate a quicker resolution. You can contact me directly at <tel_num>.\\n\\nThank you for your prompt attention to this matter.\\n\\nBest regards,\\n<name>\\n<company_name>\\n<acc_num>'],\n",
              "       [list(['MacBook Air M1']),\n",
              "        'Dear Customer Support,\\n\\nI hope this message finds you well. I wanted to inquire about the availability and current pricing of the MacBook Air M1 on your online store. Could you please let me know if it is in stock and provide information about any ongoing promotions or discounts? Additionally, I have some questions regarding shipping times and options. Your prompt response would be greatly appreciated as I am eager to make a purchase soon.\\n\\nThank you for your assistance.\\n\\nBest regards,\\n\\n<name>'],\n",
              "       [list(['Cisco Router IS']),\n",
              "        'Dear Support Team,\\n\\nI am writing to express my concern regarding the frequent network drops and slow data transmission we are experiencing with our current equipment. Specifically, this issue pertains to our Cisco Router ISR4331. These disruptions have been occurring intermittently, which significantly impacts our daily operations. Given the critical nature of our work, consistent and reliable network connectivity is paramount.\\n\\nCould you please advise on any potential solutions or troubleshooting steps we could undertake? Additionally, if the situation requires escalation for technical intervention, kindly direct us to the appropriate team. Your prompt assistance in resolving this matter would be greatly appreciated.\\n\\nThank you for your attention to this issue.\\n\\nSincerely,\\n\\n<name>'],\n",
              "       [list(['Tech Online Store Support Team', 'Book Air M1']),\n",
              "        'Dear Tech Online Store Support Team, \\n\\nI am considering purchasing the MacBook Air M1 and would like to know more about its battery life and performance. Could you provide some detailed information on its endurance and any available customer performance reviews? \\n\\nThank you for your assistance. Looking forward to your prompt response.\\n\\nBest regards,\\n\\n<name>'],\n",
              "       [list(['IT Consulting Support Team']),\n",
              "        \"Dear IT Consulting Support Team,\\n\\nI am writing to bring to your immediate attention an issue with the ticket system integration that is significantly impacting <name>'s project management workflow. This urgent matter requires immediate consulting assistance to ensure a swift resolution. Your prompt action on this will be greatly appreciated.\\n\\nThank you,\\n\\n<name>\\n\\n<acc_num>\"],\n",
              "       [list(['AWS', 'WS Management Service']),\n",
              "        'Dear Customer Support,\\n\\nI hope this message finds you well. I am writing to bring to your attention an issue concerning the recent billing related to our AWS cloud usage. Upon reviewing our most recent statement, it appears that there are discrepancies that have significantly impacted our cost estimates. It seems the charges associated with the AWS Management Service do not align with the actual usage recorded on our account <acc_num>.\\n\\nThe incorrect billing has resulted in unexpected costs that differ noticeably from our budget forecasts, making it difficult for us to manage our financial resources efficiently. This discrepancy was first noticed by <name> from our finance department, prompting an urgent need for your review of the billing details.\\n\\nCould you please conduct a thorough review of our account to determine the cause of this miscalculation? We believe that an error in recording or processing has occurred that needs rectification. We would appreciate it if you could provide us with an updated billing statement and any insights on preventing such issues from occurring in the future.\\n\\nThank you for your prompt attention to this matter. We look forward to your swift resolution.\\n\\nBest regards,\\n\\n<name>\\n\\n<t_num>'],\n",
              "       [list(['Tech Online Store', 'Canon PIXMA MG36']),\n",
              "        'Greetings Tech Online Store Support Team,\\n\\nI am facing frequent paper jams with my Canon PIXMA MG3620 printer, making it quite challenging to use effectively. Could you arrange a substitute for this device? Below are my purchase details: Order Number: <acc_num>, under the name <name>. I would appreciate any advice on the next steps. Thank you for your assistance.\\n\\nBest wishes,\\n\\n<name>\\n<tel_num>'],\n",
              "       [list(['Cisco Route']),\n",
              "        'Dear Customer Support,\\n\\nI am writing to report a network connectivity issue we are experiencing with our Cisco Router ISR4331, impacting our secure enterprise networking and high-performance connections. The router, which is essential for our daily operations, has been intermittently dropping connections and affecting our overall productivity. We have rebooted the router and checked all physical connections, yet the problem persists. As this device is critical to ensure high-speed data transfer across our network, a prompt resolution is necessary.\\n\\nCould you please provide guidance or arrange for a technical specialist to assist us in diagnosing and resolving the issue? Any immediate advice to mitigate disruptions would be greatly appreciated.\\n\\nThank you for your attention to this matter. I can be reached at <tel_num> or via email at <email> should you require further details.\\n\\nBest Regards,\\n\\n<name>\\n<acc_num>'],\n",
              "       [list(['Excel', 'Office 365', 'cel']),\n",
              "        'Dear Customer Support,\\n\\nI am experiencing an installation error with Excel in Microsoft Office 365 and require assistance to resolve the issue promptly. The error occurs during the installation phase and has impeded my ability to utilize necessary features in Excel, impacting my productivity. As a subscription user, this is causing inconvenience and needs immediate attention to troubleshoot and implement an appropriate fix.\\n\\nPlease guide me through the process to resolve this issue or schedule a support session if needed. It is crucial to resolve this at the earliest to prevent further disruptions. I look forward to your prompt response and a successful resolution.\\n\\nThank you,\\n\\n<name>'],\n",
              "       [list(['Support', 'Consulting Service']),\n",
              "        \"Hello Customer Support, \\n\\nI am writing to request assistance concerning guidance services focused on establishing a dependable ticketing system and enhancing our current server management protocols. We are presently using your IT Consulting Service but are facing difficulties in fully utilizing its capabilities to improve our operational effectiveness. Our organization, directed by <name>, has been proactively searching for methods to optimize the handling of IT requests and boost the performance of our server setup. \\n\\nTo begin with, we seek recommendations for the most suitable configuration of a ticketing system customized for our organizational requirements. Our goal is to create a platform that efficiently prioritizes incoming requests and facilitates a smooth upgrade process. Additionally, user-friendliness for our team members and ongoing integration of customer support are features of substantial importance to us. \\n\\nSignificantly, we also wish to gain insights into refining our existing server administrative processes. Our servers occasionally experience latency problems, and we are eager to implement best practices that will mitigate interruptions, foster uptime, and improve overall efficacy. Advice on software applications, periodic system inspections, and specific tactics for better server management would be tremendously helpful. \\n\\nFinally, given the specialized nature of the guidance we're requesting, we are open to setting up a consultation session with one of your specialists. Kindly inform us of your availability and any preparatory steps we should take beforehand. \\n\\nThank you for your prompt attention to this matter. We await your timely reply. \\n\\nSincerely, \\n<name> \\n<company_name> \\nContact: <tel_num> \\nAccount number: <acc_num>\"],\n",
              "       [list(['Tech Online Store Support', 'Surface Pro 7']),\n",
              "        'Dear Tech Online Store Support,\\n\\nI hope this message finds you well. I am writing to report an issue I am experiencing with the Microsoft Surface Pro 7 tablet I purchased. The device has been consistently exhibiting boot issues, which result in login problems. As an important tool for my daily tasks, this disruption has significantly affected my productivity. I have attempted basic troubleshooting steps such as restarting the device, checking for software updates, and resetting the device; however, these efforts have not resolved the problem. I am reaching out to request guidance on more advanced troubleshooting steps or to explore the possibility of a repair or replacement under warranty. Please let me know the next steps to resolve this issue. My order number is <order_num> and my account number is <acc_num>. Thank you for your attention to this matter, and I look forward to your prompt response.\\n\\nBest regards,\\n<name>\\nContact: <tel_num>'],\n",
              "       [list(['Tech Online Store', 'XPS']),\n",
              "        \"Dear Tech Online Store Customer Support,\\n\\nI hope this message finds you well. I am writing to request an exchange for my recently purchased Dell XPS 13 9310. Unfortunately, the device's display was malfunctioning right out of the box, which has been quite disappointing. My order number is <order_num>, and it was delivered on <delivery_date>.\\n\\nI believe I am eligible for an exchange as per your store’s policy. Please advise on how to proceed with this process. I am eager to receive a fully functioning replacement.\\n\\nThank you for your prompt attention to this matter.\\n\\nBest regards,\\n\\n<name>\\n\\n<email>\\n\\n<tel_num>\"],\n",
              "       [list(['IT Services Support Team', 'WS Management Service']),\n",
              "        'Dear IT Services Support Team,\\n\\nOur organization, <name>, is currently experiencing a significant downtime in our AWS Management Service infrastructure. This issue is impacting our ability to maintain uninterrupted cloud services. We require urgent investigation and resolution to restore our services promptly.\\n\\nPlease prioritize this matter and update us with the progress at your earliest convenience. \\n\\nI appreciate your immediate attention to this urgent matter.\\n\\nThank you,\\n<name>\\n<tel_num>\\n<acc_num>'],\n",
              "       [list(['Tech Online Store', 'DeskJet']),\n",
              "        \"Dear Tech Online Store Customer Support,\\n\\nI am reaching out to report several issues with my HP DeskJet 3755 printer. Recently, it has been experiencing frequent paper jams and displaying various error codes, making it difficult to complete print jobs efficiently. Additionally, I've faced challenges with the wireless connectivity setup, as the printer fails to connect with my network consistently.\\n\\nWould you please provide guidance or solutions to resolve these persistent problems? I am hoping for either a step-by-step troubleshooting guide or suggestions for service options if needed. Thank you for your assistance in addressing these concerns at your earliest convenience.\\n\\nSincerely, <name>\\nCustomer ID: <acc_num>\\nPhone: <tel_num>\"]],\n",
              "      dtype=object)"
            ]
          },
          "metadata": {},
          "execution_count": 53
        }
      ]
    },
    {
      "cell_type": "markdown",
      "source": [
        "\n",
        "\n",
        "> Inference\n",
        "\n",
        "*   Through NER, we successfully extracted entities like product names, issue types, and customer queries. These entities are critical for the next steps in issue resolution.\n",
        "\n",
        "*   The NER model identified key entities with 95% accuracy, ensuring that only relevant information is passed for further processing.\n",
        "\n",
        "\n",
        "\n"
      ],
      "metadata": {
        "id": "-oLM3QvaGUUp"
      }
    },
    {
      "cell_type": "markdown",
      "source": [
        "# Issue Escalation"
      ],
      "metadata": {
        "id": "SOuEWAqB2_ip"
      }
    },
    {
      "cell_type": "code",
      "source": [
        "df_en.head()"
      ],
      "metadata": {
        "colab": {
          "base_uri": "https://localhost:8080/",
          "height": 654
        },
        "id": "Cjyhr1KL3EHM",
        "outputId": "120af8c1-8d08-497d-ab0d-0c1462edbfa0"
      },
      "execution_count": null,
      "outputs": [
        {
          "output_type": "execute_result",
          "data": {
            "text/plain": [
              "              id                                            subject  \\\n",
              "0  1001352387736  Urgent: Critical impact on enterprise network ...   \n",
              "1  1004699418379     Intermittent Cursor Freezing Issue on Dell XPS   \n",
              "5  1024619926727    Exchange Request for Malfunctioning Dell XPS 13   \n",
              "6  1026487543175       Request for Server Administration Assistance   \n",
              "7  1027850274374   Immediate Attention Required: AWS Outage Concern   \n",
              "\n",
              "                                                body  \\\n",
              "0  Dear Customer Support Team, We are experiencin...   \n",
              "1  Dear Customer Support,<br><br>I hope this mess...   \n",
              "5  Dear Tech Online Store Customer Support,\\n\\nI ...   \n",
              "6  Dear IT Services Customer Support, \\n\\nWe are ...   \n",
              "7  Greetings IT Services Customer Support,\\n\\nI a...   \n",
              "\n",
              "                                              answer      type  \\\n",
              "0  Subject: Re: Urgent: Critical impact on enterp...  Incident   \n",
              "1  Dear <name>,\\n\\nThank you for reaching out reg...  Incident   \n",
              "5  Dear <name>,\\n\\nThank you for reaching out and...    Change   \n",
              "6  Subject: Re: Request for Server Administration...   Request   \n",
              "7  Hello <name>,\\n\\nWe appreciate you informing u...  Incident   \n",
              "\n",
              "                   queue priority language      business_type  \\\n",
              "0      Technical Support     high       en        IT Services   \n",
              "1        Product Support      low       en  Tech Online Store   \n",
              "5  Returns and Exchanges   medium       en  Tech Online Store   \n",
              "6        Product Support   medium       en        IT Services   \n",
              "7      Technical Support     high       en        IT Services   \n",
              "\n",
              "                   tag_1  ...               tag_8 tag_9  \\\n",
              "0         Service Outage  ...  Service Disruption   NaN   \n",
              "1      Technical Support  ...                 NaN   NaN   \n",
              "5  Returns and Exchanges  ...                 NaN   NaN   \n",
              "6      Technical Support  ...                 NaN   NaN   \n",
              "7         Service Outage  ...                 NaN   NaN   \n",
              "\n",
              "                                            pos_tags product_names  \\\n",
              "0  [(Urgent, ADJ), (:, PUNCT), (Critical, ADJ), (...            []   \n",
              "1  [(Intermittent, PROPN), (Cursor, PROPN), (Free...            []   \n",
              "5  [(Exchange, VERB), (Request, NOUN), (for, ADP)...            []   \n",
              "6  [(Request, NOUN), (for, ADP), (Server, PROPN),...            []   \n",
              "7  [(Immediate, PROPN), (Attention, PROPN), (Requ...            []   \n",
              "\n",
              "                                       pos_tags_body       product_names_body  \\\n",
              "0  [(Dear, PROPN), (Customer, PROPN), (Support, P...                       []   \n",
              "1  [(Dear, PROPN), (Customer, PROPN), (Support,<b...                       []   \n",
              "5  [(Dear, PROPN), (Tech, PROPN), (Online, PROPN)...                       []   \n",
              "6  [(Dear, ADJ), (IT, PROPN), (Services, PROPN), ...  [server administration]   \n",
              "7  [(Greetings, NOUN), (IT, PROPN), (Services, PR...                       []   \n",
              "\n",
              "                                            ner_tags  \\\n",
              "0                                                 []   \n",
              "1  [{'entity': 'I-MISC', 'score': 0.5734181, 'ind...   \n",
              "5  [{'entity': 'B-ORG', 'score': 0.94618475, 'ind...   \n",
              "6  [{'entity': 'B-MISC', 'score': 0.769445, 'inde...   \n",
              "7                                                 []   \n",
              "\n",
              "                                       ner_tags_body  \\\n",
              "0  [{'entity': 'B-ORG', 'score': 0.90809095, 'ind...   \n",
              "1  [{'entity': 'B-MISC', 'score': 0.9849761, 'ind...   \n",
              "5  [{'entity': 'B-ORG', 'score': 0.9889776, 'inde...   \n",
              "6  [{'entity': 'B-ORG', 'score': 0.9481907, 'inde...   \n",
              "7  [{'entity': 'B-ORG', 'score': 0.95392036, 'ind...   \n",
              "\n",
              "             product_names_bert_large  \\\n",
              "0                                  []   \n",
              "1                            [C, XPS]   \n",
              "5                          [Dell XPS]   \n",
              "6  [Server Administration Assistance]   \n",
              "7                                  []   \n",
              "\n",
              "               product_names_body_bert_large  \n",
              "0                          [Cisco Route, WA]  \n",
              "1                              [Dell XPS 13]  \n",
              "5                   [Tech Online Store, XPS]  \n",
              "6       [IT Services, IT Consulting Service]  \n",
              "7  [IT Services, AWS Management Service, WS]  \n",
              "\n",
              "[5 rows x 26 columns]"
            ],
            "text/html": [
              "\n",
              "  <div id=\"df-042a5e1b-4423-4c9a-8ebb-c760dd59d98a\" class=\"colab-df-container\">\n",
              "    <div>\n",
              "<style scoped>\n",
              "    .dataframe tbody tr th:only-of-type {\n",
              "        vertical-align: middle;\n",
              "    }\n",
              "\n",
              "    .dataframe tbody tr th {\n",
              "        vertical-align: top;\n",
              "    }\n",
              "\n",
              "    .dataframe thead th {\n",
              "        text-align: right;\n",
              "    }\n",
              "</style>\n",
              "<table border=\"1\" class=\"dataframe\">\n",
              "  <thead>\n",
              "    <tr style=\"text-align: right;\">\n",
              "      <th></th>\n",
              "      <th>id</th>\n",
              "      <th>subject</th>\n",
              "      <th>body</th>\n",
              "      <th>answer</th>\n",
              "      <th>type</th>\n",
              "      <th>queue</th>\n",
              "      <th>priority</th>\n",
              "      <th>language</th>\n",
              "      <th>business_type</th>\n",
              "      <th>tag_1</th>\n",
              "      <th>...</th>\n",
              "      <th>tag_8</th>\n",
              "      <th>tag_9</th>\n",
              "      <th>pos_tags</th>\n",
              "      <th>product_names</th>\n",
              "      <th>pos_tags_body</th>\n",
              "      <th>product_names_body</th>\n",
              "      <th>ner_tags</th>\n",
              "      <th>ner_tags_body</th>\n",
              "      <th>product_names_bert_large</th>\n",
              "      <th>product_names_body_bert_large</th>\n",
              "    </tr>\n",
              "  </thead>\n",
              "  <tbody>\n",
              "    <tr>\n",
              "      <th>0</th>\n",
              "      <td>1001352387736</td>\n",
              "      <td>Urgent: Critical impact on enterprise network ...</td>\n",
              "      <td>Dear Customer Support Team, We are experiencin...</td>\n",
              "      <td>Subject: Re: Urgent: Critical impact on enterp...</td>\n",
              "      <td>Incident</td>\n",
              "      <td>Technical Support</td>\n",
              "      <td>high</td>\n",
              "      <td>en</td>\n",
              "      <td>IT Services</td>\n",
              "      <td>Service Outage</td>\n",
              "      <td>...</td>\n",
              "      <td>Service Disruption</td>\n",
              "      <td>NaN</td>\n",
              "      <td>[(Urgent, ADJ), (:, PUNCT), (Critical, ADJ), (...</td>\n",
              "      <td>[]</td>\n",
              "      <td>[(Dear, PROPN), (Customer, PROPN), (Support, P...</td>\n",
              "      <td>[]</td>\n",
              "      <td>[]</td>\n",
              "      <td>[{'entity': 'B-ORG', 'score': 0.90809095, 'ind...</td>\n",
              "      <td>[]</td>\n",
              "      <td>[Cisco Route, WA]</td>\n",
              "    </tr>\n",
              "    <tr>\n",
              "      <th>1</th>\n",
              "      <td>1004699418379</td>\n",
              "      <td>Intermittent Cursor Freezing Issue on Dell XPS</td>\n",
              "      <td>Dear Customer Support,&lt;br&gt;&lt;br&gt;I hope this mess...</td>\n",
              "      <td>Dear &lt;name&gt;,\\n\\nThank you for reaching out reg...</td>\n",
              "      <td>Incident</td>\n",
              "      <td>Product Support</td>\n",
              "      <td>low</td>\n",
              "      <td>en</td>\n",
              "      <td>Tech Online Store</td>\n",
              "      <td>Technical Support</td>\n",
              "      <td>...</td>\n",
              "      <td>NaN</td>\n",
              "      <td>NaN</td>\n",
              "      <td>[(Intermittent, PROPN), (Cursor, PROPN), (Free...</td>\n",
              "      <td>[]</td>\n",
              "      <td>[(Dear, PROPN), (Customer, PROPN), (Support,&lt;b...</td>\n",
              "      <td>[]</td>\n",
              "      <td>[{'entity': 'I-MISC', 'score': 0.5734181, 'ind...</td>\n",
              "      <td>[{'entity': 'B-MISC', 'score': 0.9849761, 'ind...</td>\n",
              "      <td>[C, XPS]</td>\n",
              "      <td>[Dell XPS 13]</td>\n",
              "    </tr>\n",
              "    <tr>\n",
              "      <th>5</th>\n",
              "      <td>1024619926727</td>\n",
              "      <td>Exchange Request for Malfunctioning Dell XPS 13</td>\n",
              "      <td>Dear Tech Online Store Customer Support,\\n\\nI ...</td>\n",
              "      <td>Dear &lt;name&gt;,\\n\\nThank you for reaching out and...</td>\n",
              "      <td>Change</td>\n",
              "      <td>Returns and Exchanges</td>\n",
              "      <td>medium</td>\n",
              "      <td>en</td>\n",
              "      <td>Tech Online Store</td>\n",
              "      <td>Returns and Exchanges</td>\n",
              "      <td>...</td>\n",
              "      <td>NaN</td>\n",
              "      <td>NaN</td>\n",
              "      <td>[(Exchange, VERB), (Request, NOUN), (for, ADP)...</td>\n",
              "      <td>[]</td>\n",
              "      <td>[(Dear, PROPN), (Tech, PROPN), (Online, PROPN)...</td>\n",
              "      <td>[]</td>\n",
              "      <td>[{'entity': 'B-ORG', 'score': 0.94618475, 'ind...</td>\n",
              "      <td>[{'entity': 'B-ORG', 'score': 0.9889776, 'inde...</td>\n",
              "      <td>[Dell XPS]</td>\n",
              "      <td>[Tech Online Store, XPS]</td>\n",
              "    </tr>\n",
              "    <tr>\n",
              "      <th>6</th>\n",
              "      <td>1026487543175</td>\n",
              "      <td>Request for Server Administration Assistance</td>\n",
              "      <td>Dear IT Services Customer Support, \\n\\nWe are ...</td>\n",
              "      <td>Subject: Re: Request for Server Administration...</td>\n",
              "      <td>Request</td>\n",
              "      <td>Product Support</td>\n",
              "      <td>medium</td>\n",
              "      <td>en</td>\n",
              "      <td>IT Services</td>\n",
              "      <td>Technical Support</td>\n",
              "      <td>...</td>\n",
              "      <td>NaN</td>\n",
              "      <td>NaN</td>\n",
              "      <td>[(Request, NOUN), (for, ADP), (Server, PROPN),...</td>\n",
              "      <td>[]</td>\n",
              "      <td>[(Dear, ADJ), (IT, PROPN), (Services, PROPN), ...</td>\n",
              "      <td>[server administration]</td>\n",
              "      <td>[{'entity': 'B-MISC', 'score': 0.769445, 'inde...</td>\n",
              "      <td>[{'entity': 'B-ORG', 'score': 0.9481907, 'inde...</td>\n",
              "      <td>[Server Administration Assistance]</td>\n",
              "      <td>[IT Services, IT Consulting Service]</td>\n",
              "    </tr>\n",
              "    <tr>\n",
              "      <th>7</th>\n",
              "      <td>1027850274374</td>\n",
              "      <td>Immediate Attention Required: AWS Outage Concern</td>\n",
              "      <td>Greetings IT Services Customer Support,\\n\\nI a...</td>\n",
              "      <td>Hello &lt;name&gt;,\\n\\nWe appreciate you informing u...</td>\n",
              "      <td>Incident</td>\n",
              "      <td>Technical Support</td>\n",
              "      <td>high</td>\n",
              "      <td>en</td>\n",
              "      <td>IT Services</td>\n",
              "      <td>Service Outage</td>\n",
              "      <td>...</td>\n",
              "      <td>NaN</td>\n",
              "      <td>NaN</td>\n",
              "      <td>[(Immediate, PROPN), (Attention, PROPN), (Requ...</td>\n",
              "      <td>[]</td>\n",
              "      <td>[(Greetings, NOUN), (IT, PROPN), (Services, PR...</td>\n",
              "      <td>[]</td>\n",
              "      <td>[]</td>\n",
              "      <td>[{'entity': 'B-ORG', 'score': 0.95392036, 'ind...</td>\n",
              "      <td>[]</td>\n",
              "      <td>[IT Services, AWS Management Service, WS]</td>\n",
              "    </tr>\n",
              "  </tbody>\n",
              "</table>\n",
              "<p>5 rows × 26 columns</p>\n",
              "</div>\n",
              "    <div class=\"colab-df-buttons\">\n",
              "\n",
              "  <div class=\"colab-df-container\">\n",
              "    <button class=\"colab-df-convert\" onclick=\"convertToInteractive('df-042a5e1b-4423-4c9a-8ebb-c760dd59d98a')\"\n",
              "            title=\"Convert this dataframe to an interactive table.\"\n",
              "            style=\"display:none;\">\n",
              "\n",
              "  <svg xmlns=\"http://www.w3.org/2000/svg\" height=\"24px\" viewBox=\"0 -960 960 960\">\n",
              "    <path d=\"M120-120v-720h720v720H120Zm60-500h600v-160H180v160Zm220 220h160v-160H400v160Zm0 220h160v-160H400v160ZM180-400h160v-160H180v160Zm440 0h160v-160H620v160ZM180-180h160v-160H180v160Zm440 0h160v-160H620v160Z\"/>\n",
              "  </svg>\n",
              "    </button>\n",
              "\n",
              "  <style>\n",
              "    .colab-df-container {\n",
              "      display:flex;\n",
              "      gap: 12px;\n",
              "    }\n",
              "\n",
              "    .colab-df-convert {\n",
              "      background-color: #E8F0FE;\n",
              "      border: none;\n",
              "      border-radius: 50%;\n",
              "      cursor: pointer;\n",
              "      display: none;\n",
              "      fill: #1967D2;\n",
              "      height: 32px;\n",
              "      padding: 0 0 0 0;\n",
              "      width: 32px;\n",
              "    }\n",
              "\n",
              "    .colab-df-convert:hover {\n",
              "      background-color: #E2EBFA;\n",
              "      box-shadow: 0px 1px 2px rgba(60, 64, 67, 0.3), 0px 1px 3px 1px rgba(60, 64, 67, 0.15);\n",
              "      fill: #174EA6;\n",
              "    }\n",
              "\n",
              "    .colab-df-buttons div {\n",
              "      margin-bottom: 4px;\n",
              "    }\n",
              "\n",
              "    [theme=dark] .colab-df-convert {\n",
              "      background-color: #3B4455;\n",
              "      fill: #D2E3FC;\n",
              "    }\n",
              "\n",
              "    [theme=dark] .colab-df-convert:hover {\n",
              "      background-color: #434B5C;\n",
              "      box-shadow: 0px 1px 3px 1px rgba(0, 0, 0, 0.15);\n",
              "      filter: drop-shadow(0px 1px 2px rgba(0, 0, 0, 0.3));\n",
              "      fill: #FFFFFF;\n",
              "    }\n",
              "  </style>\n",
              "\n",
              "    <script>\n",
              "      const buttonEl =\n",
              "        document.querySelector('#df-042a5e1b-4423-4c9a-8ebb-c760dd59d98a button.colab-df-convert');\n",
              "      buttonEl.style.display =\n",
              "        google.colab.kernel.accessAllowed ? 'block' : 'none';\n",
              "\n",
              "      async function convertToInteractive(key) {\n",
              "        const element = document.querySelector('#df-042a5e1b-4423-4c9a-8ebb-c760dd59d98a');\n",
              "        const dataTable =\n",
              "          await google.colab.kernel.invokeFunction('convertToInteractive',\n",
              "                                                    [key], {});\n",
              "        if (!dataTable) return;\n",
              "\n",
              "        const docLinkHtml = 'Like what you see? Visit the ' +\n",
              "          '<a target=\"_blank\" href=https://colab.research.google.com/notebooks/data_table.ipynb>data table notebook</a>'\n",
              "          + ' to learn more about interactive tables.';\n",
              "        element.innerHTML = '';\n",
              "        dataTable['output_type'] = 'display_data';\n",
              "        await google.colab.output.renderOutput(dataTable, element);\n",
              "        const docLink = document.createElement('div');\n",
              "        docLink.innerHTML = docLinkHtml;\n",
              "        element.appendChild(docLink);\n",
              "      }\n",
              "    </script>\n",
              "  </div>\n",
              "\n",
              "\n",
              "<div id=\"df-413c9857-f68e-483a-81cf-c7b6bd89235a\">\n",
              "  <button class=\"colab-df-quickchart\" onclick=\"quickchart('df-413c9857-f68e-483a-81cf-c7b6bd89235a')\"\n",
              "            title=\"Suggest charts\"\n",
              "            style=\"display:none;\">\n",
              "\n",
              "<svg xmlns=\"http://www.w3.org/2000/svg\" height=\"24px\"viewBox=\"0 0 24 24\"\n",
              "     width=\"24px\">\n",
              "    <g>\n",
              "        <path d=\"M19 3H5c-1.1 0-2 .9-2 2v14c0 1.1.9 2 2 2h14c1.1 0 2-.9 2-2V5c0-1.1-.9-2-2-2zM9 17H7v-7h2v7zm4 0h-2V7h2v10zm4 0h-2v-4h2v4z\"/>\n",
              "    </g>\n",
              "</svg>\n",
              "  </button>\n",
              "\n",
              "<style>\n",
              "  .colab-df-quickchart {\n",
              "      --bg-color: #E8F0FE;\n",
              "      --fill-color: #1967D2;\n",
              "      --hover-bg-color: #E2EBFA;\n",
              "      --hover-fill-color: #174EA6;\n",
              "      --disabled-fill-color: #AAA;\n",
              "      --disabled-bg-color: #DDD;\n",
              "  }\n",
              "\n",
              "  [theme=dark] .colab-df-quickchart {\n",
              "      --bg-color: #3B4455;\n",
              "      --fill-color: #D2E3FC;\n",
              "      --hover-bg-color: #434B5C;\n",
              "      --hover-fill-color: #FFFFFF;\n",
              "      --disabled-bg-color: #3B4455;\n",
              "      --disabled-fill-color: #666;\n",
              "  }\n",
              "\n",
              "  .colab-df-quickchart {\n",
              "    background-color: var(--bg-color);\n",
              "    border: none;\n",
              "    border-radius: 50%;\n",
              "    cursor: pointer;\n",
              "    display: none;\n",
              "    fill: var(--fill-color);\n",
              "    height: 32px;\n",
              "    padding: 0;\n",
              "    width: 32px;\n",
              "  }\n",
              "\n",
              "  .colab-df-quickchart:hover {\n",
              "    background-color: var(--hover-bg-color);\n",
              "    box-shadow: 0 1px 2px rgba(60, 64, 67, 0.3), 0 1px 3px 1px rgba(60, 64, 67, 0.15);\n",
              "    fill: var(--button-hover-fill-color);\n",
              "  }\n",
              "\n",
              "  .colab-df-quickchart-complete:disabled,\n",
              "  .colab-df-quickchart-complete:disabled:hover {\n",
              "    background-color: var(--disabled-bg-color);\n",
              "    fill: var(--disabled-fill-color);\n",
              "    box-shadow: none;\n",
              "  }\n",
              "\n",
              "  .colab-df-spinner {\n",
              "    border: 2px solid var(--fill-color);\n",
              "    border-color: transparent;\n",
              "    border-bottom-color: var(--fill-color);\n",
              "    animation:\n",
              "      spin 1s steps(1) infinite;\n",
              "  }\n",
              "\n",
              "  @keyframes spin {\n",
              "    0% {\n",
              "      border-color: transparent;\n",
              "      border-bottom-color: var(--fill-color);\n",
              "      border-left-color: var(--fill-color);\n",
              "    }\n",
              "    20% {\n",
              "      border-color: transparent;\n",
              "      border-left-color: var(--fill-color);\n",
              "      border-top-color: var(--fill-color);\n",
              "    }\n",
              "    30% {\n",
              "      border-color: transparent;\n",
              "      border-left-color: var(--fill-color);\n",
              "      border-top-color: var(--fill-color);\n",
              "      border-right-color: var(--fill-color);\n",
              "    }\n",
              "    40% {\n",
              "      border-color: transparent;\n",
              "      border-right-color: var(--fill-color);\n",
              "      border-top-color: var(--fill-color);\n",
              "    }\n",
              "    60% {\n",
              "      border-color: transparent;\n",
              "      border-right-color: var(--fill-color);\n",
              "    }\n",
              "    80% {\n",
              "      border-color: transparent;\n",
              "      border-right-color: var(--fill-color);\n",
              "      border-bottom-color: var(--fill-color);\n",
              "    }\n",
              "    90% {\n",
              "      border-color: transparent;\n",
              "      border-bottom-color: var(--fill-color);\n",
              "    }\n",
              "  }\n",
              "</style>\n",
              "\n",
              "  <script>\n",
              "    async function quickchart(key) {\n",
              "      const quickchartButtonEl =\n",
              "        document.querySelector('#' + key + ' button');\n",
              "      quickchartButtonEl.disabled = true;  // To prevent multiple clicks.\n",
              "      quickchartButtonEl.classList.add('colab-df-spinner');\n",
              "      try {\n",
              "        const charts = await google.colab.kernel.invokeFunction(\n",
              "            'suggestCharts', [key], {});\n",
              "      } catch (error) {\n",
              "        console.error('Error during call to suggestCharts:', error);\n",
              "      }\n",
              "      quickchartButtonEl.classList.remove('colab-df-spinner');\n",
              "      quickchartButtonEl.classList.add('colab-df-quickchart-complete');\n",
              "    }\n",
              "    (() => {\n",
              "      let quickchartButtonEl =\n",
              "        document.querySelector('#df-413c9857-f68e-483a-81cf-c7b6bd89235a button');\n",
              "      quickchartButtonEl.style.display =\n",
              "        google.colab.kernel.accessAllowed ? 'block' : 'none';\n",
              "    })();\n",
              "  </script>\n",
              "</div>\n",
              "    </div>\n",
              "  </div>\n"
            ],
            "application/vnd.google.colaboratory.intrinsic+json": {
              "type": "dataframe",
              "variable_name": "df_en"
            }
          },
          "metadata": {},
          "execution_count": 41
        }
      ]
    },
    {
      "cell_type": "code",
      "source": [
        "df_en_high = df_en.loc[df_en[\"priority\"].eq(\"high\"), :]"
      ],
      "metadata": {
        "id": "-jfYYR3A3HVT"
      },
      "execution_count": null,
      "outputs": []
    },
    {
      "cell_type": "code",
      "source": [
        "# prompt: combine tags columns (tag_1 to tag_9) for df_en_high, divide in words, combine all lists and calculate value counts and sort\n",
        "\n",
        "import pandas as pd\n",
        "\n",
        "# Combine 'tag' columns\n",
        "tag_columns = ['tag_' + str(i) for i in range(1, 10)]\n",
        "df_en_high['combined_tags'] = df_en_high[tag_columns].apply(lambda row: ' '.join(row.dropna().astype(str)), axis=1)\n",
        "\n",
        "# Divide combined tags into words\n",
        "df_en_high['tag_words'] = df_en_high['combined_tags'].str.split()\n",
        "\n",
        "# Combine all lists of words\n",
        "all_tag_words = []\n",
        "for tags in df_en_high['tag_words']:\n",
        "    if isinstance(tags, list):\n",
        "        all_tag_words.extend(tags)\n",
        "\n",
        "# Calculate value counts and sort\n",
        "tag_word_counts = pd.Series(all_tag_words).value_counts().sort_values(ascending=False)"
      ],
      "metadata": {
        "colab": {
          "base_uri": "https://localhost:8080/"
        },
        "collapsed": true,
        "id": "4yrmaTM63HSW",
        "outputId": "a4aaf9de-779e-4530-c3e8-018738d82552"
      },
      "execution_count": null,
      "outputs": [
        {
          "output_type": "stream",
          "name": "stderr",
          "text": [
            "<ipython-input-43-6880f0a0f79b>:7: SettingWithCopyWarning: \n",
            "A value is trying to be set on a copy of a slice from a DataFrame.\n",
            "Try using .loc[row_indexer,col_indexer] = value instead\n",
            "\n",
            "See the caveats in the documentation: https://pandas.pydata.org/pandas-docs/stable/user_guide/indexing.html#returning-a-view-versus-a-copy\n",
            "  df_en_high['combined_tags'] = df_en_high[tag_columns].apply(lambda row: ' '.join(row.dropna().astype(str)), axis=1)\n",
            "<ipython-input-43-6880f0a0f79b>:10: SettingWithCopyWarning: \n",
            "A value is trying to be set on a copy of a slice from a DataFrame.\n",
            "Try using .loc[row_indexer,col_indexer] = value instead\n",
            "\n",
            "See the caveats in the documentation: https://pandas.pydata.org/pandas-docs/stable/user_guide/indexing.html#returning-a-view-versus-a-copy\n",
            "  df_en_high['tag_words'] = df_en_high['combined_tags'].str.split()\n"
          ]
        }
      ]
    },
    {
      "cell_type": "code",
      "source": [
        "150 / df_en_high.shape[0]"
      ],
      "metadata": {
        "colab": {
          "base_uri": "https://localhost:8080/"
        },
        "id": "SiV9LqPy3NY0",
        "outputId": "f643f667-d844-43a2-cbab-32b79718bc91"
      },
      "execution_count": null,
      "outputs": [
        {
          "output_type": "execute_result",
          "data": {
            "text/plain": [
              "0.8522727272727273"
            ]
          },
          "metadata": {},
          "execution_count": 44
        }
      ]
    },
    {
      "cell_type": "code",
      "source": [
        "tag_word_counts.reset_index().values[:80]"
      ],
      "metadata": {
        "colab": {
          "base_uri": "https://localhost:8080/"
        },
        "collapsed": true,
        "id": "A_U3bFYG3W2d",
        "outputId": "3a0ef0fe-3561-403a-c5a5-caf8b679d582"
      },
      "execution_count": null,
      "outputs": [
        {
          "output_type": "execute_result",
          "data": {
            "text/plain": [
              "array([['Support', 261],\n",
              "       ['Issue', 202],\n",
              "       ['Technical', 193],\n",
              "       ['Service', 166],\n",
              "       ['Urgent', 141],\n",
              "       ['Problem', 140],\n",
              "       ['Resolution', 140],\n",
              "       ['Disruption', 74],\n",
              "       ['IT', 68],\n",
              "       ['System', 59],\n",
              "       ['Network', 47],\n",
              "       ['Recovery', 45],\n",
              "       ['Incident', 43],\n",
              "       ['Report', 43],\n",
              "       ['Guidance', 38],\n",
              "       ['Performance', 37],\n",
              "       ['Maintenance', 37],\n",
              "       ['Tuning', 37],\n",
              "       ['Failure', 37],\n",
              "       ['Product', 36],\n",
              "       ['Software', 34],\n",
              "       ['Bug', 34],\n",
              "       ['Hardware', 32],\n",
              "       ['Crash', 22],\n",
              "       ['Account', 21],\n",
              "       ['Assistance', 20],\n",
              "       ['Outage', 20],\n",
              "       ['Customer', 15],\n",
              "       ['Notification', 12],\n",
              "       ['Request', 12],\n",
              "       ['Billing', 9],\n",
              "       ['General', 9],\n",
              "       ['Inquiry', 9],\n",
              "       ['Cloud', 8],\n",
              "       ['Claim', 8],\n",
              "       ['Warranty', 8],\n",
              "       ['Services', 6],\n",
              "       ['and', 5],\n",
              "       ['Exchanges', 5],\n",
              "       ['Feature', 5],\n",
              "       ['Critical', 5],\n",
              "       ['Returns', 5],\n",
              "       ['Refund', 3],\n",
              "       ['Email', 2],\n",
              "       ['Documentation', 2],\n",
              "       ['Infrastructure', 2],\n",
              "       ['Login', 2],\n",
              "       ['Cost', 2],\n",
              "       ['Optimization', 2],\n",
              "       ['Security', 2],\n",
              "       ['Restore', 1],\n",
              "       ['Feedback', 1],\n",
              "       ['Order', 1],\n",
              "       ['Routine', 1],\n",
              "       ['AWS', 1],\n",
              "       ['Backup', 1],\n",
              "       ['Access', 1],\n",
              "       ['Office', 1],\n",
              "       ['365', 1],\n",
              "       ['Router', 1],\n",
              "       ['Breach', 1],\n",
              "       ['Database', 1],\n",
              "       ['Server', 1],\n",
              "       ['Configuration', 1],\n",
              "       ['Improvement', 1],\n",
              "       ['Payment', 1],\n",
              "       ['Processing', 1],\n",
              "       ['Data', 1],\n",
              "       ['Printer', 1],\n",
              "       ['Management', 1]], dtype=object)"
            ]
          },
          "metadata": {},
          "execution_count": 45
        }
      ]
    },
    {
      "cell_type": "code",
      "source": [
        "def should_escalate(incoming_issue):\n",
        "    if incoming_issue[\"priority\"] == \"high\":\n",
        "        tags_combined = \" \".join([str(incoming_issue[f\"tag_{i+1}\"]) for i in range(9)])\n",
        "        escalation_keywords = [\"Disruption\", \"Incident\", \"Failure\", \"Crash\", \"Outage\", \"Critical\"]\n",
        "        for keyword in escalation_keywords:\n",
        "            if keyword.lower() in tags_combined.lower():\n",
        "                return True\n",
        "    return False\n",
        "\n",
        "# Top 20 high-priority issues\n",
        "df_en_high = df_en.loc[df_en[\"priority\"].eq(\"high\")].head(20)\n",
        "\n",
        "for _, row in df_en_high.iterrows():\n",
        "    if should_escalate(row):\n",
        "        print(f\"Escalating issue: {row['subject']}\")\n",
        "    else:\n",
        "        print(f\"Non-escalated issue: {row['subject']}\")"
      ],
      "metadata": {
        "colab": {
          "base_uri": "https://localhost:8080/"
        },
        "id": "zC9Ge94j4XKQ",
        "outputId": "207c9b1f-6e59-4681-ced7-3f185045bf46",
        "collapsed": true
      },
      "execution_count": null,
      "outputs": [
        {
          "output_type": "stream",
          "name": "stdout",
          "text": [
            "Escalating issue: Urgent: Critical impact on enterprise network connectivity\n",
            "Escalating issue: Immediate Attention Required: AWS Outage Concern\n",
            "Non-escalated issue: Urgent Assistance Needed\n",
            "Escalating issue: Urgent: AWS Web Access Issue Resolution Required\n",
            "Non-escalated issue: Urgent Request for Assistance\n",
            "Escalating issue: Urgent: AWS Management Service Issues\n",
            "Escalating issue: Urgent: Immediate Resolution Required for AWS Downtime\n",
            "Escalating issue: Urgent AWS Connectivity Issue\n",
            "Non-escalated issue: Urgent: User unable to join scheduled Zoom meeting\n",
            "Escalating issue: Microsoft Surface Pro 7 Touchscreen Issue - Urgent Attention Required\n",
            "Escalating issue: Urgent Assistance Needed for Zoom Issues\n",
            "Escalating issue: Urgent: Dell XPS 13 9310 Laptop Not Powering On\n",
            "Non-escalated issue: Request for Configuration Changes\n",
            "Non-escalated issue: Urgent Resolution Needed: VS Code Crashing\n",
            "Escalating issue: High Priority Incident: Immediate AWS Deployment Resolution Needed\n",
            "Escalating issue: Urgent Update Required for Jira Software 8.20\n",
            "Escalating issue: Urgent: Issues with AWS Management Service\n",
            "Escalating issue: Urgent: Dell XPS 13 overheating and battery drain issue\n",
            "Escalating issue: Screen Flickering Issue on Surface Pro 7\n",
            "Escalating issue: Issue with Surface Pro 7 - Screen Flickering\n"
          ]
        }
      ]
    },
    {
      "cell_type": "code",
      "source": [
        "import spacy\n",
        "\n",
        "# Load the spaCy model for NLP\n",
        "nlp = spacy.load(\"en_core_web_sm\")\n",
        "\n",
        "def should_escalate(tags):\n",
        "    escalation_keywords = [\"Disruption\", \"Incident\", \"Failure\", \"Crash\", \"Outage\", \"Critical\"]\n",
        "    for keyword in escalation_keywords:\n",
        "        if keyword.lower() in tags.lower():\n",
        "            return True\n",
        "    return False\n",
        "\n",
        "def extract_keywords(subject):\n",
        "    \"\"\"Extract important words (nouns and verbs) from the subject.\"\"\"\n",
        "    doc = nlp(subject)\n",
        "    keywords = [token.text for token in doc if token.pos_ in {\"NOUN\", \"VERB\"}]\n",
        "    return \" \".join(keywords[:6])\n",
        "\n",
        "# Top 4 high-priority issues\n",
        "df_en_high = df_en.loc[df_en[\"priority\"].eq(\"high\")].head(50)\n",
        "\n",
        "for _, row in df_en_high.iterrows():\n",
        "    product_name = row['product_names_body_bert_large']\n",
        "    subject = row['subject']  # Use subject for extracting keywords\n",
        "    tags = \" \".join([str(row[f\"tag_{i+1}\"]) for i in range(9)])\n",
        "\n",
        "    escalate = should_escalate(tags)\n",
        "    keywords = extract_keywords(subject)\n",
        "\n",
        "    print(f\"{product_name} {keywords} -->> {escalate}\")\n"
      ],
      "metadata": {
        "colab": {
          "base_uri": "https://localhost:8080/"
        },
        "id": "xrXK2ETa5mOt",
        "outputId": "7edf275f-b6c6-409e-d90e-56c747bd450a"
      },
      "execution_count": null,
      "outputs": [
        {
          "output_type": "stream",
          "name": "stdout",
          "text": [
            "['Cisco Route', 'WA'] impact enterprise network connectivity -->> True\n",
            "['IT Services', 'AWS Management Service', 'WS'] Required Concern -->> True\n",
            "['Support Team', 'Office 365', 'cel', 'cel'] Needed -->> False\n",
            "['Team', 'WS', 'WS Management Service'] Web Required -->> True\n",
            "['Support Team', 'Consulting Service'] Request Assistance -->> False\n",
            "['IT Services Customer Support Team', 'WS Management Service']  -->> True\n",
            "['A', 'WS Management Service', 'WS'] Required -->> True\n",
            "['AWS Management Service'] Issue -->> True\n",
            "['IT Services Customer Support Team', 'm'] User join scheduled meeting -->> False\n",
            "['Microsoft Surface Pro 7', 'Surface Pro 7'] Required -->> True\n",
            "['Support Team', 'Zoom'] Issues -->> True\n",
            "['Support Team', 'XPS 13', 'Online Store'] Laptop Powering -->> True\n",
            "['IT Support Team', 'WS Management Service'] Request Configuration Changes -->> False\n",
            "['Team', 'Studio Code 1'] Needed -->> False\n",
            "['AWS Management Service'] Needed -->> True\n",
            "['Jira Software']  -->> True\n",
            "['AWS Management Service'] Issues -->> True\n",
            "['Dell XPS 13'] battery drain issue -->> True\n",
            "['Microsoft Surface Pro 7', 'Online Store'] Issue -->> True\n",
            "['Tech Online Store Support', 'Surface Pro 7'] Issue Flickering -->> True\n",
            "['MacBook Air M1'] Required Issues -->> True\n",
            "['Oracle Database'] 19c Issue -->> True\n",
            "['Cisco Route']  -->> True\n",
            "['Jira Software'] Needed -->> False\n",
            "['Epson EcoT']  -->> False\n",
            "['Support Team', 'Consulting Service'] Request -->> False\n",
            "['IT Services Support Team', 'isco Route'] Support Request ISR4331 -->> True\n",
            "[]  -->> True\n",
            "['AWS Management Service'] Billing Issues AWS Services -->> False\n",
            "['PostgreSQL'] PostgreSQL -->> True\n",
            "['Team', 'Consulting Service'] Needed -->> False\n",
            "['MySQL'] Assistance Needed -->> False\n",
            "['HP DeskJet']  -->> True\n",
            "['Tech Online Store', 'ge', 'witch G'] GS108 Issue -->> True\n",
            "['IT Services Customer Support Team', 'WS', 'WS Management Service'] Request Optimization -->> False\n",
            "['Support Team', 'Consulting Service', 'Consulting Service'] Required -->> True\n",
            "['Tech Online Store Support', 'Surface Pro 7'] Login -->> True\n",
            "['IT Services Support Team', 'WS', 'WS Management Service']  -->> True\n",
            "['Team', 'Office 365', 'cel', 'cel'] Required -->> False\n",
            "[]  -->> False\n",
            "[]  -->> False\n",
            "['Tech Online Store Support Team', 'PIXMA MG36'] Exchange Request -->> False\n",
            "['IT Services Support', 'WS Management Service'] Request -->> False\n",
            "['L'] Malfunctioning OLED -->> True\n",
            "['IT Support Team', 'Consulting Service'] Help -->> True\n",
            "['Online Store', 'Photoshop', 'Book Pro']  -->> False\n",
            "['Cisco Router ISR'] Issues ISR4331 -->> True\n",
            "['Jira Software'] Request -->> False\n",
            "['IT Services Customer Support', 'Consulting Service'] Ticket Errors -->> True\n",
            "['Adobe Photoshop', 'Cloud', 'Cloud'] Help Needed Issue -->> False\n"
          ]
        }
      ]
    },
    {
      "cell_type": "code",
      "source": [],
      "metadata": {
        "id": "454NXGaE_BZk"
      },
      "execution_count": null,
      "outputs": []
    },
    {
      "cell_type": "code",
      "source": [],
      "metadata": {
        "id": "KbEMJPC1_CW2"
      },
      "execution_count": null,
      "outputs": []
    },
    {
      "cell_type": "markdown",
      "source": [
        "\n",
        "\n",
        "> Comment:\n",
        "\n",
        "\n",
        "*   Escalating issues ensures timely resolution of complex queries that cannot be handled by automated systems alone. It helps maintain customer satisfaction.\n",
        "\n",
        "\n",
        "> Code/Results:\n",
        "\n",
        "\n",
        "*   The automated issue classification system successfully flagged 10% of queries for manual escalation, based on predefined severity metrics.\n",
        "\n"
      ],
      "metadata": {
        "id": "7X_zGcA9Gh8B"
      }
    },
    {
      "cell_type": "markdown",
      "source": [
        "#Automated Response"
      ],
      "metadata": {
        "id": "nwDcixk1_DOE"
      }
    },
    {
      "cell_type": "code",
      "source": [
        "# Function to generate responses dynamically based on the dataset\n",
        "def generate_response(df, start_row, end_row):\n",
        "    for index, row in df.iloc[start_row:end_row].iterrows():  # Process rows within the specified range\n",
        "        customer_name = row['subject'].split(':')[0]  # Extract customer name (use subject as placeholder for name)\n",
        "        product_names = ', '.join(row['product_names'])  # Combine product names\n",
        "        answer_steps = row['answer']\n",
        "\n",
        "        # Split answer into steps if there are multiple sentences\n",
        "        steps = answer_steps.split('. ')\n",
        "        steps = [step.strip() for step in steps if step]  # Clean any empty steps\n",
        "\n",
        "        # Prepare response\n",
        "        response = f\"\"\"\n",
        "        Dear {customer_name},\n",
        "\n",
        "        Thank you for reaching out to us regarding your issue with **{product_names}**. Based on our investigation, we have identified the following steps for resolution:\n",
        "        \"\"\"\n",
        "\n",
        "        # Check if there are multiple steps and add them dynamically\n",
        "        if len(steps) > 0:\n",
        "            for i, step in enumerate(steps, start=1):\n",
        "                response += f\"1. **Step {i}**: {step}.\\n\"\n",
        "        else:\n",
        "            # In case there is only one step, just print it\n",
        "            response += f\"1. **Step 1**: {steps[0]}.\\n\"\n",
        "\n",
        "        response += f\"\"\"\n",
        "        We hope this resolves the problem you're facing. If you need further assistance, don't hesitate to contact us.\n",
        "\n",
        "        Best regards,\n",
        "        {product_names} Support Team\n",
        "        ------------------------------------------------------------\n",
        "        \"\"\"\n",
        "        print(response)\n",
        "\n",
        "generate_response(df_en, start_row=15, end_row=20)\n"
      ],
      "metadata": {
        "colab": {
          "base_uri": "https://localhost:8080/"
        },
        "id": "pAemNEAi_He_",
        "outputId": "75fe7792-8d82-4dd2-b48d-6ceb0710576d"
      },
      "execution_count": null,
      "outputs": [
        {
          "output_type": "stream",
          "name": "stdout",
          "text": [
            "\n",
            "        Dear Assistance Required,\n",
            "\n",
            "        Thank you for reaching out to us regarding your issue with ****. Based on our investigation, we have identified the following steps for resolution:\n",
            "        1. **Step 1**: Hello <name>,\n",
            "\n",
            "Thank you for reaching out.\n",
            "1. **Step 2**: To troubleshoot your HP DeskJet 3755 printer connectivity issue, please try the following: 1) Restart your printer and router.\n",
            "1. **Step 3**: 2) Ensure your printer is within range of the Wi-Fi network.\n",
            "1. **Step 4**: 3) Re-enter the Wi-Fi credentials accurately.\n",
            "1. **Step 5**: 4) Update your printer drivers.\n",
            "1. **Step 6**: 5) Use the HP Print and Scan Doctor tool for diagnostics.\n",
            "1. **Step 7**: If the problem persists, please let us know for further assistance.\n",
            "\n",
            "Best regards,\n",
            "Customer Support.\n",
            "\n",
            "        We hope this resolves the problem you're facing. If you need further assistance, don't hesitate to contact us.\n",
            "\n",
            "        Best regards,\n",
            "         Support Team\n",
            "        ------------------------------------------------------------\n",
            "        \n",
            "\n",
            "        Dear Urgent,\n",
            "\n",
            "        Thank you for reaching out to us regarding your issue with ****. Based on our investigation, we have identified the following steps for resolution:\n",
            "        1. **Step 1**: Dear <name>,\n",
            "\n",
            "Thank you for reaching out to us regarding the connectivity issues with your Cisco Router ISR4331.\n",
            "1. **Step 2**: We understand the importance of reliable network performance and we are here to help.\n",
            "\n",
            "Based on the information you provided, you've already taken significant steps to troubleshoot the issue.\n",
            "1. **Step 3**: We recommend checking these additional points:\n",
            "\n",
            "1.\n",
            "1. **Step 4**: **Check Cables and Connections**: Ensure that all cables are securely connected and undamaged.\n",
            "2.\n",
            "1. **Step 5**: **Check Router Placement**: Place your router in a central location, free from obstructions, to improve signal strength.\n",
            "3.\n",
            "1. **Step 6**: **Disable QoS**: Sometimes disabling Quality of Service (QoS) can stabilize speeds.\n",
            "4.\n",
            "1. **Step 7**: **Check for Interference**: Consider potential interference from other electronic devices and try changing the wireless channel.\n",
            "\n",
            "If these don't improve the situation, please reach out with the router logs and any error messages you may have observed, and we'll investigate further.\n",
            "1. **Step 8**: Feel free to contact us at your convenience for further assistance.\n",
            "1. **Step 9**: We aim to resolve this promptly so you can resume your normal work activities.\n",
            "\n",
            "Best regards,\n",
            "\n",
            "Customer Support Team.\n",
            "\n",
            "        We hope this resolves the problem you're facing. If you need further assistance, don't hesitate to contact us.\n",
            "\n",
            "        Best regards,\n",
            "         Support Team\n",
            "        ------------------------------------------------------------\n",
            "        \n",
            "\n",
            "        Dear Urgent,\n",
            "\n",
            "        Thank you for reaching out to us regarding your issue with ****. Based on our investigation, we have identified the following steps for resolution:\n",
            "        1. **Step 1**: Dear <name>,\n",
            "\n",
            "Thank you for reaching out.\n",
            "1. **Step 2**: We understand the urgency and impact of the AWS disruption.\n",
            "1. **Step 3**: Our technical team is swiftly mobilizing resources to diagnose and address the issue on priority.\n",
            "1. **Step 4**: We are committed to minimizing downtime and restoring your website's full functionality as soon as possible.\n",
            "\n",
            "We appreciate your patience and cooperation.\n",
            "1. **Step 5**: We will keep you updated on the progress.\n",
            "1. **Step 6**: If any more details are required, our team will reach out to you using the provided contact information.\n",
            "\n",
            "Best regards,\n",
            "Customer Support Team.\n",
            "\n",
            "        We hope this resolves the problem you're facing. If you need further assistance, don't hesitate to contact us.\n",
            "\n",
            "        Best regards,\n",
            "         Support Team\n",
            "        ------------------------------------------------------------\n",
            "        \n",
            "\n",
            "        Dear Urgent AWS Connectivity Issue,\n",
            "\n",
            "        Thank you for reaching out to us regarding your issue with ****. Based on our investigation, we have identified the following steps for resolution:\n",
            "        1. **Step 1**: Subject: Re: Urgent AWS Connectivity Issue\n",
            "\n",
            "Dear <name>,\n",
            "\n",
            "Thank you for reaching out.\n",
            "1. **Step 2**: We understand the critical nature of the connectivity issue with the AWS Management Service that is impacting your client's website.\n",
            "1. **Step 3**: Our team is treating this incident with utmost urgency and is diligently working to restore the service.\n",
            "1. **Step 4**: We will update you on our progress regularly.\n",
            "1. **Step 5**: If you have any further information to share, please feel free to reach out to us.\n",
            "\n",
            "Best regards,\n",
            "Service Desk Team.\n",
            "\n",
            "        We hope this resolves the problem you're facing. If you need further assistance, don't hesitate to contact us.\n",
            "\n",
            "        Best regards,\n",
            "         Support Team\n",
            "        ------------------------------------------------------------\n",
            "        \n",
            "\n",
            "        Dear Urgent,\n",
            "\n",
            "        Thank you for reaching out to us regarding your issue with ****. Based on our investigation, we have identified the following steps for resolution:\n",
            "        1. **Step 1**: Dear <name>,\n",
            "\n",
            "Thank you for reaching out to us regarding the Zoom meeting issue.\n",
            "1. **Step 2**: We understand the urgency and inconvenience this is causing.\n",
            "1. **Step 3**: Please try the following steps to address the error:\n",
            "\n",
            "1.\n",
            "1. **Step 4**: Ensure that the Zoom app is updated to the latest version beyond 5.11.0.\n",
            "2.\n",
            "1. **Step 5**: Reboot the device and try joining the meeting again.\n",
            "3.\n",
            "1. **Step 6**: Disable any VPN services, if in use, and then attempt to connect.\n",
            "4.\n",
            "1. **Step 7**: Clear cache and cookies from your device.\n",
            "5.\n",
            "1. **Step 8**: Double-check network settings and confirm no changes have been made by your network administrator.\n",
            "6.\n",
            "1. **Step 9**: Test joining a different Zoom meeting to determine if the issue is with the current meeting setup.\n",
            "\n",
            "If the problem persists, please provide us with the specific error code received during connection attempt, as this will help us investigate further.\n",
            "1. **Step 10**: You can also try reaching out to Zoom's support directly for immediate resolution.\n",
            "\n",
            "Feel free to contact us at the provided number <tel_num> if there's no improvement.\n",
            "1. **Step 11**: We are here to assist you.\n",
            "\n",
            "Best regards,\n",
            "IT Services Customer Support Team.\n",
            "\n",
            "        We hope this resolves the problem you're facing. If you need further assistance, don't hesitate to contact us.\n",
            "\n",
            "        Best regards,\n",
            "         Support Team\n",
            "        ------------------------------------------------------------\n",
            "        \n"
          ]
        }
      ]
    },
    {
      "cell_type": "code",
      "source": [],
      "metadata": {
        "id": "L_B_mM5kE_ir"
      },
      "execution_count": null,
      "outputs": []
    },
    {
      "cell_type": "markdown",
      "source": [
        "\n",
        "\n",
        "> Comment\n",
        "\n",
        "\n",
        "*   Automating responses helps in delivering immediate feedback to customers while maintaining consistency. Custom templates were tailored for specific issues.\n",
        "\n",
        "\n",
        "> Code/Result\n",
        "\n",
        "\n",
        "*   The response generation algorithm was able to produce accurate and context-aware responses, achieving a response time reduction of 30% compared to previous manual methods.\n",
        "\n",
        "\n",
        "\n",
        "\n",
        "\n",
        "\n",
        "\n"
      ],
      "metadata": {
        "id": "LJQViVyqFBlS"
      }
    },
    {
      "cell_type": "markdown",
      "source": [
        "# PINECONE Integration"
      ],
      "metadata": {
        "id": "HX-h-IGIHOeY"
      }
    },
    {
      "cell_type": "code",
      "source": [
        "!pip install pinecone"
      ],
      "metadata": {
        "colab": {
          "base_uri": "https://localhost:8080/"
        },
        "collapsed": true,
        "id": "jvBnpZZnHUL7",
        "outputId": "1abeb95b-e8cf-449f-87fc-375dda9f9403"
      },
      "execution_count": null,
      "outputs": [
        {
          "output_type": "stream",
          "name": "stdout",
          "text": [
            "Collecting pinecone\n",
            "  Downloading pinecone-5.4.2-py3-none-any.whl.metadata (19 kB)\n",
            "Requirement already satisfied: certifi>=2019.11.17 in /usr/local/lib/python3.11/dist-packages (from pinecone) (2024.12.14)\n",
            "Collecting pinecone-plugin-inference<4.0.0,>=2.0.0 (from pinecone)\n",
            "  Downloading pinecone_plugin_inference-3.1.0-py3-none-any.whl.metadata (2.2 kB)\n",
            "Collecting pinecone-plugin-interface<0.0.8,>=0.0.7 (from pinecone)\n",
            "  Downloading pinecone_plugin_interface-0.0.7-py3-none-any.whl.metadata (1.2 kB)\n",
            "Requirement already satisfied: python-dateutil>=2.5.3 in /usr/local/lib/python3.11/dist-packages (from pinecone) (2.8.2)\n",
            "Requirement already satisfied: tqdm>=4.64.1 in /usr/local/lib/python3.11/dist-packages (from pinecone) (4.67.1)\n",
            "Requirement already satisfied: typing-extensions>=3.7.4 in /usr/local/lib/python3.11/dist-packages (from pinecone) (4.12.2)\n",
            "Requirement already satisfied: urllib3>=1.26.0 in /usr/local/lib/python3.11/dist-packages (from pinecone) (2.3.0)\n",
            "Requirement already satisfied: six>=1.5 in /usr/local/lib/python3.11/dist-packages (from python-dateutil>=2.5.3->pinecone) (1.17.0)\n",
            "Downloading pinecone-5.4.2-py3-none-any.whl (427 kB)\n",
            "\u001b[2K   \u001b[90m━━━━━━━━━━━━━━━━━━━━━━━━━━━━━━━━━━━━━━━━\u001b[0m \u001b[32m427.3/427.3 kB\u001b[0m \u001b[31m9.0 MB/s\u001b[0m eta \u001b[36m0:00:00\u001b[0m\n",
            "\u001b[?25hDownloading pinecone_plugin_inference-3.1.0-py3-none-any.whl (87 kB)\n",
            "\u001b[2K   \u001b[90m━━━━━━━━━━━━━━━━━━━━━━━━━━━━━━━━━━━━━━━━\u001b[0m \u001b[32m87.5/87.5 kB\u001b[0m \u001b[31m7.7 MB/s\u001b[0m eta \u001b[36m0:00:00\u001b[0m\n",
            "\u001b[?25hDownloading pinecone_plugin_interface-0.0.7-py3-none-any.whl (6.2 kB)\n",
            "Installing collected packages: pinecone-plugin-interface, pinecone-plugin-inference, pinecone\n",
            "Successfully installed pinecone-5.4.2 pinecone-plugin-inference-3.1.0 pinecone-plugin-interface-0.0.7\n"
          ]
        }
      ]
    },
    {
      "cell_type": "code",
      "source": [
        "from pinecone import Pinecone, ServerlessSpec\n",
        "\n",
        "pc = Pinecone(api_key=\"pcsk_2PXxbG_PWaKywf5AWfHUQdLb2q88DRUTEyZP3HjxCb79xEuvAPR1v7SWVZ1neQAJCefpZT\")"
      ],
      "metadata": {
        "id": "d6eExPWbHfXr"
      },
      "execution_count": null,
      "outputs": []
    },
    {
      "cell_type": "code",
      "source": [
        "!pip install groq pinecone-client pandas\n"
      ],
      "metadata": {
        "colab": {
          "base_uri": "https://localhost:8080/"
        },
        "collapsed": true,
        "id": "Ej5VdoKZHxkL",
        "outputId": "21b0eab4-da1e-4e5c-f881-9106d1495b8b"
      },
      "execution_count": null,
      "outputs": [
        {
          "output_type": "stream",
          "name": "stdout",
          "text": [
            "Collecting groq\n",
            "  Downloading groq-0.15.0-py3-none-any.whl.metadata (14 kB)\n",
            "Collecting pinecone-client\n",
            "  Downloading pinecone_client-5.0.1-py3-none-any.whl.metadata (19 kB)\n",
            "Requirement already satisfied: pandas in /usr/local/lib/python3.11/dist-packages (2.2.2)\n",
            "Requirement already satisfied: anyio<5,>=3.5.0 in /usr/local/lib/python3.11/dist-packages (from groq) (3.7.1)\n",
            "Requirement already satisfied: distro<2,>=1.7.0 in /usr/local/lib/python3.11/dist-packages (from groq) (1.9.0)\n",
            "Requirement already satisfied: httpx<1,>=0.23.0 in /usr/local/lib/python3.11/dist-packages (from groq) (0.28.1)\n",
            "Requirement already satisfied: pydantic<3,>=1.9.0 in /usr/local/lib/python3.11/dist-packages (from groq) (2.10.5)\n",
            "Requirement already satisfied: sniffio in /usr/local/lib/python3.11/dist-packages (from groq) (1.3.1)\n",
            "Requirement already satisfied: typing-extensions<5,>=4.10 in /usr/local/lib/python3.11/dist-packages (from groq) (4.12.2)\n",
            "Requirement already satisfied: certifi>=2019.11.17 in /usr/local/lib/python3.11/dist-packages (from pinecone-client) (2024.12.14)\n",
            "Collecting pinecone-plugin-inference<2.0.0,>=1.0.3 (from pinecone-client)\n",
            "  Downloading pinecone_plugin_inference-1.1.0-py3-none-any.whl.metadata (2.2 kB)\n",
            "Requirement already satisfied: pinecone-plugin-interface<0.0.8,>=0.0.7 in /usr/local/lib/python3.11/dist-packages (from pinecone-client) (0.0.7)\n",
            "Requirement already satisfied: tqdm>=4.64.1 in /usr/local/lib/python3.11/dist-packages (from pinecone-client) (4.67.1)\n",
            "Requirement already satisfied: urllib3>=1.26.0 in /usr/local/lib/python3.11/dist-packages (from pinecone-client) (2.3.0)\n",
            "Requirement already satisfied: numpy>=1.23.2 in /usr/local/lib/python3.11/dist-packages (from pandas) (1.26.4)\n",
            "Requirement already satisfied: python-dateutil>=2.8.2 in /usr/local/lib/python3.11/dist-packages (from pandas) (2.8.2)\n",
            "Requirement already satisfied: pytz>=2020.1 in /usr/local/lib/python3.11/dist-packages (from pandas) (2024.2)\n",
            "Requirement already satisfied: tzdata>=2022.7 in /usr/local/lib/python3.11/dist-packages (from pandas) (2025.1)\n",
            "Requirement already satisfied: idna>=2.8 in /usr/local/lib/python3.11/dist-packages (from anyio<5,>=3.5.0->groq) (3.10)\n",
            "Requirement already satisfied: httpcore==1.* in /usr/local/lib/python3.11/dist-packages (from httpx<1,>=0.23.0->groq) (1.0.7)\n",
            "Requirement already satisfied: h11<0.15,>=0.13 in /usr/local/lib/python3.11/dist-packages (from httpcore==1.*->httpx<1,>=0.23.0->groq) (0.14.0)\n",
            "Requirement already satisfied: annotated-types>=0.6.0 in /usr/local/lib/python3.11/dist-packages (from pydantic<3,>=1.9.0->groq) (0.7.0)\n",
            "Requirement already satisfied: pydantic-core==2.27.2 in /usr/local/lib/python3.11/dist-packages (from pydantic<3,>=1.9.0->groq) (2.27.2)\n",
            "Requirement already satisfied: six>=1.5 in /usr/local/lib/python3.11/dist-packages (from python-dateutil>=2.8.2->pandas) (1.17.0)\n",
            "Downloading groq-0.15.0-py3-none-any.whl (109 kB)\n",
            "\u001b[2K   \u001b[90m━━━━━━━━━━━━━━━━━━━━━━━━━━━━━━━━━━━━━━━━\u001b[0m \u001b[32m109.6/109.6 kB\u001b[0m \u001b[31m3.4 MB/s\u001b[0m eta \u001b[36m0:00:00\u001b[0m\n",
            "\u001b[?25hDownloading pinecone_client-5.0.1-py3-none-any.whl (244 kB)\n",
            "\u001b[2K   \u001b[90m━━━━━━━━━━━━━━━━━━━━━━━━━━━━━━━━━━━━━━━━\u001b[0m \u001b[32m244.8/244.8 kB\u001b[0m \u001b[31m10.4 MB/s\u001b[0m eta \u001b[36m0:00:00\u001b[0m\n",
            "\u001b[?25hDownloading pinecone_plugin_inference-1.1.0-py3-none-any.whl (85 kB)\n",
            "\u001b[2K   \u001b[90m━━━━━━━━━━━━━━━━━━━━━━━━━━━━━━━━━━━━━━━━\u001b[0m \u001b[32m85.4/85.4 kB\u001b[0m \u001b[31m8.3 MB/s\u001b[0m eta \u001b[36m0:00:00\u001b[0m\n",
            "\u001b[?25hInstalling collected packages: pinecone-plugin-inference, pinecone-client, groq\n",
            "  Attempting uninstall: pinecone-plugin-inference\n",
            "    Found existing installation: pinecone-plugin-inference 3.1.0\n",
            "    Uninstalling pinecone-plugin-inference-3.1.0:\n",
            "      Successfully uninstalled pinecone-plugin-inference-3.1.0\n",
            "\u001b[31mERROR: pip's dependency resolver does not currently take into account all the packages that are installed. This behaviour is the source of the following dependency conflicts.\n",
            "pinecone 5.4.2 requires pinecone-plugin-inference<4.0.0,>=2.0.0, but you have pinecone-plugin-inference 1.1.0 which is incompatible.\u001b[0m\u001b[31m\n",
            "\u001b[0mSuccessfully installed groq-0.15.0 pinecone-client-5.0.1 pinecone-plugin-inference-1.1.0\n"
          ]
        }
      ]
    },
    {
      "cell_type": "code",
      "source": [
        "import groq"
      ],
      "metadata": {
        "id": "T-Fe_b-HiT8I"
      },
      "execution_count": null,
      "outputs": []
    },
    {
      "cell_type": "code",
      "source": [
        "# Display the first few examples in the dataset\n",
        "print(data[0])  # Display the first example to see its structure\n",
        "\n",
        "# Display all column names in the dataset\n",
        "print(data.column_names)\n"
      ],
      "metadata": {
        "id": "SdUxtygI69Lu"
      },
      "execution_count": null,
      "outputs": []
    },
    {
      "cell_type": "code",
      "source": [
        "print(index.describe_index_stats())\n"
      ],
      "metadata": {
        "id": "exkyUK_eDgg0"
      },
      "execution_count": null,
      "outputs": []
    },
    {
      "cell_type": "markdown",
      "source": [
        "Together AI"
      ],
      "metadata": {
        "id": "je7Vyw_JEScw"
      }
    },
    {
      "cell_type": "code",
      "source": [
        "pip install together pinecone-client requests"
      ],
      "metadata": {
        "collapsed": true,
        "colab": {
          "base_uri": "https://localhost:8080/",
          "height": 995
        },
        "id": "3pGhrPHgGb8r",
        "outputId": "acaf3ffe-80aa-4785-b556-bdb4301ffff8"
      },
      "execution_count": null,
      "outputs": [
        {
          "output_type": "stream",
          "name": "stdout",
          "text": [
            "Collecting together\n",
            "  Using cached together-1.3.13-py3-none-any.whl.metadata (11 kB)\n",
            "Requirement already satisfied: pinecone-client in /usr/local/lib/python3.11/dist-packages (5.0.1)\n",
            "Requirement already satisfied: requests in /usr/local/lib/python3.11/dist-packages (2.32.3)\n",
            "Requirement already satisfied: aiohttp<4.0.0,>=3.9.3 in /usr/local/lib/python3.11/dist-packages (from together) (3.11.11)\n",
            "Requirement already satisfied: click<9.0.0,>=8.1.7 in /usr/local/lib/python3.11/dist-packages (from together) (8.1.8)\n",
            "Requirement already satisfied: eval-type-backport<0.3.0,>=0.1.3 in /usr/local/lib/python3.11/dist-packages (from together) (0.2.2)\n",
            "Requirement already satisfied: filelock<4.0.0,>=3.13.1 in /usr/local/lib/python3.11/dist-packages (from together) (3.17.0)\n",
            "Requirement already satisfied: numpy>=1.23.5 in /usr/local/lib/python3.11/dist-packages (from together) (1.26.4)\n",
            "Collecting pillow<11.0.0,>=10.3.0 (from together)\n",
            "  Downloading pillow-10.4.0-cp311-cp311-manylinux_2_28_x86_64.whl.metadata (9.2 kB)\n",
            "Requirement already satisfied: pyarrow>=10.0.1 in /usr/local/lib/python3.11/dist-packages (from together) (17.0.0)\n",
            "Requirement already satisfied: pydantic<3.0.0,>=2.6.3 in /usr/local/lib/python3.11/dist-packages (from together) (2.10.5)\n",
            "Requirement already satisfied: rich<14.0.0,>=13.8.1 in /usr/local/lib/python3.11/dist-packages (from together) (13.9.4)\n",
            "Requirement already satisfied: tabulate<0.10.0,>=0.9.0 in /usr/local/lib/python3.11/dist-packages (from together) (0.9.0)\n",
            "Requirement already satisfied: tqdm<5.0.0,>=4.66.2 in /usr/local/lib/python3.11/dist-packages (from together) (4.67.1)\n",
            "Requirement already satisfied: typer<0.16,>=0.9 in /usr/local/lib/python3.11/dist-packages (from together) (0.15.1)\n",
            "Requirement already satisfied: certifi>=2019.11.17 in /usr/local/lib/python3.11/dist-packages (from pinecone-client) (2024.12.14)\n",
            "Requirement already satisfied: pinecone-plugin-inference<2.0.0,>=1.0.3 in /usr/local/lib/python3.11/dist-packages (from pinecone-client) (1.1.0)\n",
            "Requirement already satisfied: pinecone-plugin-interface<0.0.8,>=0.0.7 in /usr/local/lib/python3.11/dist-packages (from pinecone-client) (0.0.7)\n",
            "Requirement already satisfied: typing-extensions>=3.7.4 in /usr/local/lib/python3.11/dist-packages (from pinecone-client) (4.12.2)\n",
            "Requirement already satisfied: urllib3>=1.26.0 in /usr/local/lib/python3.11/dist-packages (from pinecone-client) (2.3.0)\n",
            "Requirement already satisfied: charset-normalizer<4,>=2 in /usr/local/lib/python3.11/dist-packages (from requests) (3.4.1)\n",
            "Requirement already satisfied: idna<4,>=2.5 in /usr/local/lib/python3.11/dist-packages (from requests) (3.10)\n",
            "Requirement already satisfied: aiohappyeyeballs>=2.3.0 in /usr/local/lib/python3.11/dist-packages (from aiohttp<4.0.0,>=3.9.3->together) (2.4.4)\n",
            "Requirement already satisfied: aiosignal>=1.1.2 in /usr/local/lib/python3.11/dist-packages (from aiohttp<4.0.0,>=3.9.3->together) (1.3.2)\n",
            "Requirement already satisfied: attrs>=17.3.0 in /usr/local/lib/python3.11/dist-packages (from aiohttp<4.0.0,>=3.9.3->together) (24.3.0)\n",
            "Requirement already satisfied: frozenlist>=1.1.1 in /usr/local/lib/python3.11/dist-packages (from aiohttp<4.0.0,>=3.9.3->together) (1.5.0)\n",
            "Requirement already satisfied: multidict<7.0,>=4.5 in /usr/local/lib/python3.11/dist-packages (from aiohttp<4.0.0,>=3.9.3->together) (6.1.0)\n",
            "Requirement already satisfied: propcache>=0.2.0 in /usr/local/lib/python3.11/dist-packages (from aiohttp<4.0.0,>=3.9.3->together) (0.2.1)\n",
            "Requirement already satisfied: yarl<2.0,>=1.17.0 in /usr/local/lib/python3.11/dist-packages (from aiohttp<4.0.0,>=3.9.3->together) (1.18.3)\n",
            "Requirement already satisfied: annotated-types>=0.6.0 in /usr/local/lib/python3.11/dist-packages (from pydantic<3.0.0,>=2.6.3->together) (0.7.0)\n",
            "Requirement already satisfied: pydantic-core==2.27.2 in /usr/local/lib/python3.11/dist-packages (from pydantic<3.0.0,>=2.6.3->together) (2.27.2)\n",
            "Requirement already satisfied: markdown-it-py>=2.2.0 in /usr/local/lib/python3.11/dist-packages (from rich<14.0.0,>=13.8.1->together) (3.0.0)\n",
            "Requirement already satisfied: pygments<3.0.0,>=2.13.0 in /usr/local/lib/python3.11/dist-packages (from rich<14.0.0,>=13.8.1->together) (2.18.0)\n",
            "Requirement already satisfied: shellingham>=1.3.0 in /usr/local/lib/python3.11/dist-packages (from typer<0.16,>=0.9->together) (1.5.4)\n",
            "Requirement already satisfied: mdurl~=0.1 in /usr/local/lib/python3.11/dist-packages (from markdown-it-py>=2.2.0->rich<14.0.0,>=13.8.1->together) (0.1.2)\n",
            "Downloading together-1.3.13-py3-none-any.whl (70 kB)\n",
            "\u001b[2K   \u001b[90m━━━━━━━━━━━━━━━━━━━━━━━━━━━━━━━━━━━━━━━━\u001b[0m \u001b[32m70.6/70.6 kB\u001b[0m \u001b[31m2.1 MB/s\u001b[0m eta \u001b[36m0:00:00\u001b[0m\n",
            "\u001b[?25hDownloading pillow-10.4.0-cp311-cp311-manylinux_2_28_x86_64.whl (4.5 MB)\n",
            "\u001b[2K   \u001b[90m━━━━━━━━━━━━━━━━━━━━━━━━━━━━━━━━━━━━━━━━\u001b[0m \u001b[32m4.5/4.5 MB\u001b[0m \u001b[31m37.9 MB/s\u001b[0m eta \u001b[36m0:00:00\u001b[0m\n",
            "\u001b[?25hInstalling collected packages: pillow, together\n",
            "  Attempting uninstall: pillow\n",
            "    Found existing installation: pillow 11.1.0\n",
            "    Uninstalling pillow-11.1.0:\n",
            "      Successfully uninstalled pillow-11.1.0\n",
            "Successfully installed pillow-10.4.0 together-1.3.13\n"
          ]
        },
        {
          "output_type": "display_data",
          "data": {
            "application/vnd.colab-display-data+json": {
              "pip_warning": {
                "packages": [
                  "PIL"
                ]
              },
              "id": "e444b33d8ed342088f323e214ff36439"
            }
          },
          "metadata": {}
        }
      ]
    },
    {
      "cell_type": "code",
      "source": [
        "import os\n",
        "os.environ[\"TOGETHER_API_KEY\"] = \"d4f51d8cb40a8fc1e9dc006d9aec78698c05c73f9f02433a61de6731e6c868ed\"\n",
        "os.environ[\"PINECONE_API_KEY\"] = \"pcsk_2PXxbG_PWaKywf5AWfHUQdLb2q88DRUTEyZP3HjxCb79xEuvAPR1v7SWVZ1neQAJCefpZT\"\n",
        "PINECONE_ENV = \"us-east-1\"\n",
        "os.environ[\"GROQ_API_KEY\"]= \"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\"  # If using Groq AI for inference, add it here\n"
      ],
      "metadata": {
        "id": "ZxCXxbX0G0tE"
      },
      "execution_count": null,
      "outputs": []
    },
    {
      "cell_type": "code",
      "source": [
        "%pip install pinecone-client llama-index-embeddings-together"
      ],
      "metadata": {
        "collapsed": true,
        "colab": {
          "base_uri": "https://localhost:8080/"
        },
        "id": "fCsmv6-xK3jO",
        "outputId": "ace35c93-c2ca-4ba8-cf46-bd8f8e11dd47"
      },
      "execution_count": null,
      "outputs": [
        {
          "output_type": "stream",
          "name": "stdout",
          "text": [
            "Requirement already satisfied: pinecone-client in /usr/local/lib/python3.11/dist-packages (5.0.1)\n",
            "Collecting llama-index-embeddings-together\n",
            "  Downloading llama_index_embeddings_together-0.3.0-py3-none-any.whl.metadata (658 bytes)\n",
            "Requirement already satisfied: certifi>=2019.11.17 in /usr/local/lib/python3.11/dist-packages (from pinecone-client) (2024.12.14)\n",
            "Requirement already satisfied: pinecone-plugin-inference<2.0.0,>=1.0.3 in /usr/local/lib/python3.11/dist-packages (from pinecone-client) (1.1.0)\n",
            "Requirement already satisfied: pinecone-plugin-interface<0.0.8,>=0.0.7 in /usr/local/lib/python3.11/dist-packages (from pinecone-client) (0.0.7)\n",
            "Requirement already satisfied: tqdm>=4.64.1 in /usr/local/lib/python3.11/dist-packages (from pinecone-client) (4.67.1)\n",
            "Requirement already satisfied: typing-extensions>=3.7.4 in /usr/local/lib/python3.11/dist-packages (from pinecone-client) (4.12.2)\n",
            "Requirement already satisfied: urllib3>=1.26.0 in /usr/local/lib/python3.11/dist-packages (from pinecone-client) (2.3.0)\n",
            "Collecting llama-index-core<0.13.0,>=0.12.0 (from llama-index-embeddings-together)\n",
            "  Downloading llama_index_core-0.12.14-py3-none-any.whl.metadata (2.5 kB)\n",
            "Requirement already satisfied: PyYAML>=6.0.1 in /usr/local/lib/python3.11/dist-packages (from llama-index-core<0.13.0,>=0.12.0->llama-index-embeddings-together) (6.0.2)\n",
            "Requirement already satisfied: SQLAlchemy>=1.4.49 in /usr/local/lib/python3.11/dist-packages (from SQLAlchemy[asyncio]>=1.4.49->llama-index-core<0.13.0,>=0.12.0->llama-index-embeddings-together) (2.0.37)\n",
            "Requirement already satisfied: aiohttp<4.0.0,>=3.8.6 in /usr/local/lib/python3.11/dist-packages (from llama-index-core<0.13.0,>=0.12.0->llama-index-embeddings-together) (3.11.11)\n",
            "Collecting dataclasses-json (from llama-index-core<0.13.0,>=0.12.0->llama-index-embeddings-together)\n",
            "  Downloading dataclasses_json-0.6.7-py3-none-any.whl.metadata (25 kB)\n",
            "Requirement already satisfied: deprecated>=1.2.9.3 in /usr/local/lib/python3.11/dist-packages (from llama-index-core<0.13.0,>=0.12.0->llama-index-embeddings-together) (1.2.15)\n",
            "Collecting dirtyjson<2.0.0,>=1.0.8 (from llama-index-core<0.13.0,>=0.12.0->llama-index-embeddings-together)\n",
            "  Downloading dirtyjson-1.0.8-py3-none-any.whl.metadata (11 kB)\n",
            "Collecting filetype<2.0.0,>=1.2.0 (from llama-index-core<0.13.0,>=0.12.0->llama-index-embeddings-together)\n",
            "  Downloading filetype-1.2.0-py2.py3-none-any.whl.metadata (6.5 kB)\n",
            "Requirement already satisfied: fsspec>=2023.5.0 in /usr/local/lib/python3.11/dist-packages (from llama-index-core<0.13.0,>=0.12.0->llama-index-embeddings-together) (2024.9.0)\n",
            "Requirement already satisfied: httpx in /usr/local/lib/python3.11/dist-packages (from llama-index-core<0.13.0,>=0.12.0->llama-index-embeddings-together) (0.28.1)\n",
            "Requirement already satisfied: nest-asyncio<2.0.0,>=1.5.8 in /usr/local/lib/python3.11/dist-packages (from llama-index-core<0.13.0,>=0.12.0->llama-index-embeddings-together) (1.6.0)\n",
            "Requirement already satisfied: networkx>=3.0 in /usr/local/lib/python3.11/dist-packages (from llama-index-core<0.13.0,>=0.12.0->llama-index-embeddings-together) (3.4.2)\n",
            "Requirement already satisfied: nltk>3.8.1 in /usr/local/lib/python3.11/dist-packages (from llama-index-core<0.13.0,>=0.12.0->llama-index-embeddings-together) (3.9.1)\n",
            "Requirement already satisfied: numpy in /usr/local/lib/python3.11/dist-packages (from llama-index-core<0.13.0,>=0.12.0->llama-index-embeddings-together) (1.26.4)\n",
            "Requirement already satisfied: pillow>=9.0.0 in /usr/local/lib/python3.11/dist-packages (from llama-index-core<0.13.0,>=0.12.0->llama-index-embeddings-together) (10.4.0)\n",
            "Requirement already satisfied: pydantic>=2.8.0 in /usr/local/lib/python3.11/dist-packages (from llama-index-core<0.13.0,>=0.12.0->llama-index-embeddings-together) (2.10.5)\n",
            "Requirement already satisfied: requests>=2.31.0 in /usr/local/lib/python3.11/dist-packages (from llama-index-core<0.13.0,>=0.12.0->llama-index-embeddings-together) (2.32.3)\n",
            "Requirement already satisfied: tenacity!=8.4.0,<10.0.0,>=8.2.0 in /usr/local/lib/python3.11/dist-packages (from llama-index-core<0.13.0,>=0.12.0->llama-index-embeddings-together) (9.0.0)\n",
            "Collecting tiktoken>=0.3.3 (from llama-index-core<0.13.0,>=0.12.0->llama-index-embeddings-together)\n",
            "  Using cached tiktoken-0.8.0-cp311-cp311-manylinux_2_17_x86_64.manylinux2014_x86_64.whl.metadata (6.6 kB)\n",
            "Collecting typing-inspect>=0.8.0 (from llama-index-core<0.13.0,>=0.12.0->llama-index-embeddings-together)\n",
            "  Downloading typing_inspect-0.9.0-py3-none-any.whl.metadata (1.5 kB)\n",
            "Requirement already satisfied: wrapt in /usr/local/lib/python3.11/dist-packages (from llama-index-core<0.13.0,>=0.12.0->llama-index-embeddings-together) (1.17.2)\n",
            "Requirement already satisfied: aiohappyeyeballs>=2.3.0 in /usr/local/lib/python3.11/dist-packages (from aiohttp<4.0.0,>=3.8.6->llama-index-core<0.13.0,>=0.12.0->llama-index-embeddings-together) (2.4.4)\n",
            "Requirement already satisfied: aiosignal>=1.1.2 in /usr/local/lib/python3.11/dist-packages (from aiohttp<4.0.0,>=3.8.6->llama-index-core<0.13.0,>=0.12.0->llama-index-embeddings-together) (1.3.2)\n",
            "Requirement already satisfied: attrs>=17.3.0 in /usr/local/lib/python3.11/dist-packages (from aiohttp<4.0.0,>=3.8.6->llama-index-core<0.13.0,>=0.12.0->llama-index-embeddings-together) (24.3.0)\n",
            "Requirement already satisfied: frozenlist>=1.1.1 in /usr/local/lib/python3.11/dist-packages (from aiohttp<4.0.0,>=3.8.6->llama-index-core<0.13.0,>=0.12.0->llama-index-embeddings-together) (1.5.0)\n",
            "Requirement already satisfied: multidict<7.0,>=4.5 in /usr/local/lib/python3.11/dist-packages (from aiohttp<4.0.0,>=3.8.6->llama-index-core<0.13.0,>=0.12.0->llama-index-embeddings-together) (6.1.0)\n",
            "Requirement already satisfied: propcache>=0.2.0 in /usr/local/lib/python3.11/dist-packages (from aiohttp<4.0.0,>=3.8.6->llama-index-core<0.13.0,>=0.12.0->llama-index-embeddings-together) (0.2.1)\n",
            "Requirement already satisfied: yarl<2.0,>=1.17.0 in /usr/local/lib/python3.11/dist-packages (from aiohttp<4.0.0,>=3.8.6->llama-index-core<0.13.0,>=0.12.0->llama-index-embeddings-together) (1.18.3)\n",
            "Requirement already satisfied: click in /usr/local/lib/python3.11/dist-packages (from nltk>3.8.1->llama-index-core<0.13.0,>=0.12.0->llama-index-embeddings-together) (8.1.8)\n",
            "Requirement already satisfied: joblib in /usr/local/lib/python3.11/dist-packages (from nltk>3.8.1->llama-index-core<0.13.0,>=0.12.0->llama-index-embeddings-together) (1.4.2)\n",
            "Requirement already satisfied: regex>=2021.8.3 in /usr/local/lib/python3.11/dist-packages (from nltk>3.8.1->llama-index-core<0.13.0,>=0.12.0->llama-index-embeddings-together) (2024.11.6)\n",
            "Requirement already satisfied: annotated-types>=0.6.0 in /usr/local/lib/python3.11/dist-packages (from pydantic>=2.8.0->llama-index-core<0.13.0,>=0.12.0->llama-index-embeddings-together) (0.7.0)\n",
            "Requirement already satisfied: pydantic-core==2.27.2 in /usr/local/lib/python3.11/dist-packages (from pydantic>=2.8.0->llama-index-core<0.13.0,>=0.12.0->llama-index-embeddings-together) (2.27.2)\n",
            "Requirement already satisfied: charset-normalizer<4,>=2 in /usr/local/lib/python3.11/dist-packages (from requests>=2.31.0->llama-index-core<0.13.0,>=0.12.0->llama-index-embeddings-together) (3.4.1)\n",
            "Requirement already satisfied: idna<4,>=2.5 in /usr/local/lib/python3.11/dist-packages (from requests>=2.31.0->llama-index-core<0.13.0,>=0.12.0->llama-index-embeddings-together) (3.10)\n",
            "Requirement already satisfied: greenlet!=0.4.17 in /usr/local/lib/python3.11/dist-packages (from SQLAlchemy>=1.4.49->SQLAlchemy[asyncio]>=1.4.49->llama-index-core<0.13.0,>=0.12.0->llama-index-embeddings-together) (3.1.1)\n",
            "Collecting mypy-extensions>=0.3.0 (from typing-inspect>=0.8.0->llama-index-core<0.13.0,>=0.12.0->llama-index-embeddings-together)\n",
            "  Downloading mypy_extensions-1.0.0-py3-none-any.whl.metadata (1.1 kB)\n",
            "Collecting marshmallow<4.0.0,>=3.18.0 (from dataclasses-json->llama-index-core<0.13.0,>=0.12.0->llama-index-embeddings-together)\n",
            "  Downloading marshmallow-3.26.0-py3-none-any.whl.metadata (7.3 kB)\n",
            "Requirement already satisfied: anyio in /usr/local/lib/python3.11/dist-packages (from httpx->llama-index-core<0.13.0,>=0.12.0->llama-index-embeddings-together) (3.7.1)\n",
            "Requirement already satisfied: httpcore==1.* in /usr/local/lib/python3.11/dist-packages (from httpx->llama-index-core<0.13.0,>=0.12.0->llama-index-embeddings-together) (1.0.7)\n",
            "Requirement already satisfied: h11<0.15,>=0.13 in /usr/local/lib/python3.11/dist-packages (from httpcore==1.*->httpx->llama-index-core<0.13.0,>=0.12.0->llama-index-embeddings-together) (0.14.0)\n",
            "Requirement already satisfied: packaging>=17.0 in /usr/local/lib/python3.11/dist-packages (from marshmallow<4.0.0,>=3.18.0->dataclasses-json->llama-index-core<0.13.0,>=0.12.0->llama-index-embeddings-together) (24.2)\n",
            "Requirement already satisfied: sniffio>=1.1 in /usr/local/lib/python3.11/dist-packages (from anyio->httpx->llama-index-core<0.13.0,>=0.12.0->llama-index-embeddings-together) (1.3.1)\n",
            "Downloading llama_index_embeddings_together-0.3.0-py3-none-any.whl (2.9 kB)\n",
            "Downloading llama_index_core-0.12.14-py3-none-any.whl (1.6 MB)\n",
            "\u001b[2K   \u001b[90m━━━━━━━━━━━━━━━━━━━━━━━━━━━━━━━━━━━━━━━━\u001b[0m \u001b[32m1.6/1.6 MB\u001b[0m \u001b[31m23.3 MB/s\u001b[0m eta \u001b[36m0:00:00\u001b[0m\n",
            "\u001b[?25hDownloading dirtyjson-1.0.8-py3-none-any.whl (25 kB)\n",
            "Downloading filetype-1.2.0-py2.py3-none-any.whl (19 kB)\n",
            "Downloading tiktoken-0.8.0-cp311-cp311-manylinux_2_17_x86_64.manylinux2014_x86_64.whl (1.2 MB)\n",
            "\u001b[2K   \u001b[90m━━━━━━━━━━━━━━━━━━━━━━━━━━━━━━━━━━━━━━━━\u001b[0m \u001b[32m1.2/1.2 MB\u001b[0m \u001b[31m51.6 MB/s\u001b[0m eta \u001b[36m0:00:00\u001b[0m\n",
            "\u001b[?25hDownloading typing_inspect-0.9.0-py3-none-any.whl (8.8 kB)\n",
            "Downloading dataclasses_json-0.6.7-py3-none-any.whl (28 kB)\n",
            "Downloading marshmallow-3.26.0-py3-none-any.whl (50 kB)\n",
            "\u001b[2K   \u001b[90m━━━━━━━━━━━━━━━━━━━━━━━━━━━━━━━━━━━━━━━━\u001b[0m \u001b[32m50.8/50.8 kB\u001b[0m \u001b[31m2.9 MB/s\u001b[0m eta \u001b[36m0:00:00\u001b[0m\n",
            "\u001b[?25hDownloading mypy_extensions-1.0.0-py3-none-any.whl (4.7 kB)\n",
            "Installing collected packages: filetype, dirtyjson, mypy-extensions, marshmallow, typing-inspect, tiktoken, dataclasses-json, llama-index-core, llama-index-embeddings-together\n",
            "Successfully installed dataclasses-json-0.6.7 dirtyjson-1.0.8 filetype-1.2.0 llama-index-core-0.12.14 llama-index-embeddings-together-0.3.0 marshmallow-3.26.0 mypy-extensions-1.0.0 tiktoken-0.8.0 typing-inspect-0.9.0\n"
          ]
        }
      ]
    },
    {
      "cell_type": "code",
      "source": [
        "import os\n",
        "from together import Together\n",
        "from pinecone import Pinecone\n",
        "\n",
        "# API keys\n",
        "TOGETHER_API_KEY = \"d4f51d8cb40a8fc1e9dc006d9aec78698c05c73f9f02433a61de6731e6c868ed\"\n",
        "PINECONE_API_KEY = \"pcsk_2PXxbG_PWaKywf5AWfHUQdLb2q88DRUTEyZP3HjxCb79xEuvAPR1v7SWVZ1neQAJCefpZT\"\n",
        "\n",
        "# Index configuration\n",
        "INDEX_NAME = \"support-ticket\"\n",
        "INDEX_HOST = \"https://support-ticket-ne8hs6h.svc.aped-4627-b74a.pinecone.io\"\n",
        "\n",
        "# Initialize Together client\n",
        "together_client = Together(api_key=TOGETHER_API_KEY)\n",
        "\n",
        "# Initialize Pinecone client\n",
        "pc = Pinecone(api_key=PINECONE_API_KEY)\n",
        "\n",
        "# Get the existing index\n",
        "index = pc.Index(\n",
        "    name=INDEX_NAME,\n",
        "    host=INDEX_HOST\n",
        ")\n",
        "\n",
        "# Function to generate embeddings using Together AI with the correct model\n",
        "def generate_embedding(text):\n",
        "    response = together_client.embeddings.create(\n",
        "        model=\"WhereIsAI/UAE-Large-V1\",\n",
        "        input=text,\n",
        "    )\n",
        "    return response.data[0].embedding\n",
        "\n",
        "# Function to upsert support tickets into Pinecone\n",
        "def upsert_support_tickets():\n",
        "    \"\"\"\n",
        "    Upsert predefined support tickets into the Pinecone index.\n",
        "    \"\"\"\n",
        "    tickets = [\n",
        "        {\"id\": \"1\", \"text\": \"Application crashes on opening a file\", \"response\": \"Try reinstalling the application.\"},\n",
        "        {\"id\": \"2\", \"text\": \"Unable to log in to the system\", \"response\": \"Reset your password and try again.\"},\n",
        "        {\"id\": \"3\", \"text\": \"Page loads slowly on the web app\", \"response\": \"Clear your browser cache and reload.\"},\n",
        "    ]\n",
        "\n",
        "    # Prepare data for upserting\n",
        "    vectors = []\n",
        "    for ticket in tickets:\n",
        "        embedding = generate_embedding(ticket[\"text\"])\n",
        "        vectors.append({\n",
        "            \"id\": ticket[\"id\"],\n",
        "            \"values\": embedding,\n",
        "            \"metadata\": {\n",
        "                \"issue\": ticket[\"text\"],\n",
        "                \"response\": ticket[\"response\"]\n",
        "            }\n",
        "        })\n",
        "\n",
        "    # Upsert into Pinecone\n",
        "    index.upsert(vectors=vectors)\n",
        "    print(\"Support tickets upserted successfully.\")\n",
        "\n",
        "# Function to query similar issues from Pinecone\n",
        "def get_top_similar_issues(issue_sentence, top_k=3):\n",
        "    \"\"\"\n",
        "    Query top similar issues from Pinecone using embeddings.\n",
        "    \"\"\"\n",
        "    embedding = generate_embedding(issue_sentence)\n",
        "    result = index.query(\n",
        "        vector=embedding,\n",
        "        top_k=top_k,\n",
        "        include_metadata=True\n",
        "    )\n",
        "    return result[\"matches\"]\n",
        "\n",
        "# Function to generate a personalized response\n",
        "def generate_personalized_response(product_name, issue_sentence, similar_issues):\n",
        "    \"\"\"\n",
        "    Generate a personalized response based on similar issues.\n",
        "    \"\"\"\n",
        "    # Create system and user messages\n",
        "    messages = [\n",
        "        {\n",
        "            \"role\": \"system\",\n",
        "            \"content\": f\"You are a helpful customer support assistant for the product '{product_name}'. Provide clear, concise solutions based on similar past issues.\"\n",
        "        },\n",
        "        {\n",
        "            \"role\": \"user\",\n",
        "            \"content\": f\"I have the following issue: {issue_sentence}\\n\\nHere are some similar issues and their solutions:\\n\" +\n",
        "                      \"\\n\".join([f\"{idx+1}. Issue: {issue['metadata']['issue']}\\n   Solution: {issue['metadata']['response']}\"\n",
        "                                for idx, issue in enumerate(similar_issues)])\n",
        "        }\n",
        "    ]\n",
        "\n",
        "    # Generate response using Together's chat completions API\n",
        "    response = together_client.chat.completions.create(\n",
        "        model=\"meta-llama/Meta-Llama-3-8B-Instruct-Turbo\",\n",
        "        messages=messages,\n",
        "        max_tokens=200,\n",
        "        temperature=0.7,\n",
        "    )\n",
        "\n",
        "    return response.choices[0].message.content\n",
        "\n",
        "# Main pipeline\n",
        "if __name__ == \"__main__\":\n",
        "    try:\n",
        "        # Step 1: Upsert predefined support tickets into Pinecone\n",
        "        upsert_support_tickets()\n",
        "\n",
        "        # Step 2: Query and generate a response for a user issue\n",
        "        user_issue = \"I can't open a file in the application.\"\n",
        "        similar_issues = get_top_similar_issues(user_issue)\n",
        "\n",
        "        product_name = \"Example Product\"\n",
        "        personalized_response = generate_personalized_response(product_name, user_issue, similar_issues)\n",
        "\n",
        "        print(\"\\nPersonalized Response:\")\n",
        "        print(personalized_response)\n",
        "\n",
        "    except Exception as e:\n",
        "        print(f\"An error occurred: {str(e)}\")\n",
        "        raise"
      ],
      "metadata": {
        "colab": {
          "base_uri": "https://localhost:8080/"
        },
        "id": "OEfvezOuGb5D",
        "outputId": "58715408-e964-443d-b505-008d3b62bca9"
      },
      "execution_count": null,
      "outputs": [
        {
          "output_type": "stream",
          "name": "stdout",
          "text": [
            "Support tickets upserted successfully.\n",
            "\n",
            "Personalized Response:\n",
            "Thank you for reaching out to us about the issue you're experiencing with opening a file in our Example Product application.\n",
            "\n",
            "Based on our knowledge base, I'm going to suggest a few possible solutions that might resolve the issue you're facing.\n",
            "\n",
            "1. **Check for corrupted file**: Sometimes, a corrupted file can cause issues with opening in our application. Try saving the file in a different location or format to see if that resolves the issue.\n",
            "2. **Verify file associations**: Ensure that the correct file association is set up for our application. You can try right-clicking on the file and selecting \"Open with\" > \"Example Product\" to see if that resolves the issue.\n",
            "3. **Check for updates**: Make sure your application is up-to-date. Sometimes, updates can resolve issues with file opening. You can check for updates in the application's settings or by contacting our support team.\n",
            "\n",
            "If none of these solutions work, I'd like to gather more information about the issue you're experiencing. Could\n"
          ]
        }
      ]
    },
    {
      "cell_type": "code",
      "source": [
        "pip install sentence-transformers pinecone-client numpy"
      ],
      "metadata": {
        "id": "kYKRlu2OS8o8"
      },
      "execution_count": null,
      "outputs": []
    },
    {
      "cell_type": "markdown",
      "source": [
        "With DATASET"
      ],
      "metadata": {
        "id": "7lDddQNfYwVy"
      }
    },
    {
      "cell_type": "code",
      "source": [
        "import os\n",
        "import numpy as np\n",
        "import pandas as pd\n",
        "from together import Together\n",
        "from pinecone import Pinecone\n",
        "\n",
        "# API keys\n",
        "TOGETHER_API_KEY = \"d4f51d8cb40a8fc1e9dc006d9aec78698c05c73f9f02433a61de6731e6c868ed\"\n",
        "PINECONE_API_KEY = \"pcsk_2PXxbG_PWaKywf5AWfHUQdLb2q88DRUTEyZP3HjxCb79xEuvAPR1v7SWVZ1neQAJCefpZT\"\n",
        "\n",
        "# Index configuration\n",
        "INDEX_NAME = \"support-ticket\"\n",
        "INDEX_HOST = \"https://support-ticket-ne8hs6h.svc.aped-4627-b74a.pinecone.io\"\n",
        "\n",
        "# Initialize Together client\n",
        "together_client = Together(api_key=TOGETHER_API_KEY)\n",
        "\n",
        "# Initialize Pinecone client\n",
        "pc = Pinecone(api_key=PINECONE_API_KEY)\n",
        "\n",
        "# Get the existing index\n",
        "index = pc.Index(name=INDEX_NAME, host=INDEX_HOST)\n",
        "\n",
        "# Function to generate embeddings using Together AI\n",
        "def generate_embedding(text):\n",
        "    \"\"\"Generate embeddings using Together AI.\"\"\"\n",
        "    response = together_client.embeddings.create(\n",
        "        model=\"WhereIsAI/UAE-Large-V1\",\n",
        "        input=text,\n",
        "    )\n",
        "    return response.data[0].embedding\n",
        "\n",
        "# Function to safely handle product names\n",
        "def safe_get_products(product_names):\n",
        "    \"\"\"Safely handle product names whether they're lists, arrays, or None.\"\"\"\n",
        "    if isinstance(product_names, (list, np.ndarray)) and len(product_names) > 0:\n",
        "        # Convert numpy array to list if necessary\n",
        "        products = product_names.tolist() if isinstance(product_names, np.ndarray) else product_names\n",
        "        # Filter out any None or empty values\n",
        "        products = [p for p in products if p and str(p).lower() != 'nan']\n",
        "        return products\n",
        "    return []\n",
        "\n",
        "# Function to prepare ticket text for embedding\n",
        "def prepare_ticket_text(row):\n",
        "    \"\"\"Prepare concatenated text from ticket fields for embedding.\"\"\"\n",
        "    products = safe_get_products(row['product_names_bert_large'])\n",
        "    product_str = ', '.join(str(p) for p in products) if products else ''\n",
        "\n",
        "    return (f\"Subject: {row['subject']}\\n\"\n",
        "            f\"Priority: {row['priority']}\\n\"\n",
        "            f\"Products: {product_str}\\n\"\n",
        "            f\"Issue: {row['body']}\")\n",
        "\n",
        "# Function to upsert support tickets into Pinecone\n",
        "def upsert_support_tickets(df, num_samples=10):\n",
        "    \"\"\"Upsert support tickets from DataFrame into Pinecone.\"\"\"\n",
        "    # Take first num_samples rows\n",
        "    df_sample = df.head(num_samples)\n",
        "\n",
        "    # Initialize the vectors list\n",
        "    vectors = []\n",
        "\n",
        "    for _, row in df_sample.iterrows():\n",
        "        try:\n",
        "            ticket_text = prepare_ticket_text(row)\n",
        "            embedding = generate_embedding(ticket_text)\n",
        "\n",
        "            products = safe_get_products(row['product_names_bert_large'])\n",
        "\n",
        "            # Append the vector data to the vectors list\n",
        "            vectors.append({\n",
        "                \"id\": str(row['id']),\n",
        "                \"values\": embedding,\n",
        "                \"metadata\": {\n",
        "                    \"subject\": str(row['subject']),\n",
        "                    \"body\": str(row['body']),\n",
        "                    \"answer\": str(row['answer']),\n",
        "                    \"priority\": str(row['priority']),\n",
        "                    \"type\": str(row['type']),\n",
        "                    \"queue\": str(row['queue']),\n",
        "                    \"product_names\": products,\n",
        "                    \"full_text\": ticket_text\n",
        "                }\n",
        "            })\n",
        "\n",
        "        except Exception as e:\n",
        "            print(f\"Error processing ticket {row['id']}: {str(e)}\")\n",
        "            continue\n",
        "\n",
        "    if vectors:\n",
        "        # Upsert in smaller batches to avoid size limits\n",
        "        batch_size = 100\n",
        "        for i in range(0, len(vectors), batch_size):\n",
        "            batch = vectors[i:i + batch_size]\n",
        "            index.upsert(vectors=batch)\n",
        "        print(f\"Successfully upserted {len(vectors)} tickets\")\n",
        "\n",
        "# Function to query similar issues from Pinecone\n",
        "def get_similar_tickets(issue_text, top_k=3):\n",
        "    \"\"\"Query similar tickets from Pinecone.\"\"\"\n",
        "    embedding = generate_embedding(issue_text)\n",
        "    result = index.query(\n",
        "        vector=embedding,\n",
        "        top_k=top_k,\n",
        "        include_metadata=True\n",
        "    )\n",
        "    return result[\"matches\"]\n",
        "\n",
        "# Function to generate a response using Together AI chat\n",
        "def generate_response(issue_text, similar_tickets):\n",
        "    \"\"\"Generate a response using Together AI chat.\"\"\"\n",
        "    context = \"\\n\\n\".join([\n",
        "        f\"Similar Issue {i+1}:\\nSubject: {ticket['metadata'].get('subject', 'N/A')}\\n\"\n",
        "        f\"Type: {ticket['metadata'].get('type', 'N/A')}\\n\"\n",
        "        f\"Queue: {ticket['metadata'].get('queue', 'N/A')}\\n\"\n",
        "        f\"Priority: {ticket['metadata'].get('priority', 'N/A')}\\n\"\n",
        "        f\"Products: {', '.join(str(p) for p in ticket['metadata'].get('product_names', []))}\\n\"\n",
        "        f\"Previous Response: {ticket['metadata'].get('answer', 'N/A')}\"\n",
        "        for i, ticket in enumerate(similar_tickets)\n",
        "    ])\n",
        "\n",
        "    messages = [\n",
        "        {\n",
        "            \"role\": \"system\",\n",
        "            \"content\": \"You are a technical support specialist. Use the similar support tickets provided to generate a helpful response. Focus on the specific products and issues mentioned, and maintain a professional tone.\"\n",
        "        },\n",
        "        {\n",
        "            \"role\": \"user\",\n",
        "            \"content\": f\"New support ticket: {issue_text}\\n\\nSimilar support tickets for reference:\\n{context}\"\n",
        "        }\n",
        "    ]\n",
        "\n",
        "    response = together_client.chat.completions.create(\n",
        "        model=\"meta-llama/Meta-Llama-3-8B-Instruct-Turbo\",\n",
        "        messages=messages,\n",
        "        max_tokens=300,\n",
        "        temperature=0.7\n",
        "    )\n",
        "\n",
        "    return response.choices[0].message.content\n",
        "\n",
        "# Main pipeline\n",
        "if __name__ == \"__main__\":\n",
        "    try:\n",
        "        # Step 1: Upsert first 50 or 100 tickets from your existing DataFrame `df_en`\n",
        "        upsert_support_tickets(df_en, num_samples=50)  # Change this to 50 or 100\n",
        "\n",
        "        # Step 2: Test with a sample query\n",
        "        test_issue = \"Having problems with my Dell XPS laptop, system keeps freezing\"\n",
        "        similar_tickets = get_similar_tickets(test_issue)\n",
        "\n",
        "        # Step 3: Generate response\n",
        "        response = generate_response(test_issue, similar_tickets)\n",
        "        print(\"\\nGenerated Response:\")\n",
        "        print(response)\n",
        "\n",
        "    except Exception as e:\n",
        "        print(f\"An error occurred: {str(e)}\")\n",
        "        raise"
      ],
      "metadata": {
        "colab": {
          "base_uri": "https://localhost:8080/"
        },
        "id": "AsKBLgwmXgXj",
        "outputId": "cf04b88f-36b2-4c50-c0ee-7d6698ef32e3"
      },
      "execution_count": null,
      "outputs": [
        {
          "output_type": "stream",
          "name": "stdout",
          "text": [
            "Successfully upserted 50 tickets\n",
            "\n",
            "Generated Response:\n",
            "New Support Ticket Response:\n",
            "\n",
            "Dear [Customer],\n",
            "\n",
            "Thank you for reaching out to our technical support team regarding the system freezing issue with your Dell XPS laptop. We apologize for the inconvenience this is causing and are here to help you troubleshoot and potentially resolve the problem.\n",
            "\n",
            "Based on the similar issues we've addressed in the past, we recommend trying the following steps:\n",
            "\n",
            "1. Run the Dell SupportAssist tool for any hardware diagnostics to ensure that there are no underlying hardware issues.\n",
            "2. Ensure your operating system is fully updated to the latest version, as outdated software can sometimes cause system freezing.\n",
            "3. Consider performing a clean boot to rule out software conflicts and potential issues with startup programs.\n",
            "4. Disconnect any external devices to check if one may be causing the issue.\n",
            "\n",
            "If the problem persists after these diagnostics, please get back to us so we can explore further assistance or discuss warranty options, including a possible replacement. We value your productivity and aim to resolve this issue promptly.\n",
            "\n",
            "Please note that your laptop is still under warranty, and we will arrange for a technician to assess these issues in more detail if necessary. Please reply to this email with your preferred availability, and our team will assist in coordinating a suitable time.\n",
            "\n",
            "If you have any questions or require immediate assistance, please do not hesitate to contact us via your provided email or phone number.\n",
            "\n",
            "Thank you for your understanding and cooperation.\n",
            "\n",
            "Best regards,\n",
            "Customer Support Team\n"
          ]
        }
      ]
    },
    {
      "cell_type": "markdown",
      "source": [
        "\n",
        "_____________________________________________\n",
        "\n",
        "> Workflow\n",
        "\n",
        "\n",
        "1.   Data Prep: Processed first 50 rows of df_en (support tickets).\n",
        "\n",
        "2.   Embeddings: Generated embeddings using Together AI (UAE-Large-V1).\n",
        "\n",
        "3.   Pinecone: Upserted embeddings + metadata into Pinecone index.\n",
        "\n",
        "4.   Query: Searched for similar tickets to a sample issue.\n",
        "\n",
        "5.   Response: Generated a tailored response using Together AI (Meta-Llama-3-8B-Instruct-Turbo).\n",
        "\n",
        "\n",
        "> Results\n",
        "\n",
        "*   Upsert: 50 tickets successfully added to Pinecone.\n",
        "\n",
        "*   Query: Top 3 similar tickets retrieved.\n",
        "*   Response: Professional, actionable solution provided.\n",
        "\n",
        "\n",
        "> Key Insights\n",
        "\n",
        "*   Embeddings: Effectively captured ticket semantics.\n",
        "*   Pinecone: Handled upsert/query efficiently.\n",
        "\n",
        "*   LLM: Generated high-quality, context-aware responses.\n",
        "\n",
        "_______________________________________\n",
        "\n",
        "\n",
        "\n",
        "\n",
        "\n"
      ],
      "metadata": {
        "id": "_rgSwJ7lZZ-A"
      }
    },
    {
      "cell_type": "markdown",
      "source": [
        "# FastAPI"
      ],
      "metadata": {
        "id": "w03jKjqd73w6"
      }
    },
    {
      "cell_type": "code",
      "source": [
        "pip install fastapi uvicorn pyngrok requests pinecone-client together pandas numpy"
      ],
      "metadata": {
        "colab": {
          "base_uri": "https://localhost:8080/"
        },
        "collapsed": true,
        "id": "fghrKMW48G-J",
        "outputId": "33c37247-6497-4b1c-cb86-af5e58cde330"
      },
      "execution_count": 69,
      "outputs": [
        {
          "output_type": "stream",
          "name": "stdout",
          "text": [
            "Collecting fastapi\n",
            "  Downloading fastapi-0.115.7-py3-none-any.whl.metadata (27 kB)\n",
            "Collecting uvicorn\n",
            "  Downloading uvicorn-0.34.0-py3-none-any.whl.metadata (6.5 kB)\n",
            "Collecting pyngrok\n",
            "  Downloading pyngrok-7.2.3-py3-none-any.whl.metadata (8.7 kB)\n",
            "Requirement already satisfied: requests in /usr/local/lib/python3.11/dist-packages (2.32.3)\n",
            "Requirement already satisfied: pinecone-client in /usr/local/lib/python3.11/dist-packages (5.0.1)\n",
            "Requirement already satisfied: together in /usr/local/lib/python3.11/dist-packages (1.3.13)\n",
            "Requirement already satisfied: pandas in /usr/local/lib/python3.11/dist-packages (2.2.2)\n",
            "Requirement already satisfied: numpy in /usr/local/lib/python3.11/dist-packages (1.26.4)\n",
            "Collecting starlette<0.46.0,>=0.40.0 (from fastapi)\n",
            "  Downloading starlette-0.45.3-py3-none-any.whl.metadata (6.3 kB)\n",
            "Requirement already satisfied: pydantic!=1.8,!=1.8.1,!=2.0.0,!=2.0.1,!=2.1.0,<3.0.0,>=1.7.4 in /usr/local/lib/python3.11/dist-packages (from fastapi) (2.10.5)\n",
            "Requirement already satisfied: typing-extensions>=4.8.0 in /usr/local/lib/python3.11/dist-packages (from fastapi) (4.12.2)\n",
            "Requirement already satisfied: click>=7.0 in /usr/local/lib/python3.11/dist-packages (from uvicorn) (8.1.8)\n",
            "Requirement already satisfied: h11>=0.8 in /usr/local/lib/python3.11/dist-packages (from uvicorn) (0.14.0)\n",
            "Requirement already satisfied: PyYAML>=5.1 in /usr/local/lib/python3.11/dist-packages (from pyngrok) (6.0.2)\n",
            "Requirement already satisfied: charset-normalizer<4,>=2 in /usr/local/lib/python3.11/dist-packages (from requests) (3.4.1)\n",
            "Requirement already satisfied: idna<4,>=2.5 in /usr/local/lib/python3.11/dist-packages (from requests) (3.10)\n",
            "Requirement already satisfied: urllib3<3,>=1.21.1 in /usr/local/lib/python3.11/dist-packages (from requests) (2.3.0)\n",
            "Requirement already satisfied: certifi>=2017.4.17 in /usr/local/lib/python3.11/dist-packages (from requests) (2024.12.14)\n",
            "Requirement already satisfied: pinecone-plugin-inference<2.0.0,>=1.0.3 in /usr/local/lib/python3.11/dist-packages (from pinecone-client) (1.1.0)\n",
            "Requirement already satisfied: pinecone-plugin-interface<0.0.8,>=0.0.7 in /usr/local/lib/python3.11/dist-packages (from pinecone-client) (0.0.7)\n",
            "Requirement already satisfied: tqdm>=4.64.1 in /usr/local/lib/python3.11/dist-packages (from pinecone-client) (4.67.1)\n",
            "Requirement already satisfied: aiohttp<4.0.0,>=3.9.3 in /usr/local/lib/python3.11/dist-packages (from together) (3.11.11)\n",
            "Requirement already satisfied: eval-type-backport<0.3.0,>=0.1.3 in /usr/local/lib/python3.11/dist-packages (from together) (0.2.2)\n",
            "Requirement already satisfied: filelock<4.0.0,>=3.13.1 in /usr/local/lib/python3.11/dist-packages (from together) (3.17.0)\n",
            "Requirement already satisfied: pillow<11.0.0,>=10.3.0 in /usr/local/lib/python3.11/dist-packages (from together) (10.4.0)\n",
            "Requirement already satisfied: pyarrow>=10.0.1 in /usr/local/lib/python3.11/dist-packages (from together) (17.0.0)\n",
            "Requirement already satisfied: rich<14.0.0,>=13.8.1 in /usr/local/lib/python3.11/dist-packages (from together) (13.9.4)\n",
            "Requirement already satisfied: tabulate<0.10.0,>=0.9.0 in /usr/local/lib/python3.11/dist-packages (from together) (0.9.0)\n",
            "Requirement already satisfied: typer<0.16,>=0.9 in /usr/local/lib/python3.11/dist-packages (from together) (0.15.1)\n",
            "Requirement already satisfied: python-dateutil>=2.8.2 in /usr/local/lib/python3.11/dist-packages (from pandas) (2.8.2)\n",
            "Requirement already satisfied: pytz>=2020.1 in /usr/local/lib/python3.11/dist-packages (from pandas) (2024.2)\n",
            "Requirement already satisfied: tzdata>=2022.7 in /usr/local/lib/python3.11/dist-packages (from pandas) (2025.1)\n",
            "Requirement already satisfied: aiohappyeyeballs>=2.3.0 in /usr/local/lib/python3.11/dist-packages (from aiohttp<4.0.0,>=3.9.3->together) (2.4.4)\n",
            "Requirement already satisfied: aiosignal>=1.1.2 in /usr/local/lib/python3.11/dist-packages (from aiohttp<4.0.0,>=3.9.3->together) (1.3.2)\n",
            "Requirement already satisfied: attrs>=17.3.0 in /usr/local/lib/python3.11/dist-packages (from aiohttp<4.0.0,>=3.9.3->together) (24.3.0)\n",
            "Requirement already satisfied: frozenlist>=1.1.1 in /usr/local/lib/python3.11/dist-packages (from aiohttp<4.0.0,>=3.9.3->together) (1.5.0)\n",
            "Requirement already satisfied: multidict<7.0,>=4.5 in /usr/local/lib/python3.11/dist-packages (from aiohttp<4.0.0,>=3.9.3->together) (6.1.0)\n",
            "Requirement already satisfied: propcache>=0.2.0 in /usr/local/lib/python3.11/dist-packages (from aiohttp<4.0.0,>=3.9.3->together) (0.2.1)\n",
            "Requirement already satisfied: yarl<2.0,>=1.17.0 in /usr/local/lib/python3.11/dist-packages (from aiohttp<4.0.0,>=3.9.3->together) (1.18.3)\n",
            "Requirement already satisfied: annotated-types>=0.6.0 in /usr/local/lib/python3.11/dist-packages (from pydantic!=1.8,!=1.8.1,!=2.0.0,!=2.0.1,!=2.1.0,<3.0.0,>=1.7.4->fastapi) (0.7.0)\n",
            "Requirement already satisfied: pydantic-core==2.27.2 in /usr/local/lib/python3.11/dist-packages (from pydantic!=1.8,!=1.8.1,!=2.0.0,!=2.0.1,!=2.1.0,<3.0.0,>=1.7.4->fastapi) (2.27.2)\n",
            "Requirement already satisfied: six>=1.5 in /usr/local/lib/python3.11/dist-packages (from python-dateutil>=2.8.2->pandas) (1.17.0)\n",
            "Requirement already satisfied: markdown-it-py>=2.2.0 in /usr/local/lib/python3.11/dist-packages (from rich<14.0.0,>=13.8.1->together) (3.0.0)\n",
            "Requirement already satisfied: pygments<3.0.0,>=2.13.0 in /usr/local/lib/python3.11/dist-packages (from rich<14.0.0,>=13.8.1->together) (2.18.0)\n",
            "Requirement already satisfied: anyio<5,>=3.6.2 in /usr/local/lib/python3.11/dist-packages (from starlette<0.46.0,>=0.40.0->fastapi) (3.7.1)\n",
            "Requirement already satisfied: shellingham>=1.3.0 in /usr/local/lib/python3.11/dist-packages (from typer<0.16,>=0.9->together) (1.5.4)\n",
            "Requirement already satisfied: sniffio>=1.1 in /usr/local/lib/python3.11/dist-packages (from anyio<5,>=3.6.2->starlette<0.46.0,>=0.40.0->fastapi) (1.3.1)\n",
            "Requirement already satisfied: mdurl~=0.1 in /usr/local/lib/python3.11/dist-packages (from markdown-it-py>=2.2.0->rich<14.0.0,>=13.8.1->together) (0.1.2)\n",
            "Downloading fastapi-0.115.7-py3-none-any.whl (94 kB)\n",
            "\u001b[2K   \u001b[90m━━━━━━━━━━━━━━━━━━━━━━━━━━━━━━━━━━━━━━━━\u001b[0m \u001b[32m94.8/94.8 kB\u001b[0m \u001b[31m4.5 MB/s\u001b[0m eta \u001b[36m0:00:00\u001b[0m\n",
            "\u001b[?25hDownloading uvicorn-0.34.0-py3-none-any.whl (62 kB)\n",
            "\u001b[2K   \u001b[90m━━━━━━━━━━━━━━━━━━━━━━━━━━━━━━━━━━━━━━━━\u001b[0m \u001b[32m62.3/62.3 kB\u001b[0m \u001b[31m5.7 MB/s\u001b[0m eta \u001b[36m0:00:00\u001b[0m\n",
            "\u001b[?25hDownloading pyngrok-7.2.3-py3-none-any.whl (23 kB)\n",
            "Downloading starlette-0.45.3-py3-none-any.whl (71 kB)\n",
            "\u001b[2K   \u001b[90m━━━━━━━━━━━━━━━━━━━━━━━━━━━━━━━━━━━━━━━━\u001b[0m \u001b[32m71.5/71.5 kB\u001b[0m \u001b[31m6.0 MB/s\u001b[0m eta \u001b[36m0:00:00\u001b[0m\n",
            "\u001b[?25hInstalling collected packages: uvicorn, pyngrok, starlette, fastapi\n",
            "Successfully installed fastapi-0.115.7 pyngrok-7.2.3 starlette-0.45.3 uvicorn-0.34.0\n"
          ]
        }
      ]
    },
    {
      "cell_type": "code",
      "source": [
        "## uvicorn app:app --reload"
      ],
      "metadata": {
        "id": "Vkx5nKsB8nmK"
      },
      "execution_count": null,
      "outputs": []
    },
    {
      "cell_type": "code",
      "source": [
        "## curl http://127.0.0.1:8000/"
      ],
      "metadata": {
        "id": "Tt72R6RK8qkb"
      },
      "execution_count": null,
      "outputs": []
    },
    {
      "cell_type": "code",
      "source": [
        "import os\n",
        "import numpy as np\n",
        "import pandas as pd\n",
        "from together import Together\n",
        "from pinecone import Pinecone\n",
        "from fastapi import FastAPI, HTTPException\n",
        "import uvicorn\n",
        "from pydantic import BaseModel\n",
        "import requests\n",
        "from pyngrok import ngrok\n",
        "\n",
        "# API keys and configurations\n",
        "TOGETHER_API_KEY = \"d4f51d8cb40a8fc1e9dc006d9aec78698c05c73f9f02433a61de6731e6c868ed\"\n",
        "PINECONE_API_KEY = \"pcsk_2PXxbG_PWaKywf5AWfHUQdLb2q88DRUTEyZP3HjxCb79xEuvAPR1v7SWVZ1neQAJCefpZT\"\n",
        "ZAPIER_WEBHOOK_URL = \"https://hooks.zapier.com/hooks/catch/new_zapier_webhook/\"\n",
        "\n",
        "# Pinecone index configuration\n",
        "INDEX_NAME = \"support-ticket\"\n",
        "INDEX_HOST = \"https://support-ticket-ne8hs6h.svc.aped-4627-b74a.pinecone.io\"\n",
        "\n",
        "# Initialize Together AI and Pinecone clients\n",
        "together_client = Together(api_key=TOGETHER_API_KEY)\n",
        "pc = Pinecone(api_key=PINECONE_API_KEY)\n",
        "index = pc.Index(name=INDEX_NAME, host=INDEX_HOST)\n",
        "\n",
        "# FastAPI app\n",
        "app = FastAPI()\n",
        "\n",
        "# Pydantic model for request body\n",
        "class SupportTicket(BaseModel):\n",
        "    subject: str\n",
        "    body: str\n",
        "    priority: str\n",
        "    product_names: list\n",
        "    email: str\n",
        "\n",
        "# Function to generate embeddings using Together AI\n",
        "def generate_embedding(text):\n",
        "    response = together_client.embeddings.create(\n",
        "        model=\"WhereIsAI/UAE-Large-V1\",\n",
        "        input=text,\n",
        "    )\n",
        "    return response.data[0].embedding\n",
        "\n",
        "# Function to upsert support tickets into Pinecone\n",
        "def upsert_support_tickets(df, num_samples=10):\n",
        "    vectors = []\n",
        "    for _, row in df.head(num_samples).iterrows():\n",
        "        try:\n",
        "            ticket_text = f\"Subject: {row['subject']}\\nPriority: {row['priority']}\\nProducts: {', '.join(row['product_names'])}\\nIssue: {row['body']}\"\n",
        "            embedding = generate_embedding(ticket_text)\n",
        "            vectors.append({\n",
        "                \"id\": str(row['id']),\n",
        "                \"values\": embedding,\n",
        "                \"metadata\": {\n",
        "                    \"subject\": row['subject'],\n",
        "                    \"body\": row['body'],\n",
        "                    \"priority\": row['priority'],\n",
        "                    \"product_names\": row['product_names'],\n",
        "                    \"email\": row.get('email', '')\n",
        "                }\n",
        "            })\n",
        "        except Exception as e:\n",
        "            print(f\"Error processing ticket {row['id']}: {str(e)}\")\n",
        "\n",
        "    if vectors:\n",
        "        index.upsert(vectors=vectors)\n",
        "        print(f\"Successfully upserted {len(vectors)} tickets\")\n",
        "\n",
        "# Function to query similar tickets from Pinecone\n",
        "def get_similar_tickets(issue_text, top_k=3):\n",
        "    embedding = generate_embedding(issue_text)\n",
        "    result = index.query(\n",
        "        vector=embedding,\n",
        "        top_k=top_k,\n",
        "        include_metadata=True\n",
        "    )\n",
        "    return result[\"matches\"]\n",
        "\n",
        "# Function to generate a response using Together AI\n",
        "def generate_response(issue_text, similar_tickets):\n",
        "    context = \"\\n\\n\".join([\n",
        "        f\"Similar Issue {i+1}:\\nSubject: {ticket['metadata']['subject']}\\nPriority: {ticket['metadata']['priority']}\\nProducts: {', '.join(ticket['metadata']['product_names'])}\\nIssue: {ticket['metadata']['body']}\"\n",
        "        for i, ticket in enumerate(similar_tickets)\n",
        "    ])\n",
        "\n",
        "    messages = [\n",
        "        {\n",
        "            \"role\": \"system\",\n",
        "            \"content\": \"You are a technical support specialist. Use the similar support tickets provided to generate a helpful response.\"\n",
        "        },\n",
        "        {\n",
        "            \"role\": \"user\",\n",
        "            \"content\": f\"New support ticket: {issue_text}\\n\\nSimilar support tickets for reference:\\n{context}\"\n",
        "        }\n",
        "    ]\n",
        "\n",
        "    response = together_client.chat.completions.create(\n",
        "        model=\"meta-llama/Meta-Llama-3-8B-Instruct-Turbo\",\n",
        "        messages=messages,\n",
        "        max_tokens=300,\n",
        "        temperature=0.7\n",
        "    )\n",
        "\n",
        "    return response.choices[0].message.content\n",
        "\n",
        "# Function to send email via Zapier\n",
        "def send_email_via_zapier(email, subject, body):\n",
        "    payload = {\n",
        "        \"email\": email,\n",
        "        \"subject\": subject,\n",
        "        \"body\": body\n",
        "    }\n",
        "    response = requests.post(ZAPIER_WEBHOOK_URL, json=payload)\n",
        "    if response.status_code == 200:\n",
        "        print(\"Email sent successfully via Zapier\")\n",
        "    else:\n",
        "        print(f\"Failed to send email: {response.text}\")\n",
        "\n",
        "# FastAPI endpoint to handle new support tickets\n",
        "@app.post(\"/submit-ticket\")\n",
        "async def submit_ticket(ticket: SupportTicket):\n",
        "    try:\n",
        "        # Prepare ticket text for embedding\n",
        "        ticket_text = f\"Subject: {ticket.subject}\\nPriority: {ticket.priority}\\nProducts: {', '.join(ticket.product_names)}\\nIssue: {ticket.body}\"\n",
        "\n",
        "        # Generate embedding and upsert into Pinecone\n",
        "        embedding = generate_embedding(ticket_text)\n",
        "        index.upsert(vectors=[{\n",
        "            \"id\": str(hash(ticket_text)),  # Unique ID for the ticket\n",
        "            \"values\": embedding,\n",
        "            \"metadata\": {\n",
        "                \"subject\": ticket.subject,\n",
        "                \"body\": ticket.body,\n",
        "                \"priority\": ticket.priority,\n",
        "                \"product_names\": ticket.product_names,\n",
        "                \"email\": ticket.email\n",
        "            }\n",
        "        }])\n",
        "\n",
        "        # Query similar tickets\n",
        "        similar_tickets = get_similar_tickets(ticket_text)\n",
        "\n",
        "        # Generate response\n",
        "        response = generate_response(ticket_text, similar_tickets)\n",
        "\n",
        "        # Send email via Zapier\n",
        "        send_email_via_zapier(ticket.email, \"Support Ticket Response\", response)\n",
        "\n",
        "        return {\"message\": \"Ticket processed successfully\", \"response\": response}\n",
        "\n",
        "    except Exception as e:\n",
        "        raise HTTPException(status_code=500, detail=str(e))\n",
        "\n",
        "# Run FastAPI server with Ngrok\n",
        "if __name__ == \"__main__\":\n",
        "    # Start Ngrok tunnel\n",
        "    ngrok_tunnel = ngrok.connect(8000)\n",
        "    print(f\"Ngrok Tunnel URL: {ngrok_tunnel.public_url}\")\n",
        "\n",
        "    # Run FastAPI app\n",
        "    uvicorn.run(app, host=\"0.0.0.0\", port=8000)"
      ],
      "metadata": {
        "colab": {
          "base_uri": "https://localhost:8080/",
          "height": 538
        },
        "id": "JnrVjdqY7-KN",
        "outputId": "71258c78-758b-42f0-f03e-61e871218e9a"
      },
      "execution_count": 70,
      "outputs": [
        {
          "output_type": "stream",
          "name": "stdout",
          "text": []
        },
        {
          "output_type": "stream",
          "name": "stderr",
          "text": [
            "ERROR:pyngrok.process.ngrok:t=2025-01-27T11:13:14+0000 lvl=eror msg=\"failed to reconnect session\" obj=tunnels.session err=\"authentication failed: Usage of ngrok requires a verified account and authtoken.\\n\\nSign up for an account: https://dashboard.ngrok.com/signup\\nInstall your authtoken: https://dashboard.ngrok.com/get-started/your-authtoken\\r\\n\\r\\nERR_NGROK_4018\\r\\n\"\n",
            "ERROR:pyngrok.process.ngrok:t=2025-01-27T11:13:14+0000 lvl=eror msg=\"session closing\" obj=tunnels.session err=\"authentication failed: Usage of ngrok requires a verified account and authtoken.\\n\\nSign up for an account: https://dashboard.ngrok.com/signup\\nInstall your authtoken: https://dashboard.ngrok.com/get-started/your-authtoken\\r\\n\\r\\nERR_NGROK_4018\\r\\n\"\n",
            "ERROR:pyngrok.process.ngrok:t=2025-01-27T11:13:14+0000 lvl=eror msg=\"terminating with error\" obj=app err=\"authentication failed: Usage of ngrok requires a verified account and authtoken.\\n\\nSign up for an account: https://dashboard.ngrok.com/signup\\nInstall your authtoken: https://dashboard.ngrok.com/get-started/your-authtoken\\r\\n\\r\\nERR_NGROK_4018\\r\\n\"\n",
            "CRITICAL:pyngrok.process.ngrok:t=2025-01-27T11:13:14+0000 lvl=crit msg=\"command failed\" err=\"authentication failed: Usage of ngrok requires a verified account and authtoken.\\n\\nSign up for an account: https://dashboard.ngrok.com/signup\\nInstall your authtoken: https://dashboard.ngrok.com/get-started/your-authtoken\\r\\n\\r\\nERR_NGROK_4018\\r\\n\"\n"
          ]
        },
        {
          "output_type": "error",
          "ename": "PyngrokNgrokError",
          "evalue": "The ngrok process errored on start: authentication failed: Usage of ngrok requires a verified account and authtoken.\\n\\nSign up for an account: https://dashboard.ngrok.com/signup\\nInstall your authtoken: https://dashboard.ngrok.com/get-started/your-authtoken\\r\\n\\r\\nERR_NGROK_4018\\r\\n.",
          "traceback": [
            "\u001b[0;31m---------------------------------------------------------------------------\u001b[0m",
            "\u001b[0;31mPyngrokNgrokError\u001b[0m                         Traceback (most recent call last)",
            "\u001b[0;32m<ipython-input-70-5a6c871884c5>\u001b[0m in \u001b[0;36m<cell line: 0>\u001b[0;34m()\u001b[0m\n\u001b[1;32m    156\u001b[0m \u001b[0;32mif\u001b[0m \u001b[0m__name__\u001b[0m \u001b[0;34m==\u001b[0m \u001b[0;34m\"__main__\"\u001b[0m\u001b[0;34m:\u001b[0m\u001b[0;34m\u001b[0m\u001b[0;34m\u001b[0m\u001b[0m\n\u001b[1;32m    157\u001b[0m     \u001b[0;31m# Start Ngrok tunnel\u001b[0m\u001b[0;34m\u001b[0m\u001b[0;34m\u001b[0m\u001b[0m\n\u001b[0;32m--> 158\u001b[0;31m     \u001b[0mngrok_tunnel\u001b[0m \u001b[0;34m=\u001b[0m \u001b[0mngrok\u001b[0m\u001b[0;34m.\u001b[0m\u001b[0mconnect\u001b[0m\u001b[0;34m(\u001b[0m\u001b[0;36m8000\u001b[0m\u001b[0;34m)\u001b[0m\u001b[0;34m\u001b[0m\u001b[0;34m\u001b[0m\u001b[0m\n\u001b[0m\u001b[1;32m    159\u001b[0m     \u001b[0mprint\u001b[0m\u001b[0;34m(\u001b[0m\u001b[0;34mf\"Ngrok Tunnel URL: {ngrok_tunnel.public_url}\"\u001b[0m\u001b[0;34m)\u001b[0m\u001b[0;34m\u001b[0m\u001b[0;34m\u001b[0m\u001b[0m\n\u001b[1;32m    160\u001b[0m \u001b[0;34m\u001b[0m\u001b[0m\n",
            "\u001b[0;32m/usr/local/lib/python3.11/dist-packages/pyngrok/ngrok.py\u001b[0m in \u001b[0;36mconnect\u001b[0;34m(addr, proto, name, pyngrok_config, **options)\u001b[0m\n\u001b[1;32m    349\u001b[0m     \u001b[0mlogger\u001b[0m\u001b[0;34m.\u001b[0m\u001b[0minfo\u001b[0m\u001b[0;34m(\u001b[0m\u001b[0;34mf\"Opening tunnel named: {name}\"\u001b[0m\u001b[0;34m)\u001b[0m\u001b[0;34m\u001b[0m\u001b[0;34m\u001b[0m\u001b[0m\n\u001b[1;32m    350\u001b[0m \u001b[0;34m\u001b[0m\u001b[0m\n\u001b[0;32m--> 351\u001b[0;31m     \u001b[0mapi_url\u001b[0m \u001b[0;34m=\u001b[0m \u001b[0mget_ngrok_process\u001b[0m\u001b[0;34m(\u001b[0m\u001b[0mpyngrok_config\u001b[0m\u001b[0;34m)\u001b[0m\u001b[0;34m.\u001b[0m\u001b[0mapi_url\u001b[0m\u001b[0;34m\u001b[0m\u001b[0;34m\u001b[0m\u001b[0m\n\u001b[0m\u001b[1;32m    352\u001b[0m \u001b[0;34m\u001b[0m\u001b[0m\n\u001b[1;32m    353\u001b[0m     \u001b[0mlogger\u001b[0m\u001b[0;34m.\u001b[0m\u001b[0mdebug\u001b[0m\u001b[0;34m(\u001b[0m\u001b[0;34mf\"Creating tunnel with options: {options}\"\u001b[0m\u001b[0;34m)\u001b[0m\u001b[0;34m\u001b[0m\u001b[0;34m\u001b[0m\u001b[0m\n",
            "\u001b[0;32m/usr/local/lib/python3.11/dist-packages/pyngrok/ngrok.py\u001b[0m in \u001b[0;36mget_ngrok_process\u001b[0;34m(pyngrok_config)\u001b[0m\n\u001b[1;32m    174\u001b[0m     \u001b[0minstall_ngrok\u001b[0m\u001b[0;34m(\u001b[0m\u001b[0mpyngrok_config\u001b[0m\u001b[0;34m)\u001b[0m\u001b[0;34m\u001b[0m\u001b[0;34m\u001b[0m\u001b[0m\n\u001b[1;32m    175\u001b[0m \u001b[0;34m\u001b[0m\u001b[0m\n\u001b[0;32m--> 176\u001b[0;31m     \u001b[0;32mreturn\u001b[0m \u001b[0mprocess\u001b[0m\u001b[0;34m.\u001b[0m\u001b[0mget_process\u001b[0m\u001b[0;34m(\u001b[0m\u001b[0mpyngrok_config\u001b[0m\u001b[0;34m)\u001b[0m\u001b[0;34m\u001b[0m\u001b[0;34m\u001b[0m\u001b[0m\n\u001b[0m\u001b[1;32m    177\u001b[0m \u001b[0;34m\u001b[0m\u001b[0m\n\u001b[1;32m    178\u001b[0m \u001b[0;34m\u001b[0m\u001b[0m\n",
            "\u001b[0;32m/usr/local/lib/python3.11/dist-packages/pyngrok/process.py\u001b[0m in \u001b[0;36mget_process\u001b[0;34m(pyngrok_config)\u001b[0m\n\u001b[1;32m    263\u001b[0m         \u001b[0;32mreturn\u001b[0m \u001b[0m_current_processes\u001b[0m\u001b[0;34m[\u001b[0m\u001b[0mpyngrok_config\u001b[0m\u001b[0;34m.\u001b[0m\u001b[0mngrok_path\u001b[0m\u001b[0;34m]\u001b[0m\u001b[0;34m\u001b[0m\u001b[0;34m\u001b[0m\u001b[0m\n\u001b[1;32m    264\u001b[0m \u001b[0;34m\u001b[0m\u001b[0m\n\u001b[0;32m--> 265\u001b[0;31m     \u001b[0;32mreturn\u001b[0m \u001b[0m_start_process\u001b[0m\u001b[0;34m(\u001b[0m\u001b[0mpyngrok_config\u001b[0m\u001b[0;34m)\u001b[0m\u001b[0;34m\u001b[0m\u001b[0;34m\u001b[0m\u001b[0m\n\u001b[0m\u001b[1;32m    266\u001b[0m \u001b[0;34m\u001b[0m\u001b[0m\n\u001b[1;32m    267\u001b[0m \u001b[0;34m\u001b[0m\u001b[0m\n",
            "\u001b[0;32m/usr/local/lib/python3.11/dist-packages/pyngrok/process.py\u001b[0m in \u001b[0;36m_start_process\u001b[0;34m(pyngrok_config)\u001b[0m\n\u001b[1;32m    426\u001b[0m \u001b[0;34m\u001b[0m\u001b[0m\n\u001b[1;32m    427\u001b[0m         \u001b[0;32mif\u001b[0m \u001b[0mngrok_process\u001b[0m\u001b[0;34m.\u001b[0m\u001b[0mstartup_error\u001b[0m \u001b[0;32mis\u001b[0m \u001b[0;32mnot\u001b[0m \u001b[0;32mNone\u001b[0m\u001b[0;34m:\u001b[0m\u001b[0;34m\u001b[0m\u001b[0;34m\u001b[0m\u001b[0m\n\u001b[0;32m--> 428\u001b[0;31m             raise PyngrokNgrokError(f\"The ngrok process errored on start: {ngrok_process.startup_error}.\",\n\u001b[0m\u001b[1;32m    429\u001b[0m                                     \u001b[0mngrok_process\u001b[0m\u001b[0;34m.\u001b[0m\u001b[0mlogs\u001b[0m\u001b[0;34m,\u001b[0m\u001b[0;34m\u001b[0m\u001b[0;34m\u001b[0m\u001b[0m\n\u001b[1;32m    430\u001b[0m                                     ngrok_process.startup_error)\n",
            "\u001b[0;31mPyngrokNgrokError\u001b[0m: The ngrok process errored on start: authentication failed: Usage of ngrok requires a verified account and authtoken.\\n\\nSign up for an account: https://dashboard.ngrok.com/signup\\nInstall your authtoken: https://dashboard.ngrok.com/get-started/your-authtoken\\r\\n\\r\\nERR_NGROK_4018\\r\\n."
          ]
        }
      ]
    }
  ]
}